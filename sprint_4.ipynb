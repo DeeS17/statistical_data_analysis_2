{
  "cells": [
    {
      "cell_type": "markdown",
      "metadata": {
        "id": "view-in-github",
        "colab_type": "text"
      },
      "source": [
        "<a href=\"https://colab.research.google.com/github/DeeS17/statistical_data_analysis_2/blob/main/sprint_4.ipynb\" target=\"_parent\"><img src=\"https://colab.research.google.com/assets/colab-badge.svg\" alt=\"Open In Colab\"/></a>"
      ]
    },
    {
      "cell_type": "markdown",
      "metadata": {
        "id": "3LU333RvTY-f"
      },
      "source": [
        "## Konten\n",
        "* Tahap 1:  Pra-Pemrosesan Data\n",
        "    * Memuat Data\n",
        "    * Mengganti Nama Kolom Menjadi `Lower Case`\n",
        "    * Mengkonversi Tipe Data yang Dibutuhkan\n",
        "    * Periksa Data Duplikat\n",
        "    * Menangani Nilai yang Hilang\n",
        "        * name\n",
        "        * genre\n",
        "        * critic_score\n",
        "        * rating\n",
        "    * Total Penjualan\n",
        "* Tahap 2: Analisa Data\n",
        "    * Jumlah Game Dirilis per Tahun\n",
        "    * Penjualan Berdasarkan Platform\n",
        "        * Platform dengan Penjualan Terbesar\n",
        "        * Penjualan Platform yang Masih Aktif Hingga 2016\n",
        "        * Boxplot dan Rata-Rata Penjualan Platform yang Masih Aktif\n",
        "        * Korelasi antara Ulasan dengan Penjualan\n",
        "            * critic_score\n",
        "            * user_score\n",
        "        * Penjualan Suatu Game pada Berbagai Platform\n",
        "     * Penjualan Berdasarkan Genre\n",
        "         * Number of Game by Genre\n",
        "         * Sales by Genre\n",
        "* Tahap 3:Profil Penjualan pada Masing - Masing Wilayah\n",
        "    * Platform\n",
        "        * North America Sales by Platform\n",
        "        * Europe Sales by Platform\n",
        "        * Japan Sales by Platform\n",
        "    * Genre\n",
        "        * North America Sales by Genre\n",
        "        * Europe Sales by Genre\n",
        "        * Japan Sales by Genre\n",
        "    * Rating\n",
        "        * North America Sales by Rating\n",
        "        * Europe Sales by Rating\n",
        "        * Japan Sales by Rating\n",
        "*Tahap 4: Uji Hipotesis\n",
        "    * Rating Pengguna Xbox One Dibandingkan dengan Rating Pengguna PC\n",
        "    * Rating Pengguna Game Genre Action Dibandingkan dengan Rating Pengguna Genre Sports\n",
        "*Tahap 5: Kesimpulan"
      ]
    },
    {
      "cell_type": "markdown",
      "metadata": {
        "id": "Ftm3_3N4TY-h"
      },
      "source": [
        "### Pendahuluan\n",
        "Toko daring \"Ice\" merupakan toko daring yang menjual video game dari seluruh dunia. Mereka ingin menemukan game yang potensial sehingga dapat membantu membuat kampanye marketingnya di tahun 2017. Karena itu saya akan menggali informasi menggunakan data terkait ulasan pengguna dan ahli game, genre, platform (misalnya Xbox atau PlayStation), dan data historis penjualan game tersedia dari sumber terbuka. Data tersebut dari awal era video game dimulai hingga tahun 2016."
      ]
    },
    {
      "cell_type": "markdown",
      "metadata": {
        "id": "ezllg33_TY-h"
      },
      "source": [
        "#### Tujuan"
      ]
    },
    {
      "cell_type": "markdown",
      "metadata": {
        "id": "kdNyR4fqTY-i"
      },
      "source": [
        "Untuk mengetahui game seperti apa yang lebih digemari oleh gamers, saya akan menguji dua hipotesis:\n",
        "- Apakah ada Perbedaan Rating Pengguna antara Xbox One dengan PC\n",
        "- Apakah ada Perbedaan Rating Penggunaa antara Game dengan Genre Action dengan Genre Sports "
      ]
    },
    {
      "cell_type": "markdown",
      "metadata": {
        "id": "qmLVWA4sTY-k"
      },
      "source": [
        "#### Tahapan\n",
        "- Pra-pemrosesan Data:  \n",
        "- Analisa Data\n",
        "- Profil Penjualan pada Masing - Masing Wilayah\n",
        "- Uji Hipotesis\n",
        "- Kesimpulan"
      ]
    },
    {
      "cell_type": "markdown",
      "metadata": {
        "id": "a0TBbWROTY-l"
      },
      "source": [
        "## Pra-pemrosesan Data"
      ]
    },
    {
      "cell_type": "code",
      "execution_count": null,
      "metadata": {
        "id": "oYMMMyccTY-m"
      },
      "outputs": [],
      "source": [
        "import pandas as pd\n",
        "import matplotlib.pyplot as plt\n",
        "import seaborn as sns\n",
        "from scipy.stats import ttest_ind\n",
        "import numpy as py\n",
        "import math"
      ]
    },
    {
      "cell_type": "markdown",
      "metadata": {
        "id": "ZrAmFaK_TY-o"
      },
      "source": [
        "### Memuat Data"
      ]
    },
    {
      "cell_type": "code",
      "execution_count": null,
      "metadata": {
        "scrolled": true,
        "id": "W92M1Hl6TY-o",
        "outputId": "f27a65e7-a19d-4068-9111-a1566ee09513"
      },
      "outputs": [
        {
          "data": {
            "text/html": [
              "<div>\n",
              "<style scoped>\n",
              "    .dataframe tbody tr th:only-of-type {\n",
              "        vertical-align: middle;\n",
              "    }\n",
              "\n",
              "    .dataframe tbody tr th {\n",
              "        vertical-align: top;\n",
              "    }\n",
              "\n",
              "    .dataframe thead th {\n",
              "        text-align: right;\n",
              "    }\n",
              "</style>\n",
              "<table border=\"1\" class=\"dataframe\">\n",
              "  <thead>\n",
              "    <tr style=\"text-align: right;\">\n",
              "      <th></th>\n",
              "      <th>Name</th>\n",
              "      <th>Platform</th>\n",
              "      <th>Year_of_Release</th>\n",
              "      <th>Genre</th>\n",
              "      <th>NA_sales</th>\n",
              "      <th>EU_sales</th>\n",
              "      <th>JP_sales</th>\n",
              "      <th>Other_sales</th>\n",
              "      <th>Critic_Score</th>\n",
              "      <th>User_Score</th>\n",
              "      <th>Rating</th>\n",
              "    </tr>\n",
              "  </thead>\n",
              "  <tbody>\n",
              "    <tr>\n",
              "      <th>0</th>\n",
              "      <td>Wii Sports</td>\n",
              "      <td>Wii</td>\n",
              "      <td>2006.0</td>\n",
              "      <td>Sports</td>\n",
              "      <td>41.36</td>\n",
              "      <td>28.96</td>\n",
              "      <td>3.77</td>\n",
              "      <td>8.45</td>\n",
              "      <td>76.0</td>\n",
              "      <td>8</td>\n",
              "      <td>E</td>\n",
              "    </tr>\n",
              "    <tr>\n",
              "      <th>1</th>\n",
              "      <td>Super Mario Bros.</td>\n",
              "      <td>NES</td>\n",
              "      <td>1985.0</td>\n",
              "      <td>Platform</td>\n",
              "      <td>29.08</td>\n",
              "      <td>3.58</td>\n",
              "      <td>6.81</td>\n",
              "      <td>0.77</td>\n",
              "      <td>NaN</td>\n",
              "      <td>NaN</td>\n",
              "      <td>NaN</td>\n",
              "    </tr>\n",
              "    <tr>\n",
              "      <th>2</th>\n",
              "      <td>Mario Kart Wii</td>\n",
              "      <td>Wii</td>\n",
              "      <td>2008.0</td>\n",
              "      <td>Racing</td>\n",
              "      <td>15.68</td>\n",
              "      <td>12.76</td>\n",
              "      <td>3.79</td>\n",
              "      <td>3.29</td>\n",
              "      <td>82.0</td>\n",
              "      <td>8.3</td>\n",
              "      <td>E</td>\n",
              "    </tr>\n",
              "    <tr>\n",
              "      <th>3</th>\n",
              "      <td>Wii Sports Resort</td>\n",
              "      <td>Wii</td>\n",
              "      <td>2009.0</td>\n",
              "      <td>Sports</td>\n",
              "      <td>15.61</td>\n",
              "      <td>10.93</td>\n",
              "      <td>3.28</td>\n",
              "      <td>2.95</td>\n",
              "      <td>80.0</td>\n",
              "      <td>8</td>\n",
              "      <td>E</td>\n",
              "    </tr>\n",
              "    <tr>\n",
              "      <th>4</th>\n",
              "      <td>Pokemon Red/Pokemon Blue</td>\n",
              "      <td>GB</td>\n",
              "      <td>1996.0</td>\n",
              "      <td>Role-Playing</td>\n",
              "      <td>11.27</td>\n",
              "      <td>8.89</td>\n",
              "      <td>10.22</td>\n",
              "      <td>1.00</td>\n",
              "      <td>NaN</td>\n",
              "      <td>NaN</td>\n",
              "      <td>NaN</td>\n",
              "    </tr>\n",
              "  </tbody>\n",
              "</table>\n",
              "</div>"
            ],
            "text/plain": [
              "                       Name Platform  Year_of_Release         Genre  NA_sales  \\\n",
              "0                Wii Sports      Wii           2006.0        Sports     41.36   \n",
              "1         Super Mario Bros.      NES           1985.0      Platform     29.08   \n",
              "2            Mario Kart Wii      Wii           2008.0        Racing     15.68   \n",
              "3         Wii Sports Resort      Wii           2009.0        Sports     15.61   \n",
              "4  Pokemon Red/Pokemon Blue       GB           1996.0  Role-Playing     11.27   \n",
              "\n",
              "   EU_sales  JP_sales  Other_sales  Critic_Score User_Score Rating  \n",
              "0     28.96      3.77         8.45          76.0          8      E  \n",
              "1      3.58      6.81         0.77           NaN        NaN    NaN  \n",
              "2     12.76      3.79         3.29          82.0        8.3      E  \n",
              "3     10.93      3.28         2.95          80.0          8      E  \n",
              "4      8.89     10.22         1.00           NaN        NaN    NaN  "
            ]
          },
          "execution_count": 2,
          "metadata": {},
          "output_type": "execute_result"
        }
      ],
      "source": [
        "df = pd.read_csv('/datasets/games.csv')\n",
        "df.head()"
      ]
    },
    {
      "cell_type": "markdown",
      "metadata": {
        "id": "zSdDKbQzTY-p"
      },
      "source": [
        "Data telah berhasil dimuat."
      ]
    },
    {
      "cell_type": "code",
      "execution_count": null,
      "metadata": {
        "scrolled": true,
        "id": "O0nYTrWmTY-p",
        "outputId": "8f4f974f-9c9f-4c1c-e20f-b739c2d7da2c"
      },
      "outputs": [
        {
          "name": "stdout",
          "output_type": "stream",
          "text": [
            "<class 'pandas.core.frame.DataFrame'>\n",
            "RangeIndex: 16715 entries, 0 to 16714\n",
            "Data columns (total 11 columns):\n",
            " #   Column           Non-Null Count  Dtype  \n",
            "---  ------           --------------  -----  \n",
            " 0   Name             16713 non-null  object \n",
            " 1   Platform         16715 non-null  object \n",
            " 2   Year_of_Release  16446 non-null  float64\n",
            " 3   Genre            16713 non-null  object \n",
            " 4   NA_sales         16715 non-null  float64\n",
            " 5   EU_sales         16715 non-null  float64\n",
            " 6   JP_sales         16715 non-null  float64\n",
            " 7   Other_sales      16715 non-null  float64\n",
            " 8   Critic_Score     8137 non-null   float64\n",
            " 9   User_Score       10014 non-null  object \n",
            " 10  Rating           9949 non-null   object \n",
            "dtypes: float64(6), object(5)\n",
            "memory usage: 1.4+ MB\n"
          ]
        }
      ],
      "source": [
        "df.info()"
      ]
    },
    {
      "cell_type": "markdown",
      "metadata": {
        "id": "N_30VyLKTY-q"
      },
      "source": [
        "Dari data yang diupload, total ada `16,715` baris data. Ada beberapa kolom yang memiliki data yang hilang. Kolom-kolom tersebut adalah:\n",
        "- Name\n",
        "- Year_of_Release\n",
        "- Genre            \n",
        "- Critic_Score\n",
        "- User_Score\n",
        "- Rating\n",
        "\n",
        "Hal tersebut akan ditinjau pada tahap selanjutnya."
      ]
    },
    {
      "cell_type": "code",
      "execution_count": null,
      "metadata": {
        "id": "3qJ7Sb7gTY-q",
        "outputId": "9c2b1d3b-c64f-43ff-db92-28f923f384b0"
      },
      "outputs": [
        {
          "name": "stdout",
          "output_type": "stream",
          "text": [
            "Kolom Name memiliki 2 data hilang\n",
            "Kolom Year_of_Release memiliki 269 data hilang\n",
            "Kolom Genre memiliki 2 data hilang\n",
            "Kolom Critic_Score memiliki 8578 data hilang\n",
            "Kolom User_Score memiliki 6701 data hilang\n",
            "Kolom Rating memiliki 6766 data hilang\n"
          ]
        }
      ],
      "source": [
        "for name in df.columns:\n",
        "    data_hilang = df[name].isna().sum()\n",
        "    if data_hilang > 0:\n",
        "        print('Kolom '+ name + ' memiliki '+ str(data_hilang) + ' data hilang')"
      ]
    },
    {
      "cell_type": "code",
      "execution_count": null,
      "metadata": {
        "id": "cjd9Uem8TY-q",
        "outputId": "c15e5620-0317-417d-88b6-da54cf6c82d6"
      },
      "outputs": [
        {
          "data": {
            "text/html": [
              "<div>\n",
              "<style scoped>\n",
              "    .dataframe tbody tr th:only-of-type {\n",
              "        vertical-align: middle;\n",
              "    }\n",
              "\n",
              "    .dataframe tbody tr th {\n",
              "        vertical-align: top;\n",
              "    }\n",
              "\n",
              "    .dataframe thead th {\n",
              "        text-align: right;\n",
              "    }\n",
              "</style>\n",
              "<table border=\"1\" class=\"dataframe\">\n",
              "  <thead>\n",
              "    <tr style=\"text-align: right;\">\n",
              "      <th></th>\n",
              "      <th>Year_of_Release</th>\n",
              "      <th>NA_sales</th>\n",
              "      <th>EU_sales</th>\n",
              "      <th>JP_sales</th>\n",
              "      <th>Other_sales</th>\n",
              "      <th>Critic_Score</th>\n",
              "    </tr>\n",
              "  </thead>\n",
              "  <tbody>\n",
              "    <tr>\n",
              "      <th>count</th>\n",
              "      <td>16446.000000</td>\n",
              "      <td>16715.000000</td>\n",
              "      <td>16715.000000</td>\n",
              "      <td>16715.000000</td>\n",
              "      <td>16715.000000</td>\n",
              "      <td>8137.000000</td>\n",
              "    </tr>\n",
              "    <tr>\n",
              "      <th>mean</th>\n",
              "      <td>2006.484616</td>\n",
              "      <td>0.263377</td>\n",
              "      <td>0.145060</td>\n",
              "      <td>0.077617</td>\n",
              "      <td>0.047342</td>\n",
              "      <td>68.967679</td>\n",
              "    </tr>\n",
              "    <tr>\n",
              "      <th>std</th>\n",
              "      <td>5.877050</td>\n",
              "      <td>0.813604</td>\n",
              "      <td>0.503339</td>\n",
              "      <td>0.308853</td>\n",
              "      <td>0.186731</td>\n",
              "      <td>13.938165</td>\n",
              "    </tr>\n",
              "    <tr>\n",
              "      <th>min</th>\n",
              "      <td>1980.000000</td>\n",
              "      <td>0.000000</td>\n",
              "      <td>0.000000</td>\n",
              "      <td>0.000000</td>\n",
              "      <td>0.000000</td>\n",
              "      <td>13.000000</td>\n",
              "    </tr>\n",
              "    <tr>\n",
              "      <th>25%</th>\n",
              "      <td>2003.000000</td>\n",
              "      <td>0.000000</td>\n",
              "      <td>0.000000</td>\n",
              "      <td>0.000000</td>\n",
              "      <td>0.000000</td>\n",
              "      <td>60.000000</td>\n",
              "    </tr>\n",
              "    <tr>\n",
              "      <th>50%</th>\n",
              "      <td>2007.000000</td>\n",
              "      <td>0.080000</td>\n",
              "      <td>0.020000</td>\n",
              "      <td>0.000000</td>\n",
              "      <td>0.010000</td>\n",
              "      <td>71.000000</td>\n",
              "    </tr>\n",
              "    <tr>\n",
              "      <th>75%</th>\n",
              "      <td>2010.000000</td>\n",
              "      <td>0.240000</td>\n",
              "      <td>0.110000</td>\n",
              "      <td>0.040000</td>\n",
              "      <td>0.030000</td>\n",
              "      <td>79.000000</td>\n",
              "    </tr>\n",
              "    <tr>\n",
              "      <th>max</th>\n",
              "      <td>2016.000000</td>\n",
              "      <td>41.360000</td>\n",
              "      <td>28.960000</td>\n",
              "      <td>10.220000</td>\n",
              "      <td>10.570000</td>\n",
              "      <td>98.000000</td>\n",
              "    </tr>\n",
              "  </tbody>\n",
              "</table>\n",
              "</div>"
            ],
            "text/plain": [
              "       Year_of_Release      NA_sales      EU_sales      JP_sales  \\\n",
              "count     16446.000000  16715.000000  16715.000000  16715.000000   \n",
              "mean       2006.484616      0.263377      0.145060      0.077617   \n",
              "std           5.877050      0.813604      0.503339      0.308853   \n",
              "min        1980.000000      0.000000      0.000000      0.000000   \n",
              "25%        2003.000000      0.000000      0.000000      0.000000   \n",
              "50%        2007.000000      0.080000      0.020000      0.000000   \n",
              "75%        2010.000000      0.240000      0.110000      0.040000   \n",
              "max        2016.000000     41.360000     28.960000     10.220000   \n",
              "\n",
              "        Other_sales  Critic_Score  \n",
              "count  16715.000000   8137.000000  \n",
              "mean       0.047342     68.967679  \n",
              "std        0.186731     13.938165  \n",
              "min        0.000000     13.000000  \n",
              "25%        0.000000     60.000000  \n",
              "50%        0.010000     71.000000  \n",
              "75%        0.030000     79.000000  \n",
              "max       10.570000     98.000000  "
            ]
          },
          "execution_count": 5,
          "metadata": {},
          "output_type": "execute_result"
        }
      ],
      "source": [
        "df.describe()"
      ]
    },
    {
      "cell_type": "markdown",
      "metadata": {
        "id": "sdoDowTtTY-r"
      },
      "source": [
        "Sekilas dari deskripsi data diatas memperlihatkan bahwa wilayan `North America` merupakan wilayan dengan penjualan game terbesar dibandingkan wilayah lainnya. Dengan nilai penjualan game terbesar dan dengan rata-rata tertinggi."
      ]
    },
    {
      "cell_type": "markdown",
      "metadata": {
        "id": "lUL6gdX9TY-r"
      },
      "source": [
        "### Mengganti Nama Kolom Menjadi `Lower Case`"
      ]
    },
    {
      "cell_type": "code",
      "execution_count": null,
      "metadata": {
        "id": "zgdVujvnTY-s",
        "outputId": "8647c38b-42c2-4c40-9c7a-03b47f25cfcc"
      },
      "outputs": [
        {
          "data": {
            "text/html": [
              "<div>\n",
              "<style scoped>\n",
              "    .dataframe tbody tr th:only-of-type {\n",
              "        vertical-align: middle;\n",
              "    }\n",
              "\n",
              "    .dataframe tbody tr th {\n",
              "        vertical-align: top;\n",
              "    }\n",
              "\n",
              "    .dataframe thead th {\n",
              "        text-align: right;\n",
              "    }\n",
              "</style>\n",
              "<table border=\"1\" class=\"dataframe\">\n",
              "  <thead>\n",
              "    <tr style=\"text-align: right;\">\n",
              "      <th></th>\n",
              "      <th>name</th>\n",
              "      <th>platform</th>\n",
              "      <th>year_of_release</th>\n",
              "      <th>genre</th>\n",
              "      <th>na_sales</th>\n",
              "      <th>eu_sales</th>\n",
              "      <th>jp_sales</th>\n",
              "      <th>other_sales</th>\n",
              "      <th>critic_score</th>\n",
              "      <th>user_score</th>\n",
              "      <th>rating</th>\n",
              "    </tr>\n",
              "  </thead>\n",
              "  <tbody>\n",
              "    <tr>\n",
              "      <th>0</th>\n",
              "      <td>Wii Sports</td>\n",
              "      <td>Wii</td>\n",
              "      <td>2006.0</td>\n",
              "      <td>Sports</td>\n",
              "      <td>41.36</td>\n",
              "      <td>28.96</td>\n",
              "      <td>3.77</td>\n",
              "      <td>8.45</td>\n",
              "      <td>76.0</td>\n",
              "      <td>8</td>\n",
              "      <td>E</td>\n",
              "    </tr>\n",
              "    <tr>\n",
              "      <th>1</th>\n",
              "      <td>Super Mario Bros.</td>\n",
              "      <td>NES</td>\n",
              "      <td>1985.0</td>\n",
              "      <td>Platform</td>\n",
              "      <td>29.08</td>\n",
              "      <td>3.58</td>\n",
              "      <td>6.81</td>\n",
              "      <td>0.77</td>\n",
              "      <td>NaN</td>\n",
              "      <td>NaN</td>\n",
              "      <td>NaN</td>\n",
              "    </tr>\n",
              "    <tr>\n",
              "      <th>2</th>\n",
              "      <td>Mario Kart Wii</td>\n",
              "      <td>Wii</td>\n",
              "      <td>2008.0</td>\n",
              "      <td>Racing</td>\n",
              "      <td>15.68</td>\n",
              "      <td>12.76</td>\n",
              "      <td>3.79</td>\n",
              "      <td>3.29</td>\n",
              "      <td>82.0</td>\n",
              "      <td>8.3</td>\n",
              "      <td>E</td>\n",
              "    </tr>\n",
              "    <tr>\n",
              "      <th>3</th>\n",
              "      <td>Wii Sports Resort</td>\n",
              "      <td>Wii</td>\n",
              "      <td>2009.0</td>\n",
              "      <td>Sports</td>\n",
              "      <td>15.61</td>\n",
              "      <td>10.93</td>\n",
              "      <td>3.28</td>\n",
              "      <td>2.95</td>\n",
              "      <td>80.0</td>\n",
              "      <td>8</td>\n",
              "      <td>E</td>\n",
              "    </tr>\n",
              "    <tr>\n",
              "      <th>4</th>\n",
              "      <td>Pokemon Red/Pokemon Blue</td>\n",
              "      <td>GB</td>\n",
              "      <td>1996.0</td>\n",
              "      <td>Role-Playing</td>\n",
              "      <td>11.27</td>\n",
              "      <td>8.89</td>\n",
              "      <td>10.22</td>\n",
              "      <td>1.00</td>\n",
              "      <td>NaN</td>\n",
              "      <td>NaN</td>\n",
              "      <td>NaN</td>\n",
              "    </tr>\n",
              "  </tbody>\n",
              "</table>\n",
              "</div>"
            ],
            "text/plain": [
              "                       name platform  year_of_release         genre  na_sales  \\\n",
              "0                Wii Sports      Wii           2006.0        Sports     41.36   \n",
              "1         Super Mario Bros.      NES           1985.0      Platform     29.08   \n",
              "2            Mario Kart Wii      Wii           2008.0        Racing     15.68   \n",
              "3         Wii Sports Resort      Wii           2009.0        Sports     15.61   \n",
              "4  Pokemon Red/Pokemon Blue       GB           1996.0  Role-Playing     11.27   \n",
              "\n",
              "   eu_sales  jp_sales  other_sales  critic_score user_score rating  \n",
              "0     28.96      3.77         8.45          76.0          8      E  \n",
              "1      3.58      6.81         0.77           NaN        NaN    NaN  \n",
              "2     12.76      3.79         3.29          82.0        8.3      E  \n",
              "3     10.93      3.28         2.95          80.0          8      E  \n",
              "4      8.89     10.22         1.00           NaN        NaN    NaN  "
            ]
          },
          "execution_count": 6,
          "metadata": {},
          "output_type": "execute_result"
        }
      ],
      "source": [
        "columns_name = df.columns\n",
        "new_columns_name = []\n",
        "\n",
        "for name in columns_name:\n",
        "    name = name.lower()\n",
        "    new_columns_name.append(name)\n",
        "\n",
        "df.columns = new_columns_name\n",
        "df.head()"
      ]
    },
    {
      "cell_type": "markdown",
      "metadata": {
        "id": "5d6tKvaKTY-s"
      },
      "source": [
        "Nama kolom telah diganti menjadi `lower case`."
      ]
    },
    {
      "cell_type": "markdown",
      "metadata": {
        "id": "vP6v9rfhTY-t"
      },
      "source": [
        "### Mengkonversi Tipe Data yang Dibutuhkan"
      ]
    },
    {
      "cell_type": "code",
      "execution_count": null,
      "metadata": {
        "scrolled": false,
        "id": "G4JAm5HMTY-t",
        "outputId": "b4719a02-3e5f-49e9-bd11-f708ceafcdc2"
      },
      "outputs": [
        {
          "name": "stdout",
          "output_type": "stream",
          "text": [
            "<class 'pandas.core.frame.DataFrame'>\n",
            "RangeIndex: 16715 entries, 0 to 16714\n",
            "Data columns (total 11 columns):\n",
            " #   Column           Non-Null Count  Dtype  \n",
            "---  ------           --------------  -----  \n",
            " 0   name             16713 non-null  object \n",
            " 1   platform         16715 non-null  object \n",
            " 2   year_of_release  16446 non-null  float64\n",
            " 3   genre            16713 non-null  object \n",
            " 4   na_sales         16715 non-null  float64\n",
            " 5   eu_sales         16715 non-null  float64\n",
            " 6   jp_sales         16715 non-null  float64\n",
            " 7   other_sales      16715 non-null  float64\n",
            " 8   critic_score     8137 non-null   float64\n",
            " 9   user_score       10014 non-null  object \n",
            " 10  rating           9949 non-null   object \n",
            "dtypes: float64(6), object(5)\n",
            "memory usage: 1.4+ MB\n"
          ]
        }
      ],
      "source": [
        "df.info()"
      ]
    },
    {
      "cell_type": "code",
      "execution_count": null,
      "metadata": {
        "scrolled": true,
        "id": "kFamfjTvTY-t",
        "outputId": "63b31837-76db-4d75-ec49-efb7786b426e"
      },
      "outputs": [
        {
          "data": {
            "text/plain": [
              "array(['8', nan, '8.3', '8.5', '6.6', '8.4', '8.6', '7.7', '6.3', '7.4',\n",
              "       '8.2', '9', '7.9', '8.1', '8.7', '7.1', '3.4', '5.3', '4.8', '3.2',\n",
              "       '8.9', '6.4', '7.8', '7.5', '2.6', '7.2', '9.2', '7', '7.3', '4.3',\n",
              "       '7.6', '5.7', '5', '9.1', '6.5', 'tbd', '8.8', '6.9', '9.4', '6.8',\n",
              "       '6.1', '6.7', '5.4', '4', '4.9', '4.5', '9.3', '6.2', '4.2', '6',\n",
              "       '3.7', '4.1', '5.8', '5.6', '5.5', '4.4', '4.6', '5.9', '3.9',\n",
              "       '3.1', '2.9', '5.2', '3.3', '4.7', '5.1', '3.5', '2.5', '1.9', '3',\n",
              "       '2.7', '2.2', '2', '9.5', '2.1', '3.6', '2.8', '1.8', '3.8', '0',\n",
              "       '1.6', '9.6', '2.4', '1.7', '1.1', '0.3', '1.5', '0.7', '1.2',\n",
              "       '2.3', '0.5', '1.3', '0.2', '0.6', '1.4', '0.9', '1', '9.7'],\n",
              "      dtype=object)"
            ]
          },
          "execution_count": 8,
          "metadata": {},
          "output_type": "execute_result"
        }
      ],
      "source": [
        "df['user_score'].unique()"
      ]
    },
    {
      "cell_type": "code",
      "execution_count": null,
      "metadata": {
        "id": "DWf8xj0KTY-u",
        "outputId": "ccc2d05f-117e-4bac-898d-7d39c674b3ad"
      },
      "outputs": [
        {
          "data": {
            "text/plain": [
              "array([1980., 1981., 1982., 1983., 1984., 1985., 1986., 1987., 1988.,\n",
              "       1989., 1990., 1991., 1992., 1993., 1994., 1995., 1996., 1997.,\n",
              "       1998., 1999., 2000., 2001., 2002., 2003., 2004., 2005., 2006.,\n",
              "       2007., 2008., 2009., 2010., 2011., 2012., 2013., 2014., 2015.,\n",
              "       2016.,   nan])"
            ]
          },
          "execution_count": 9,
          "metadata": {},
          "output_type": "execute_result"
        }
      ],
      "source": [
        "df['year_of_release'].sort_values().unique()"
      ]
    },
    {
      "cell_type": "markdown",
      "metadata": {
        "id": "HpPuLqqRTY-u"
      },
      "source": [
        "Kolom `year_of_release` seharusnya tipe datanya seharusnya `integer` karena nilainya tidak ada koma. Untuk nilai `nan` pada kolom `year_of_release` akan diganti dengan nilai `0`. \n",
        "\n",
        "Sedangkan untuk kolom `user_score` tipe datanya `object` seharusnya `float`. Namun data `nan` diganti menjadi `-1` dan `tbd` harus diganti menjadi `-2`. \n",
        "\n",
        "Karena jika data yang `nan` atau `string` tidak diisi dengan nilai angka, maka tipe datanya akan bisa diganti menjadi `integer` atau `float`."
      ]
    },
    {
      "cell_type": "code",
      "execution_count": null,
      "metadata": {
        "id": "UnO-3zOKTY-u"
      },
      "outputs": [],
      "source": [
        "df_filled = df.copy()"
      ]
    },
    {
      "cell_type": "code",
      "execution_count": null,
      "metadata": {
        "id": "mkimi6lLTY-v",
        "outputId": "340bc462-a3e6-4c46-d125-a04da67caad3"
      },
      "outputs": [
        {
          "name": "stdout",
          "output_type": "stream",
          "text": [
            "<class 'pandas.core.frame.DataFrame'>\n",
            "RangeIndex: 16715 entries, 0 to 16714\n",
            "Data columns (total 11 columns):\n",
            " #   Column           Non-Null Count  Dtype  \n",
            "---  ------           --------------  -----  \n",
            " 0   name             16713 non-null  object \n",
            " 1   platform         16715 non-null  object \n",
            " 2   year_of_release  16715 non-null  int64  \n",
            " 3   genre            16713 non-null  object \n",
            " 4   na_sales         16715 non-null  float64\n",
            " 5   eu_sales         16715 non-null  float64\n",
            " 6   jp_sales         16715 non-null  float64\n",
            " 7   other_sales      16715 non-null  float64\n",
            " 8   critic_score     8137 non-null   float64\n",
            " 9   user_score       16715 non-null  float64\n",
            " 10  rating           9949 non-null   object \n",
            "dtypes: float64(6), int64(1), object(4)\n",
            "memory usage: 1.4+ MB\n"
          ]
        }
      ],
      "source": [
        "df_filled.loc[df_filled['year_of_release'].isna(), 'year_of_release'] = 0 \n",
        "df_filled['year_of_release'] = df_filled['year_of_release'].astype(int)\n",
        "df_filled.loc[df_filled['user_score'].isna(), 'user_score'] = '-1'\n",
        "df_filled.loc[df_filled['user_score'] == 'tbd', 'user_score'] = '-2'\n",
        "df_filled['user_score'] = df_filled['user_score'].astype(float)\n",
        "df_filled.info()"
      ]
    },
    {
      "cell_type": "markdown",
      "metadata": {
        "id": "wm76Tac3TY-v"
      },
      "source": [
        "tipe data kolom `year_of_release` telah berubah menjadi `integer` dan kolom `user_score` telah berubah menjadi `user_score`."
      ]
    },
    {
      "cell_type": "code",
      "execution_count": null,
      "metadata": {
        "id": "gejP1X7kTY-v",
        "outputId": "6ec58803-8ac2-4826-d4b1-7928d47810d4"
      },
      "outputs": [
        {
          "data": {
            "text/plain": [
              "array([-2. , -1. ,  0. ,  0.2,  0.3,  0.5,  0.6,  0.7,  0.9,  1. ,  1.1,\n",
              "        1.2,  1.3,  1.4,  1.5,  1.6,  1.7,  1.8,  1.9,  2. ,  2.1,  2.2,\n",
              "        2.3,  2.4,  2.5,  2.6,  2.7,  2.8,  2.9,  3. ,  3.1,  3.2,  3.3,\n",
              "        3.4,  3.5,  3.6,  3.7,  3.8,  3.9,  4. ,  4.1,  4.2,  4.3,  4.4,\n",
              "        4.5,  4.6,  4.7,  4.8,  4.9,  5. ,  5.1,  5.2,  5.3,  5.4,  5.5,\n",
              "        5.6,  5.7,  5.8,  5.9,  6. ,  6.1,  6.2,  6.3,  6.4,  6.5,  6.6,\n",
              "        6.7,  6.8,  6.9,  7. ,  7.1,  7.2,  7.3,  7.4,  7.5,  7.6,  7.7,\n",
              "        7.8,  7.9,  8. ,  8.1,  8.2,  8.3,  8.4,  8.5,  8.6,  8.7,  8.8,\n",
              "        8.9,  9. ,  9.1,  9.2,  9.3,  9.4,  9.5,  9.6,  9.7])"
            ]
          },
          "execution_count": 12,
          "metadata": {},
          "output_type": "execute_result"
        }
      ],
      "source": [
        "df_filled['user_score'].sort_values().unique()"
      ]
    },
    {
      "cell_type": "markdown",
      "metadata": {
        "id": "l5H4ZNerTY-w"
      },
      "source": [
        "Data yang hilang pada kolom `user_score` telah diganti menjadi `-1` dan data `tbd` telah  menjadi `-2`. "
      ]
    },
    {
      "cell_type": "code",
      "execution_count": null,
      "metadata": {
        "scrolled": true,
        "id": "Weym3ki7TY-w",
        "outputId": "d3f9fb7a-5493-43c2-8386-b2725e60597e"
      },
      "outputs": [
        {
          "data": {
            "text/plain": [
              "array([   0, 1980, 1981, 1982, 1983, 1984, 1985, 1986, 1987, 1988, 1989,\n",
              "       1990, 1991, 1992, 1993, 1994, 1995, 1996, 1997, 1998, 1999, 2000,\n",
              "       2001, 2002, 2003, 2004, 2005, 2006, 2007, 2008, 2009, 2010, 2011,\n",
              "       2012, 2013, 2014, 2015, 2016])"
            ]
          },
          "execution_count": 13,
          "metadata": {},
          "output_type": "execute_result"
        }
      ],
      "source": [
        "df_filled['year_of_release'].sort_values().unique()"
      ]
    },
    {
      "cell_type": "markdown",
      "metadata": {
        "id": "RnN1bf4ITY-w"
      },
      "source": [
        "Data yang hilang pada kolom `year_of_release` telah diganti menjadi `0`. "
      ]
    },
    {
      "cell_type": "markdown",
      "metadata": {
        "id": "Y0-9KuFZTY-x"
      },
      "source": [
        "### Periksa Data Duplikat"
      ]
    },
    {
      "cell_type": "code",
      "execution_count": null,
      "metadata": {
        "scrolled": true,
        "id": "cuoE36zKTY-x",
        "outputId": "aa085d88-9ddd-4ca0-8aad-ba4c29153c03"
      },
      "outputs": [
        {
          "data": {
            "text/plain": [
              "0"
            ]
          },
          "execution_count": 14,
          "metadata": {},
          "output_type": "execute_result"
        }
      ],
      "source": [
        "df_filled.duplicated().sum()"
      ]
    },
    {
      "cell_type": "markdown",
      "metadata": {
        "id": "sV-oa_awTY-x"
      },
      "source": [
        "Tidak ada nilai yang duplikat."
      ]
    },
    {
      "cell_type": "markdown",
      "metadata": {
        "id": "U3-E5wmfTY-y"
      },
      "source": [
        "### Menangani Nilai yang Hilang"
      ]
    },
    {
      "cell_type": "markdown",
      "metadata": {
        "id": "XBFFCx2fTY-y"
      },
      "source": [
        "#### name"
      ]
    },
    {
      "cell_type": "code",
      "execution_count": null,
      "metadata": {
        "id": "wqAQZFnlTY-y",
        "outputId": "29c9723a-3e59-4c1f-8295-42b827b5c4d2"
      },
      "outputs": [
        {
          "data": {
            "text/html": [
              "<div>\n",
              "<style scoped>\n",
              "    .dataframe tbody tr th:only-of-type {\n",
              "        vertical-align: middle;\n",
              "    }\n",
              "\n",
              "    .dataframe tbody tr th {\n",
              "        vertical-align: top;\n",
              "    }\n",
              "\n",
              "    .dataframe thead th {\n",
              "        text-align: right;\n",
              "    }\n",
              "</style>\n",
              "<table border=\"1\" class=\"dataframe\">\n",
              "  <thead>\n",
              "    <tr style=\"text-align: right;\">\n",
              "      <th></th>\n",
              "      <th>name</th>\n",
              "      <th>platform</th>\n",
              "      <th>year_of_release</th>\n",
              "      <th>genre</th>\n",
              "      <th>na_sales</th>\n",
              "      <th>eu_sales</th>\n",
              "      <th>jp_sales</th>\n",
              "      <th>other_sales</th>\n",
              "      <th>critic_score</th>\n",
              "      <th>user_score</th>\n",
              "      <th>rating</th>\n",
              "    </tr>\n",
              "  </thead>\n",
              "  <tbody>\n",
              "    <tr>\n",
              "      <th>659</th>\n",
              "      <td>NaN</td>\n",
              "      <td>GEN</td>\n",
              "      <td>1993</td>\n",
              "      <td>NaN</td>\n",
              "      <td>1.78</td>\n",
              "      <td>0.53</td>\n",
              "      <td>0.00</td>\n",
              "      <td>0.08</td>\n",
              "      <td>NaN</td>\n",
              "      <td>-1.0</td>\n",
              "      <td>NaN</td>\n",
              "    </tr>\n",
              "    <tr>\n",
              "      <th>14244</th>\n",
              "      <td>NaN</td>\n",
              "      <td>GEN</td>\n",
              "      <td>1993</td>\n",
              "      <td>NaN</td>\n",
              "      <td>0.00</td>\n",
              "      <td>0.00</td>\n",
              "      <td>0.03</td>\n",
              "      <td>0.00</td>\n",
              "      <td>NaN</td>\n",
              "      <td>-1.0</td>\n",
              "      <td>NaN</td>\n",
              "    </tr>\n",
              "  </tbody>\n",
              "</table>\n",
              "</div>"
            ],
            "text/plain": [
              "      name platform  year_of_release genre  na_sales  eu_sales  jp_sales  \\\n",
              "659    NaN      GEN             1993   NaN      1.78      0.53      0.00   \n",
              "14244  NaN      GEN             1993   NaN      0.00      0.00      0.03   \n",
              "\n",
              "       other_sales  critic_score  user_score rating  \n",
              "659           0.08           NaN        -1.0    NaN  \n",
              "14244         0.00           NaN        -1.0    NaN  "
            ]
          },
          "execution_count": 15,
          "metadata": {},
          "output_type": "execute_result"
        }
      ],
      "source": [
        "df_filled.loc[df_filled['name'].isna()]"
      ]
    },
    {
      "cell_type": "markdown",
      "metadata": {
        "id": "zFoNkjRXTY-y"
      },
      "source": [
        "Ternyata judul game (`name`) yang hilang datanya semua memiliki `platform` `GEN`. Saya memilih membiarkan data yang hilang pada kolom `name`. Karena sulit untuk menebak dengan tepat apakah judul game yang tepat pada data yang hilang tersebut."
      ]
    },
    {
      "cell_type": "markdown",
      "metadata": {
        "id": "UtE0hHiCTY-0"
      },
      "source": [
        "#### genre"
      ]
    },
    {
      "cell_type": "code",
      "execution_count": null,
      "metadata": {
        "id": "YuFSMh3gTY-1",
        "outputId": "3798054b-37ca-4196-a05d-b2083830df98"
      },
      "outputs": [
        {
          "data": {
            "text/html": [
              "<div>\n",
              "<style scoped>\n",
              "    .dataframe tbody tr th:only-of-type {\n",
              "        vertical-align: middle;\n",
              "    }\n",
              "\n",
              "    .dataframe tbody tr th {\n",
              "        vertical-align: top;\n",
              "    }\n",
              "\n",
              "    .dataframe thead th {\n",
              "        text-align: right;\n",
              "    }\n",
              "</style>\n",
              "<table border=\"1\" class=\"dataframe\">\n",
              "  <thead>\n",
              "    <tr style=\"text-align: right;\">\n",
              "      <th></th>\n",
              "      <th>name</th>\n",
              "      <th>platform</th>\n",
              "      <th>year_of_release</th>\n",
              "      <th>genre</th>\n",
              "      <th>na_sales</th>\n",
              "      <th>eu_sales</th>\n",
              "      <th>jp_sales</th>\n",
              "      <th>other_sales</th>\n",
              "      <th>critic_score</th>\n",
              "      <th>user_score</th>\n",
              "      <th>rating</th>\n",
              "    </tr>\n",
              "  </thead>\n",
              "  <tbody>\n",
              "    <tr>\n",
              "      <th>659</th>\n",
              "      <td>NaN</td>\n",
              "      <td>GEN</td>\n",
              "      <td>1993</td>\n",
              "      <td>NaN</td>\n",
              "      <td>1.78</td>\n",
              "      <td>0.53</td>\n",
              "      <td>0.00</td>\n",
              "      <td>0.08</td>\n",
              "      <td>NaN</td>\n",
              "      <td>-1.0</td>\n",
              "      <td>NaN</td>\n",
              "    </tr>\n",
              "    <tr>\n",
              "      <th>14244</th>\n",
              "      <td>NaN</td>\n",
              "      <td>GEN</td>\n",
              "      <td>1993</td>\n",
              "      <td>NaN</td>\n",
              "      <td>0.00</td>\n",
              "      <td>0.00</td>\n",
              "      <td>0.03</td>\n",
              "      <td>0.00</td>\n",
              "      <td>NaN</td>\n",
              "      <td>-1.0</td>\n",
              "      <td>NaN</td>\n",
              "    </tr>\n",
              "  </tbody>\n",
              "</table>\n",
              "</div>"
            ],
            "text/plain": [
              "      name platform  year_of_release genre  na_sales  eu_sales  jp_sales  \\\n",
              "659    NaN      GEN             1993   NaN      1.78      0.53      0.00   \n",
              "14244  NaN      GEN             1993   NaN      0.00      0.00      0.03   \n",
              "\n",
              "       other_sales  critic_score  user_score rating  \n",
              "659           0.08           NaN        -1.0    NaN  \n",
              "14244         0.00           NaN        -1.0    NaN  "
            ]
          },
          "execution_count": 16,
          "metadata": {},
          "output_type": "execute_result"
        }
      ],
      "source": [
        "df_filled.loc[df_filled['genre'].isna()]"
      ]
    },
    {
      "cell_type": "markdown",
      "metadata": {
        "id": "vBoTtaeUTY-2"
      },
      "source": [
        "2 data yang hilang pada kolom  `genre` sama dengan data yang hilang pada kolom `name` yang telah dibahas sebelumnya. Sama dengan sebelumnya saya membiarkan data yang hilang pada kolom `genre`. Karena sulit untuk menebak dengan tepat `genre` game apakah yang tepat pad adata yang hilang tersebut.  "
      ]
    },
    {
      "cell_type": "code",
      "execution_count": null,
      "metadata": {
        "id": "COIv4uGcTY-2",
        "outputId": "bad9e73d-451e-42d5-d2db-6fe88b527f43"
      },
      "outputs": [
        {
          "data": {
            "text/html": [
              "<div>\n",
              "<style scoped>\n",
              "    .dataframe tbody tr th:only-of-type {\n",
              "        vertical-align: middle;\n",
              "    }\n",
              "\n",
              "    .dataframe tbody tr th {\n",
              "        vertical-align: top;\n",
              "    }\n",
              "\n",
              "    .dataframe thead th {\n",
              "        text-align: right;\n",
              "    }\n",
              "</style>\n",
              "<table border=\"1\" class=\"dataframe\">\n",
              "  <thead>\n",
              "    <tr style=\"text-align: right;\">\n",
              "      <th></th>\n",
              "      <th>name</th>\n",
              "      <th>platform</th>\n",
              "      <th>year_of_release</th>\n",
              "      <th>genre</th>\n",
              "      <th>na_sales</th>\n",
              "      <th>eu_sales</th>\n",
              "      <th>jp_sales</th>\n",
              "      <th>other_sales</th>\n",
              "      <th>critic_score</th>\n",
              "      <th>user_score</th>\n",
              "      <th>rating</th>\n",
              "    </tr>\n",
              "  </thead>\n",
              "  <tbody>\n",
              "  </tbody>\n",
              "</table>\n",
              "</div>"
            ],
            "text/plain": [
              "Empty DataFrame\n",
              "Columns: [name, platform, year_of_release, genre, na_sales, eu_sales, jp_sales, other_sales, critic_score, user_score, rating]\n",
              "Index: []"
            ]
          },
          "execution_count": 17,
          "metadata": {},
          "output_type": "execute_result"
        }
      ],
      "source": [
        "df_filled = df_filled.loc[df_filled['genre'].isna() == False].copy()\n",
        "df_filled.loc[df_filled['genre'].isna()]"
      ]
    },
    {
      "cell_type": "markdown",
      "metadata": {
        "id": "_inJaa5CTY-2"
      },
      "source": [
        "Nilai yang hilang tersebut saya `drop` dan sudah tidak ada. Saya melakukan `drop` karena proporsinya tidak terlalu besar didalam dataset. "
      ]
    },
    {
      "cell_type": "markdown",
      "metadata": {
        "id": "qYWXdiYlTY-3"
      },
      "source": [
        "#### critic_score"
      ]
    },
    {
      "cell_type": "code",
      "execution_count": null,
      "metadata": {
        "scrolled": false,
        "id": "z0qAdw4ETY-3",
        "outputId": "a8b60576-343b-4d50-b002-b826c28bc431"
      },
      "outputs": [
        {
          "data": {
            "text/html": [
              "<div>\n",
              "<style scoped>\n",
              "    .dataframe tbody tr th:only-of-type {\n",
              "        vertical-align: middle;\n",
              "    }\n",
              "\n",
              "    .dataframe tbody tr th {\n",
              "        vertical-align: top;\n",
              "    }\n",
              "\n",
              "    .dataframe thead th {\n",
              "        text-align: right;\n",
              "    }\n",
              "</style>\n",
              "<table border=\"1\" class=\"dataframe\">\n",
              "  <thead>\n",
              "    <tr style=\"text-align: right;\">\n",
              "      <th></th>\n",
              "      <th>name</th>\n",
              "      <th>platform</th>\n",
              "      <th>year_of_release</th>\n",
              "      <th>genre</th>\n",
              "      <th>na_sales</th>\n",
              "      <th>eu_sales</th>\n",
              "      <th>jp_sales</th>\n",
              "      <th>other_sales</th>\n",
              "      <th>critic_score</th>\n",
              "      <th>user_score</th>\n",
              "      <th>rating</th>\n",
              "    </tr>\n",
              "  </thead>\n",
              "  <tbody>\n",
              "    <tr>\n",
              "      <th>1</th>\n",
              "      <td>Super Mario Bros.</td>\n",
              "      <td>NES</td>\n",
              "      <td>1985</td>\n",
              "      <td>Platform</td>\n",
              "      <td>29.08</td>\n",
              "      <td>3.58</td>\n",
              "      <td>6.81</td>\n",
              "      <td>0.77</td>\n",
              "      <td>NaN</td>\n",
              "      <td>-1.0</td>\n",
              "      <td>NaN</td>\n",
              "    </tr>\n",
              "    <tr>\n",
              "      <th>4</th>\n",
              "      <td>Pokemon Red/Pokemon Blue</td>\n",
              "      <td>GB</td>\n",
              "      <td>1996</td>\n",
              "      <td>Role-Playing</td>\n",
              "      <td>11.27</td>\n",
              "      <td>8.89</td>\n",
              "      <td>10.22</td>\n",
              "      <td>1.00</td>\n",
              "      <td>NaN</td>\n",
              "      <td>-1.0</td>\n",
              "      <td>NaN</td>\n",
              "    </tr>\n",
              "    <tr>\n",
              "      <th>5</th>\n",
              "      <td>Tetris</td>\n",
              "      <td>GB</td>\n",
              "      <td>1989</td>\n",
              "      <td>Puzzle</td>\n",
              "      <td>23.20</td>\n",
              "      <td>2.26</td>\n",
              "      <td>4.22</td>\n",
              "      <td>0.58</td>\n",
              "      <td>NaN</td>\n",
              "      <td>-1.0</td>\n",
              "      <td>NaN</td>\n",
              "    </tr>\n",
              "    <tr>\n",
              "      <th>9</th>\n",
              "      <td>Duck Hunt</td>\n",
              "      <td>NES</td>\n",
              "      <td>1984</td>\n",
              "      <td>Shooter</td>\n",
              "      <td>26.93</td>\n",
              "      <td>0.63</td>\n",
              "      <td>0.28</td>\n",
              "      <td>0.47</td>\n",
              "      <td>NaN</td>\n",
              "      <td>-1.0</td>\n",
              "      <td>NaN</td>\n",
              "    </tr>\n",
              "    <tr>\n",
              "      <th>10</th>\n",
              "      <td>Nintendogs</td>\n",
              "      <td>DS</td>\n",
              "      <td>2005</td>\n",
              "      <td>Simulation</td>\n",
              "      <td>9.05</td>\n",
              "      <td>10.95</td>\n",
              "      <td>1.93</td>\n",
              "      <td>2.74</td>\n",
              "      <td>NaN</td>\n",
              "      <td>-1.0</td>\n",
              "      <td>NaN</td>\n",
              "    </tr>\n",
              "    <tr>\n",
              "      <th>...</th>\n",
              "      <td>...</td>\n",
              "      <td>...</td>\n",
              "      <td>...</td>\n",
              "      <td>...</td>\n",
              "      <td>...</td>\n",
              "      <td>...</td>\n",
              "      <td>...</td>\n",
              "      <td>...</td>\n",
              "      <td>...</td>\n",
              "      <td>...</td>\n",
              "      <td>...</td>\n",
              "    </tr>\n",
              "    <tr>\n",
              "      <th>16710</th>\n",
              "      <td>Samurai Warriors: Sanada Maru</td>\n",
              "      <td>PS3</td>\n",
              "      <td>2016</td>\n",
              "      <td>Action</td>\n",
              "      <td>0.00</td>\n",
              "      <td>0.00</td>\n",
              "      <td>0.01</td>\n",
              "      <td>0.00</td>\n",
              "      <td>NaN</td>\n",
              "      <td>-1.0</td>\n",
              "      <td>NaN</td>\n",
              "    </tr>\n",
              "    <tr>\n",
              "      <th>16711</th>\n",
              "      <td>LMA Manager 2007</td>\n",
              "      <td>X360</td>\n",
              "      <td>2006</td>\n",
              "      <td>Sports</td>\n",
              "      <td>0.00</td>\n",
              "      <td>0.01</td>\n",
              "      <td>0.00</td>\n",
              "      <td>0.00</td>\n",
              "      <td>NaN</td>\n",
              "      <td>-1.0</td>\n",
              "      <td>NaN</td>\n",
              "    </tr>\n",
              "    <tr>\n",
              "      <th>16712</th>\n",
              "      <td>Haitaka no Psychedelica</td>\n",
              "      <td>PSV</td>\n",
              "      <td>2016</td>\n",
              "      <td>Adventure</td>\n",
              "      <td>0.00</td>\n",
              "      <td>0.00</td>\n",
              "      <td>0.01</td>\n",
              "      <td>0.00</td>\n",
              "      <td>NaN</td>\n",
              "      <td>-1.0</td>\n",
              "      <td>NaN</td>\n",
              "    </tr>\n",
              "    <tr>\n",
              "      <th>16713</th>\n",
              "      <td>Spirits &amp; Spells</td>\n",
              "      <td>GBA</td>\n",
              "      <td>2003</td>\n",
              "      <td>Platform</td>\n",
              "      <td>0.01</td>\n",
              "      <td>0.00</td>\n",
              "      <td>0.00</td>\n",
              "      <td>0.00</td>\n",
              "      <td>NaN</td>\n",
              "      <td>-1.0</td>\n",
              "      <td>NaN</td>\n",
              "    </tr>\n",
              "    <tr>\n",
              "      <th>16714</th>\n",
              "      <td>Winning Post 8 2016</td>\n",
              "      <td>PSV</td>\n",
              "      <td>2016</td>\n",
              "      <td>Simulation</td>\n",
              "      <td>0.00</td>\n",
              "      <td>0.00</td>\n",
              "      <td>0.01</td>\n",
              "      <td>0.00</td>\n",
              "      <td>NaN</td>\n",
              "      <td>-1.0</td>\n",
              "      <td>NaN</td>\n",
              "    </tr>\n",
              "  </tbody>\n",
              "</table>\n",
              "<p>8576 rows × 11 columns</p>\n",
              "</div>"
            ],
            "text/plain": [
              "                                name platform  year_of_release         genre  \\\n",
              "1                  Super Mario Bros.      NES             1985      Platform   \n",
              "4           Pokemon Red/Pokemon Blue       GB             1996  Role-Playing   \n",
              "5                             Tetris       GB             1989        Puzzle   \n",
              "9                          Duck Hunt      NES             1984       Shooter   \n",
              "10                        Nintendogs       DS             2005    Simulation   \n",
              "...                              ...      ...              ...           ...   \n",
              "16710  Samurai Warriors: Sanada Maru      PS3             2016        Action   \n",
              "16711               LMA Manager 2007     X360             2006        Sports   \n",
              "16712        Haitaka no Psychedelica      PSV             2016     Adventure   \n",
              "16713               Spirits & Spells      GBA             2003      Platform   \n",
              "16714            Winning Post 8 2016      PSV             2016    Simulation   \n",
              "\n",
              "       na_sales  eu_sales  jp_sales  other_sales  critic_score  user_score  \\\n",
              "1         29.08      3.58      6.81         0.77           NaN        -1.0   \n",
              "4         11.27      8.89     10.22         1.00           NaN        -1.0   \n",
              "5         23.20      2.26      4.22         0.58           NaN        -1.0   \n",
              "9         26.93      0.63      0.28         0.47           NaN        -1.0   \n",
              "10         9.05     10.95      1.93         2.74           NaN        -1.0   \n",
              "...         ...       ...       ...          ...           ...         ...   \n",
              "16710      0.00      0.00      0.01         0.00           NaN        -1.0   \n",
              "16711      0.00      0.01      0.00         0.00           NaN        -1.0   \n",
              "16712      0.00      0.00      0.01         0.00           NaN        -1.0   \n",
              "16713      0.01      0.00      0.00         0.00           NaN        -1.0   \n",
              "16714      0.00      0.00      0.01         0.00           NaN        -1.0   \n",
              "\n",
              "      rating  \n",
              "1        NaN  \n",
              "4        NaN  \n",
              "5        NaN  \n",
              "9        NaN  \n",
              "10       NaN  \n",
              "...      ...  \n",
              "16710    NaN  \n",
              "16711    NaN  \n",
              "16712    NaN  \n",
              "16713    NaN  \n",
              "16714    NaN  \n",
              "\n",
              "[8576 rows x 11 columns]"
            ]
          },
          "execution_count": 18,
          "metadata": {},
          "output_type": "execute_result"
        }
      ],
      "source": [
        "df_filled.loc[df_filled['critic_score'].isna()]"
      ]
    },
    {
      "cell_type": "markdown",
      "metadata": {
        "id": "_Hk_L1kgTY-3"
      },
      "source": [
        "Ada `8,578` baris pada kolom `critic_score` yang datanya hilang. Jumlah data yang hilang tersebut setengah dari jumlah total data. Karena proporsi datanya besar, maka data yang hilang pada kolom `critic score` tidak saya drop. Selanjutnya saya akan mencoba melihat apakah ada pola tertentu dari data yang hilang dikolom `critic score`."
      ]
    },
    {
      "cell_type": "code",
      "execution_count": null,
      "metadata": {
        "scrolled": true,
        "id": "0Qozp_eNTY-4",
        "outputId": "c526e3ea-5ba5-4d43-83bf-50fe5b7e28c7"
      },
      "outputs": [
        {
          "data": {
            "text/plain": [
              "array([-2. , -1. ,  0. ,  0.2,  0.3,  0.6,  0.7,  0.9,  1.1,  1.2,  1.3,\n",
              "        1.4,  1.6,  1.7,  1.8,  2. ,  2.4,  2.5,  2.7,  2.8,  2.9,  3. ,\n",
              "        3.1,  3.2,  3.3,  3.4,  3.5,  3.7,  3.8,  3.9,  4. ,  4.1,  4.2,\n",
              "        4.3,  4.4,  4.5,  4.6,  4.7,  4.8,  4.9,  5. ,  5.1,  5.2,  5.3,\n",
              "        5.4,  5.5,  5.6,  5.7,  5.8,  5.9,  6. ,  6.1,  6.2,  6.3,  6.4,\n",
              "        6.5,  6.6,  6.7,  6.8,  6.9,  7. ,  7.1,  7.2,  7.3,  7.4,  7.5,\n",
              "        7.6,  7.7,  7.8,  7.9,  8. ,  8.1,  8.2,  8.3,  8.4,  8.5,  8.6,\n",
              "        8.7,  8.8,  8.9,  9. ,  9.1,  9.2,  9.3,  9.5,  9.7])"
            ]
          },
          "execution_count": 19,
          "metadata": {},
          "output_type": "execute_result"
        }
      ],
      "source": [
        "df_filled.loc[df_filled['critic_score'].isna(), 'user_score'].sort_values().unique()"
      ]
    },
    {
      "cell_type": "markdown",
      "metadata": {
        "id": "L0GN1XnPTY-4"
      },
      "source": [
        "Tidak ada pola tertentu pada kolom `user_score`."
      ]
    },
    {
      "cell_type": "code",
      "execution_count": null,
      "metadata": {
        "id": "YnP7WaYhTY-4",
        "outputId": "43b09b7c-f99c-49de-c0dd-f4bfe54f795c"
      },
      "outputs": [
        {
          "data": {
            "text/plain": [
              "array([nan, 'E', 'M', 'E10+', 'T', 'K-A', 'EC'], dtype=object)"
            ]
          },
          "execution_count": 20,
          "metadata": {},
          "output_type": "execute_result"
        }
      ],
      "source": [
        "df_filled.loc[df_filled['critic_score'].isna(), 'rating'].unique()"
      ]
    },
    {
      "cell_type": "markdown",
      "metadata": {
        "id": "Y7VWN0oiTY-4"
      },
      "source": [
        "Tidak ada pola tertentu pada kolom `rating`."
      ]
    },
    {
      "cell_type": "code",
      "execution_count": null,
      "metadata": {
        "scrolled": false,
        "id": "n18tu3-nTY-4",
        "outputId": "daf56bbd-6d82-4531-ae1c-f4ab4c5d069e"
      },
      "outputs": [
        {
          "data": {
            "text/plain": [
              "array(['Platform', 'Role-Playing', 'Puzzle', 'Shooter', 'Simulation',\n",
              "       'Action', 'Adventure', 'Racing', 'Misc', 'Sports', 'Fighting',\n",
              "       'Strategy'], dtype=object)"
            ]
          },
          "execution_count": 21,
          "metadata": {},
          "output_type": "execute_result"
        }
      ],
      "source": [
        "df_filled.loc[df_filled['critic_score'].isna(), 'genre'].unique()"
      ]
    },
    {
      "cell_type": "markdown",
      "metadata": {
        "id": "YAahRgznTY-4"
      },
      "source": [
        "Tidak ada pola tertentu pada kolom `genre`."
      ]
    },
    {
      "cell_type": "code",
      "execution_count": null,
      "metadata": {
        "id": "UQ3KvORITY-5",
        "outputId": "907cf462-c972-47c7-ef5b-b20467ac0fdf"
      },
      "outputs": [
        {
          "data": {
            "text/plain": [
              "array([   0, 1980, 1981, 1982, 1983, 1984, 1985, 1986, 1987, 1988, 1989,\n",
              "       1990, 1991, 1992, 1993, 1994, 1995, 1996, 1997, 1998, 1999, 2000,\n",
              "       2001, 2002, 2003, 2004, 2005, 2006, 2007, 2008, 2009, 2010, 2011,\n",
              "       2012, 2013, 2014, 2015, 2016])"
            ]
          },
          "execution_count": 22,
          "metadata": {},
          "output_type": "execute_result"
        }
      ],
      "source": [
        "df_filled.loc[df_filled['critic_score'].isna(), 'year_of_release'].sort_values().unique()"
      ]
    },
    {
      "cell_type": "markdown",
      "metadata": {
        "id": "WDvtaYRZTY-5"
      },
      "source": [
        "Tidak ada pola tertentu pada kolom `year_of_release`."
      ]
    },
    {
      "cell_type": "code",
      "execution_count": null,
      "metadata": {
        "id": "c5-TxPAJTY-5",
        "outputId": "68020dd4-8a3d-4f8d-f5ef-d84ee3b98b10"
      },
      "outputs": [
        {
          "data": {
            "text/plain": [
              "array(['2600', '3DO', '3DS', 'DC', 'DS', 'GB', 'GBA', 'GC', 'GEN', 'GG',\n",
              "       'N64', 'NES', 'NG', 'PC', 'PCFX', 'PS', 'PS2', 'PS3', 'PS4', 'PSP',\n",
              "       'PSV', 'SAT', 'SCD', 'SNES', 'TG16', 'WS', 'Wii', 'WiiU', 'X360',\n",
              "       'XB', 'XOne'], dtype=object)"
            ]
          },
          "execution_count": 23,
          "metadata": {},
          "output_type": "execute_result"
        }
      ],
      "source": [
        "df_filled.loc[df_filled['critic_score'].isna(), 'platform'].sort_values().unique()"
      ]
    },
    {
      "cell_type": "markdown",
      "metadata": {
        "id": "sMvFJkVBTY-5"
      },
      "source": [
        "Tidak ada pola tertentu pada kolom `platform`."
      ]
    },
    {
      "cell_type": "markdown",
      "metadata": {
        "id": "tXx7RA_STY-5"
      },
      "source": [
        "Setelah melihat ke kolom `user_score`, `rating`, `genre`, `year_of_release`, dan `platform`. Tidak ada pola tertentu pada data yang hilang pada kolom `critic_score`. Saya tidak akan melakuan `drop` pada data-data tersebut, karena porporsinya besar dibandingkan keseluruhan dataset. Selain itu saya akan membiarkan nilainya `nan` karena jika diisi dengan nilai `mean` atau `median` nilainya belum tentu akurat dan dapat mengganggu persebaran nilai `critic_score` yang sesungguhnya. "
      ]
    },
    {
      "cell_type": "markdown",
      "metadata": {
        "id": "nwmskw_aTY-6"
      },
      "source": [
        "#### Rating"
      ]
    },
    {
      "cell_type": "code",
      "execution_count": null,
      "metadata": {
        "id": "RJd1OnqITY-6",
        "outputId": "bcd4f8a6-85b0-4f90-e411-d5208b2816cd"
      },
      "outputs": [
        {
          "data": {
            "text/html": [
              "<div>\n",
              "<style scoped>\n",
              "    .dataframe tbody tr th:only-of-type {\n",
              "        vertical-align: middle;\n",
              "    }\n",
              "\n",
              "    .dataframe tbody tr th {\n",
              "        vertical-align: top;\n",
              "    }\n",
              "\n",
              "    .dataframe thead th {\n",
              "        text-align: right;\n",
              "    }\n",
              "</style>\n",
              "<table border=\"1\" class=\"dataframe\">\n",
              "  <thead>\n",
              "    <tr style=\"text-align: right;\">\n",
              "      <th></th>\n",
              "      <th>name</th>\n",
              "      <th>platform</th>\n",
              "      <th>year_of_release</th>\n",
              "      <th>genre</th>\n",
              "      <th>na_sales</th>\n",
              "      <th>eu_sales</th>\n",
              "      <th>jp_sales</th>\n",
              "      <th>other_sales</th>\n",
              "      <th>critic_score</th>\n",
              "      <th>user_score</th>\n",
              "      <th>rating</th>\n",
              "    </tr>\n",
              "  </thead>\n",
              "  <tbody>\n",
              "    <tr>\n",
              "      <th>1</th>\n",
              "      <td>Super Mario Bros.</td>\n",
              "      <td>NES</td>\n",
              "      <td>1985</td>\n",
              "      <td>Platform</td>\n",
              "      <td>29.08</td>\n",
              "      <td>3.58</td>\n",
              "      <td>6.81</td>\n",
              "      <td>0.77</td>\n",
              "      <td>NaN</td>\n",
              "      <td>-1.0</td>\n",
              "      <td>NaN</td>\n",
              "    </tr>\n",
              "    <tr>\n",
              "      <th>4</th>\n",
              "      <td>Pokemon Red/Pokemon Blue</td>\n",
              "      <td>GB</td>\n",
              "      <td>1996</td>\n",
              "      <td>Role-Playing</td>\n",
              "      <td>11.27</td>\n",
              "      <td>8.89</td>\n",
              "      <td>10.22</td>\n",
              "      <td>1.00</td>\n",
              "      <td>NaN</td>\n",
              "      <td>-1.0</td>\n",
              "      <td>NaN</td>\n",
              "    </tr>\n",
              "    <tr>\n",
              "      <th>5</th>\n",
              "      <td>Tetris</td>\n",
              "      <td>GB</td>\n",
              "      <td>1989</td>\n",
              "      <td>Puzzle</td>\n",
              "      <td>23.20</td>\n",
              "      <td>2.26</td>\n",
              "      <td>4.22</td>\n",
              "      <td>0.58</td>\n",
              "      <td>NaN</td>\n",
              "      <td>-1.0</td>\n",
              "      <td>NaN</td>\n",
              "    </tr>\n",
              "    <tr>\n",
              "      <th>9</th>\n",
              "      <td>Duck Hunt</td>\n",
              "      <td>NES</td>\n",
              "      <td>1984</td>\n",
              "      <td>Shooter</td>\n",
              "      <td>26.93</td>\n",
              "      <td>0.63</td>\n",
              "      <td>0.28</td>\n",
              "      <td>0.47</td>\n",
              "      <td>NaN</td>\n",
              "      <td>-1.0</td>\n",
              "      <td>NaN</td>\n",
              "    </tr>\n",
              "    <tr>\n",
              "      <th>10</th>\n",
              "      <td>Nintendogs</td>\n",
              "      <td>DS</td>\n",
              "      <td>2005</td>\n",
              "      <td>Simulation</td>\n",
              "      <td>9.05</td>\n",
              "      <td>10.95</td>\n",
              "      <td>1.93</td>\n",
              "      <td>2.74</td>\n",
              "      <td>NaN</td>\n",
              "      <td>-1.0</td>\n",
              "      <td>NaN</td>\n",
              "    </tr>\n",
              "    <tr>\n",
              "      <th>...</th>\n",
              "      <td>...</td>\n",
              "      <td>...</td>\n",
              "      <td>...</td>\n",
              "      <td>...</td>\n",
              "      <td>...</td>\n",
              "      <td>...</td>\n",
              "      <td>...</td>\n",
              "      <td>...</td>\n",
              "      <td>...</td>\n",
              "      <td>...</td>\n",
              "      <td>...</td>\n",
              "    </tr>\n",
              "    <tr>\n",
              "      <th>16710</th>\n",
              "      <td>Samurai Warriors: Sanada Maru</td>\n",
              "      <td>PS3</td>\n",
              "      <td>2016</td>\n",
              "      <td>Action</td>\n",
              "      <td>0.00</td>\n",
              "      <td>0.00</td>\n",
              "      <td>0.01</td>\n",
              "      <td>0.00</td>\n",
              "      <td>NaN</td>\n",
              "      <td>-1.0</td>\n",
              "      <td>NaN</td>\n",
              "    </tr>\n",
              "    <tr>\n",
              "      <th>16711</th>\n",
              "      <td>LMA Manager 2007</td>\n",
              "      <td>X360</td>\n",
              "      <td>2006</td>\n",
              "      <td>Sports</td>\n",
              "      <td>0.00</td>\n",
              "      <td>0.01</td>\n",
              "      <td>0.00</td>\n",
              "      <td>0.00</td>\n",
              "      <td>NaN</td>\n",
              "      <td>-1.0</td>\n",
              "      <td>NaN</td>\n",
              "    </tr>\n",
              "    <tr>\n",
              "      <th>16712</th>\n",
              "      <td>Haitaka no Psychedelica</td>\n",
              "      <td>PSV</td>\n",
              "      <td>2016</td>\n",
              "      <td>Adventure</td>\n",
              "      <td>0.00</td>\n",
              "      <td>0.00</td>\n",
              "      <td>0.01</td>\n",
              "      <td>0.00</td>\n",
              "      <td>NaN</td>\n",
              "      <td>-1.0</td>\n",
              "      <td>NaN</td>\n",
              "    </tr>\n",
              "    <tr>\n",
              "      <th>16713</th>\n",
              "      <td>Spirits &amp; Spells</td>\n",
              "      <td>GBA</td>\n",
              "      <td>2003</td>\n",
              "      <td>Platform</td>\n",
              "      <td>0.01</td>\n",
              "      <td>0.00</td>\n",
              "      <td>0.00</td>\n",
              "      <td>0.00</td>\n",
              "      <td>NaN</td>\n",
              "      <td>-1.0</td>\n",
              "      <td>NaN</td>\n",
              "    </tr>\n",
              "    <tr>\n",
              "      <th>16714</th>\n",
              "      <td>Winning Post 8 2016</td>\n",
              "      <td>PSV</td>\n",
              "      <td>2016</td>\n",
              "      <td>Simulation</td>\n",
              "      <td>0.00</td>\n",
              "      <td>0.00</td>\n",
              "      <td>0.01</td>\n",
              "      <td>0.00</td>\n",
              "      <td>NaN</td>\n",
              "      <td>-1.0</td>\n",
              "      <td>NaN</td>\n",
              "    </tr>\n",
              "  </tbody>\n",
              "</table>\n",
              "<p>6764 rows × 11 columns</p>\n",
              "</div>"
            ],
            "text/plain": [
              "                                name platform  year_of_release         genre  \\\n",
              "1                  Super Mario Bros.      NES             1985      Platform   \n",
              "4           Pokemon Red/Pokemon Blue       GB             1996  Role-Playing   \n",
              "5                             Tetris       GB             1989        Puzzle   \n",
              "9                          Duck Hunt      NES             1984       Shooter   \n",
              "10                        Nintendogs       DS             2005    Simulation   \n",
              "...                              ...      ...              ...           ...   \n",
              "16710  Samurai Warriors: Sanada Maru      PS3             2016        Action   \n",
              "16711               LMA Manager 2007     X360             2006        Sports   \n",
              "16712        Haitaka no Psychedelica      PSV             2016     Adventure   \n",
              "16713               Spirits & Spells      GBA             2003      Platform   \n",
              "16714            Winning Post 8 2016      PSV             2016    Simulation   \n",
              "\n",
              "       na_sales  eu_sales  jp_sales  other_sales  critic_score  user_score  \\\n",
              "1         29.08      3.58      6.81         0.77           NaN        -1.0   \n",
              "4         11.27      8.89     10.22         1.00           NaN        -1.0   \n",
              "5         23.20      2.26      4.22         0.58           NaN        -1.0   \n",
              "9         26.93      0.63      0.28         0.47           NaN        -1.0   \n",
              "10         9.05     10.95      1.93         2.74           NaN        -1.0   \n",
              "...         ...       ...       ...          ...           ...         ...   \n",
              "16710      0.00      0.00      0.01         0.00           NaN        -1.0   \n",
              "16711      0.00      0.01      0.00         0.00           NaN        -1.0   \n",
              "16712      0.00      0.00      0.01         0.00           NaN        -1.0   \n",
              "16713      0.01      0.00      0.00         0.00           NaN        -1.0   \n",
              "16714      0.00      0.00      0.01         0.00           NaN        -1.0   \n",
              "\n",
              "      rating  \n",
              "1        NaN  \n",
              "4        NaN  \n",
              "5        NaN  \n",
              "9        NaN  \n",
              "10       NaN  \n",
              "...      ...  \n",
              "16710    NaN  \n",
              "16711    NaN  \n",
              "16712    NaN  \n",
              "16713    NaN  \n",
              "16714    NaN  \n",
              "\n",
              "[6764 rows x 11 columns]"
            ]
          },
          "execution_count": 24,
          "metadata": {},
          "output_type": "execute_result"
        }
      ],
      "source": [
        "df_filled.loc[df_filled['rating'].isna()]"
      ]
    },
    {
      "cell_type": "markdown",
      "metadata": {
        "id": "EqGEVhQETY-6"
      },
      "source": [
        "Ada `6,766` data yang hilang pada kolom `rating`. Jumlah data yang hilang tersebut proporsinya besar, `30%` lebih dari dataset. Karena itu data-data yang hilang tersebut tidak akan saya drop karena proporsinya yang besar. Selanjutnya saya akan melihat apakah ada pola tertentu dari data yang hilang pada kolom `rating`. "
      ]
    },
    {
      "cell_type": "code",
      "execution_count": null,
      "metadata": {
        "id": "qv4A3sAyTY-6",
        "outputId": "d09af808-8846-4494-ad09-0d2f015346ab"
      },
      "outputs": [
        {
          "data": {
            "text/plain": [
              "array([-2. , -1. ,  3.1,  3.2,  4. ,  4.1,  4.3,  4.4,  4.5,  4.7,  4.8,\n",
              "        4.9,  5. ,  5.2,  5.8,  6. ,  6.1,  6.2,  6.4,  6.5,  6.7,  6.8,\n",
              "        6.9,  7. ,  7.1,  7.2,  7.3,  7.4,  7.5,  7.6,  7.7,  7.8,  7.9,\n",
              "        8. ,  8.1,  8.2,  8.3,  8.4,  8.5,  8.6,  8.7,  8.8,  9.2])"
            ]
          },
          "execution_count": 25,
          "metadata": {},
          "output_type": "execute_result"
        }
      ],
      "source": [
        "df_filled.loc[df_filled['rating'].isna(), 'user_score'].sort_values().unique()"
      ]
    },
    {
      "cell_type": "markdown",
      "metadata": {
        "id": "9MmNyQl6TY-6"
      },
      "source": [
        "Tidak ada kolom tertentu pada kolom `user_score`."
      ]
    },
    {
      "cell_type": "code",
      "execution_count": null,
      "metadata": {
        "id": "skUEvxG3TY-7",
        "outputId": "638661be-39fb-4ddc-8c66-b14c1a45d66f"
      },
      "outputs": [
        {
          "data": {
            "text/plain": [
              "array([31., 43., 45., 46., 47., 48., 50., 53., 54., 55., 59., 60., 61.,\n",
              "       62., 63., 64., 65., 66., 67., 68., 69., 70., 71., 72., 74., 75.,\n",
              "       76., 77., 78., 79., 80., 82., 83., 84., 85., 86., 87., 88., 93.,\n",
              "       nan])"
            ]
          },
          "execution_count": 26,
          "metadata": {},
          "output_type": "execute_result"
        }
      ],
      "source": [
        "df_filled.loc[df_filled['rating'].isna(), 'critic_score'].sort_values().unique()"
      ]
    },
    {
      "cell_type": "markdown",
      "metadata": {
        "id": "6Rouu-BVTY-7"
      },
      "source": [
        "Tidak ada kolom tertentu pada kolom `critic_score`."
      ]
    },
    {
      "cell_type": "code",
      "execution_count": null,
      "metadata": {
        "id": "qvel4e_VTY-7",
        "outputId": "1556f226-0b24-416c-e399-5ae0adc98e08"
      },
      "outputs": [
        {
          "data": {
            "text/plain": [
              "array(['Action', 'Adventure', 'Fighting', 'Misc', 'Platform', 'Puzzle',\n",
              "       'Racing', 'Role-Playing', 'Shooter', 'Simulation', 'Sports',\n",
              "       'Strategy'], dtype=object)"
            ]
          },
          "execution_count": 27,
          "metadata": {},
          "output_type": "execute_result"
        }
      ],
      "source": [
        "df_filled.loc[df_filled['rating'].isna(), 'genre'].sort_values().unique()"
      ]
    },
    {
      "cell_type": "markdown",
      "metadata": {
        "id": "JqCoCCprTY-7"
      },
      "source": [
        "Tidak ada kolom tertentu pada kolom `genre`."
      ]
    },
    {
      "cell_type": "code",
      "execution_count": null,
      "metadata": {
        "id": "T-OOotnmTY-7",
        "outputId": "3121dd22-2479-45a6-c844-5ec23a86d7ac"
      },
      "outputs": [
        {
          "data": {
            "text/plain": [
              "array([   0, 1980, 1981, 1982, 1983, 1984, 1985, 1986, 1987, 1988, 1989,\n",
              "       1990, 1991, 1992, 1993, 1994, 1995, 1996, 1997, 1998, 1999, 2000,\n",
              "       2001, 2002, 2003, 2004, 2005, 2006, 2007, 2008, 2009, 2010, 2011,\n",
              "       2012, 2013, 2014, 2015, 2016])"
            ]
          },
          "execution_count": 28,
          "metadata": {},
          "output_type": "execute_result"
        }
      ],
      "source": [
        "df_filled.loc[df_filled['rating'].isna(), 'year_of_release'].sort_values().unique()"
      ]
    },
    {
      "cell_type": "markdown",
      "metadata": {
        "id": "NBlUgrQ2TY-8"
      },
      "source": [
        "Tidak ada kolom tertentu pada kolom `year_of_release`."
      ]
    },
    {
      "cell_type": "code",
      "execution_count": null,
      "metadata": {
        "id": "wZ7oeMkrTY-8",
        "outputId": "62657a0c-d62d-401b-ee20-c88a7a2f625c"
      },
      "outputs": [
        {
          "data": {
            "text/plain": [
              "array(['2600', '3DO', '3DS', 'DC', 'DS', 'GB', 'GBA', 'GC', 'GEN', 'GG',\n",
              "       'N64', 'NES', 'NG', 'PC', 'PCFX', 'PS', 'PS2', 'PS3', 'PS4', 'PSP',\n",
              "       'PSV', 'SAT', 'SCD', 'SNES', 'TG16', 'WS', 'Wii', 'WiiU', 'X360',\n",
              "       'XB', 'XOne'], dtype=object)"
            ]
          },
          "execution_count": 29,
          "metadata": {},
          "output_type": "execute_result"
        }
      ],
      "source": [
        "df_filled.loc[df_filled['rating'].isna(), 'platform'].sort_values().unique()"
      ]
    },
    {
      "cell_type": "markdown",
      "metadata": {
        "id": "bpxuU7xATY-8"
      },
      "source": [
        "Tidak ada kolom tertentu pada kolom `platform`."
      ]
    },
    {
      "cell_type": "markdown",
      "metadata": {
        "id": "871KrSl3TY-8"
      },
      "source": [
        "Setelah melihat ke kolom `user_score`, `critic_score`, `genre`, `year_of_release`, dan `platform`. Tidak ada pola tertentu pada data yang hilang pada kolom `rating`. Saya akan membiarkan nilainya `nan`, karena jika diisi dengan nilai `mean` atau `median` nilainya belum tentu akurat dan dapat mengganggu persebaran nilai `rating` yang sesungguhnya. "
      ]
    },
    {
      "cell_type": "markdown",
      "metadata": {
        "id": "iiAVa9YBTY-8"
      },
      "source": [
        "### Total Penjualan"
      ]
    },
    {
      "cell_type": "code",
      "execution_count": null,
      "metadata": {
        "id": "KP6iyVD0TY-9"
      },
      "outputs": [],
      "source": [
        "df_filled['tot_sales'] = df_filled['na_sales'] + df_filled['eu_sales'] + df_filled['jp_sales'] + df_filled['other_sales']"
      ]
    },
    {
      "cell_type": "code",
      "execution_count": null,
      "metadata": {
        "id": "NPtrKAHFTY-9",
        "outputId": "3ab12ccc-34d6-49e7-df64-265843d1de0d"
      },
      "outputs": [
        {
          "data": {
            "text/plain": [
              "Index(['name', 'platform', 'year_of_release', 'genre', 'na_sales', 'eu_sales',\n",
              "       'jp_sales', 'other_sales', 'critic_score', 'user_score', 'rating',\n",
              "       'tot_sales'],\n",
              "      dtype='object')"
            ]
          },
          "execution_count": 31,
          "metadata": {},
          "output_type": "execute_result"
        }
      ],
      "source": [
        "df_filled.columns"
      ]
    },
    {
      "cell_type": "code",
      "execution_count": null,
      "metadata": {
        "id": "MipmB5_RTY-9"
      },
      "outputs": [],
      "source": [
        "new_order_col = ['name', 'platform', 'year_of_release', 'genre', 'na_sales', 'eu_sales', 'jp_sales', 'other_sales', 'tot_sales', 'critic_score', 'user_score', 'rating']"
      ]
    },
    {
      "cell_type": "code",
      "execution_count": null,
      "metadata": {
        "id": "TiRg6nWQTY-9"
      },
      "outputs": [],
      "source": [
        "df_filled = df_filled[new_order_col]"
      ]
    },
    {
      "cell_type": "code",
      "execution_count": null,
      "metadata": {
        "scrolled": true,
        "id": "NmPDlrzBTY-9",
        "outputId": "6725460d-89b1-4694-ffaa-6c5bac364175"
      },
      "outputs": [
        {
          "data": {
            "text/html": [
              "<div>\n",
              "<style scoped>\n",
              "    .dataframe tbody tr th:only-of-type {\n",
              "        vertical-align: middle;\n",
              "    }\n",
              "\n",
              "    .dataframe tbody tr th {\n",
              "        vertical-align: top;\n",
              "    }\n",
              "\n",
              "    .dataframe thead th {\n",
              "        text-align: right;\n",
              "    }\n",
              "</style>\n",
              "<table border=\"1\" class=\"dataframe\">\n",
              "  <thead>\n",
              "    <tr style=\"text-align: right;\">\n",
              "      <th></th>\n",
              "      <th>name</th>\n",
              "      <th>platform</th>\n",
              "      <th>year_of_release</th>\n",
              "      <th>genre</th>\n",
              "      <th>na_sales</th>\n",
              "      <th>eu_sales</th>\n",
              "      <th>jp_sales</th>\n",
              "      <th>other_sales</th>\n",
              "      <th>tot_sales</th>\n",
              "      <th>critic_score</th>\n",
              "      <th>user_score</th>\n",
              "      <th>rating</th>\n",
              "    </tr>\n",
              "  </thead>\n",
              "  <tbody>\n",
              "    <tr>\n",
              "      <th>0</th>\n",
              "      <td>Wii Sports</td>\n",
              "      <td>Wii</td>\n",
              "      <td>2006</td>\n",
              "      <td>Sports</td>\n",
              "      <td>41.36</td>\n",
              "      <td>28.96</td>\n",
              "      <td>3.77</td>\n",
              "      <td>8.45</td>\n",
              "      <td>82.54</td>\n",
              "      <td>76.0</td>\n",
              "      <td>8.0</td>\n",
              "      <td>E</td>\n",
              "    </tr>\n",
              "    <tr>\n",
              "      <th>1</th>\n",
              "      <td>Super Mario Bros.</td>\n",
              "      <td>NES</td>\n",
              "      <td>1985</td>\n",
              "      <td>Platform</td>\n",
              "      <td>29.08</td>\n",
              "      <td>3.58</td>\n",
              "      <td>6.81</td>\n",
              "      <td>0.77</td>\n",
              "      <td>40.24</td>\n",
              "      <td>NaN</td>\n",
              "      <td>-1.0</td>\n",
              "      <td>NaN</td>\n",
              "    </tr>\n",
              "    <tr>\n",
              "      <th>2</th>\n",
              "      <td>Mario Kart Wii</td>\n",
              "      <td>Wii</td>\n",
              "      <td>2008</td>\n",
              "      <td>Racing</td>\n",
              "      <td>15.68</td>\n",
              "      <td>12.76</td>\n",
              "      <td>3.79</td>\n",
              "      <td>3.29</td>\n",
              "      <td>35.52</td>\n",
              "      <td>82.0</td>\n",
              "      <td>8.3</td>\n",
              "      <td>E</td>\n",
              "    </tr>\n",
              "    <tr>\n",
              "      <th>3</th>\n",
              "      <td>Wii Sports Resort</td>\n",
              "      <td>Wii</td>\n",
              "      <td>2009</td>\n",
              "      <td>Sports</td>\n",
              "      <td>15.61</td>\n",
              "      <td>10.93</td>\n",
              "      <td>3.28</td>\n",
              "      <td>2.95</td>\n",
              "      <td>32.77</td>\n",
              "      <td>80.0</td>\n",
              "      <td>8.0</td>\n",
              "      <td>E</td>\n",
              "    </tr>\n",
              "    <tr>\n",
              "      <th>4</th>\n",
              "      <td>Pokemon Red/Pokemon Blue</td>\n",
              "      <td>GB</td>\n",
              "      <td>1996</td>\n",
              "      <td>Role-Playing</td>\n",
              "      <td>11.27</td>\n",
              "      <td>8.89</td>\n",
              "      <td>10.22</td>\n",
              "      <td>1.00</td>\n",
              "      <td>31.38</td>\n",
              "      <td>NaN</td>\n",
              "      <td>-1.0</td>\n",
              "      <td>NaN</td>\n",
              "    </tr>\n",
              "  </tbody>\n",
              "</table>\n",
              "</div>"
            ],
            "text/plain": [
              "                       name platform  year_of_release         genre  na_sales  \\\n",
              "0                Wii Sports      Wii             2006        Sports     41.36   \n",
              "1         Super Mario Bros.      NES             1985      Platform     29.08   \n",
              "2            Mario Kart Wii      Wii             2008        Racing     15.68   \n",
              "3         Wii Sports Resort      Wii             2009        Sports     15.61   \n",
              "4  Pokemon Red/Pokemon Blue       GB             1996  Role-Playing     11.27   \n",
              "\n",
              "   eu_sales  jp_sales  other_sales  tot_sales  critic_score  user_score rating  \n",
              "0     28.96      3.77         8.45      82.54          76.0         8.0      E  \n",
              "1      3.58      6.81         0.77      40.24           NaN        -1.0    NaN  \n",
              "2     12.76      3.79         3.29      35.52          82.0         8.3      E  \n",
              "3     10.93      3.28         2.95      32.77          80.0         8.0      E  \n",
              "4      8.89     10.22         1.00      31.38           NaN        -1.0    NaN  "
            ]
          },
          "execution_count": 34,
          "metadata": {},
          "output_type": "execute_result"
        }
      ],
      "source": [
        "df_filled.head()"
      ]
    },
    {
      "cell_type": "markdown",
      "metadata": {
        "id": "W0JdZZvjTY-9"
      },
      "source": [
        "`Total penjualan` telah ditambahkan kedalam dataset dengan nama kolom `tot_sales`."
      ]
    },
    {
      "cell_type": "markdown",
      "metadata": {
        "id": "8td-VAjTTY--"
      },
      "source": [
        "## Analisa Data"
      ]
    },
    {
      "cell_type": "markdown",
      "metadata": {
        "id": "3WTxvNOyTY--"
      },
      "source": [
        "### Jumlah Game Dirilis Per Tahun"
      ]
    },
    {
      "cell_type": "code",
      "execution_count": null,
      "metadata": {
        "id": "9cYQNpySTY--",
        "outputId": "970b20e4-4a7d-4586-8f3f-93d2b88dd358"
      },
      "outputs": [
        {
          "data": {
            "image/png": "[encoded data removed]",
            "text/plain": [
              "<Figure size 1296x576 with 1 Axes>"
            ]
          },
          "metadata": {
            "needs_background": "light"
          },
          "output_type": "display_data"
        }
      ],
      "source": [
        "count_by_year = df_filled.loc[df_filled['year_of_release'] > 0].pivot_table(index='year_of_release', values='platform', aggfunc='count')\n",
        "count_by_year.reset_index(inplace=True)\n",
        "count_by_year.columns = ['year_of_release', 'game_release']\n",
        "\n",
        "fig, ax = plt.subplots(figsize=(18, 8))\n",
        "plots = sns.barplot(data=count_by_year, x='year_of_release', y='game_release', ax=ax)\n",
        "\n",
        "for bar in plots.patches:\n",
        "   \n",
        "    plots.annotate(format(bar.get_height(), '.2f'),\n",
        "                   (bar.get_x() + bar.get_width() / 2,\n",
        "                    bar.get_height()), ha='center', va='center',\n",
        "                   size=8, xytext=(0, 8),\n",
        "                   textcoords='offset points')\n",
        "\n",
        "plt.xticks(rotation=70)\n",
        "plt.title('Game Release by Year', size=16)\n",
        "plt.xlabel('Years', size=14)\n",
        "plt.ylabel('Game Release', size=14)\n",
        "plt.show()"
      ]
    },
    {
      "cell_type": "markdown",
      "metadata": {
        "id": "KtljlLf6TY--"
      },
      "source": [
        "Dari `barplot` diatas menunjukanjumlah `game` direlease mulai meningkat sejak tahun `1990` dan memuncak pada tahun `2007` dan `2008`. Setelah itu jumlah `game` direlease cenderung menurun hingga tahun `2016`."
      ]
    },
    {
      "cell_type": "markdown",
      "metadata": {
        "id": "dnznUydoTY-_"
      },
      "source": [
        "### Penjualan Berdasarkan Platform"
      ]
    },
    {
      "cell_type": "code",
      "execution_count": null,
      "metadata": {
        "scrolled": true,
        "id": "JDZwQpd2TY-_",
        "outputId": "8d7a0d16-75d4-493f-93d0-aff24dc4e960"
      },
      "outputs": [
        {
          "data": {
            "text/html": [
              "<div>\n",
              "<style scoped>\n",
              "    .dataframe tbody tr th:only-of-type {\n",
              "        vertical-align: middle;\n",
              "    }\n",
              "\n",
              "    .dataframe tbody tr th {\n",
              "        vertical-align: top;\n",
              "    }\n",
              "\n",
              "    .dataframe thead th {\n",
              "        text-align: right;\n",
              "    }\n",
              "</style>\n",
              "<table border=\"1\" class=\"dataframe\">\n",
              "  <thead>\n",
              "    <tr style=\"text-align: right;\">\n",
              "      <th>year_of_release</th>\n",
              "      <th>1980</th>\n",
              "      <th>1981</th>\n",
              "      <th>1982</th>\n",
              "      <th>1983</th>\n",
              "      <th>1984</th>\n",
              "      <th>1985</th>\n",
              "      <th>1986</th>\n",
              "      <th>1987</th>\n",
              "      <th>1988</th>\n",
              "      <th>1989</th>\n",
              "      <th>...</th>\n",
              "      <th>2008</th>\n",
              "      <th>2009</th>\n",
              "      <th>2010</th>\n",
              "      <th>2011</th>\n",
              "      <th>2012</th>\n",
              "      <th>2013</th>\n",
              "      <th>2014</th>\n",
              "      <th>2015</th>\n",
              "      <th>2016</th>\n",
              "      <th>All</th>\n",
              "    </tr>\n",
              "    <tr>\n",
              "      <th>platform</th>\n",
              "      <th></th>\n",
              "      <th></th>\n",
              "      <th></th>\n",
              "      <th></th>\n",
              "      <th></th>\n",
              "      <th></th>\n",
              "      <th></th>\n",
              "      <th></th>\n",
              "      <th></th>\n",
              "      <th></th>\n",
              "      <th></th>\n",
              "      <th></th>\n",
              "      <th></th>\n",
              "      <th></th>\n",
              "      <th></th>\n",
              "      <th></th>\n",
              "      <th></th>\n",
              "      <th></th>\n",
              "      <th></th>\n",
              "      <th></th>\n",
              "      <th></th>\n",
              "    </tr>\n",
              "  </thead>\n",
              "  <tbody>\n",
              "    <tr>\n",
              "      <th>All</th>\n",
              "      <td>11.38</td>\n",
              "      <td>35.68</td>\n",
              "      <td>28.88</td>\n",
              "      <td>16.8</td>\n",
              "      <td>50.35</td>\n",
              "      <td>53.95</td>\n",
              "      <td>37.08</td>\n",
              "      <td>21.7</td>\n",
              "      <td>47.21</td>\n",
              "      <td>73.45</td>\n",
              "      <td>...</td>\n",
              "      <td>671.50</td>\n",
              "      <td>658.82</td>\n",
              "      <td>590.13</td>\n",
              "      <td>507.58</td>\n",
              "      <td>355.84</td>\n",
              "      <td>361.24</td>\n",
              "      <td>331.53</td>\n",
              "      <td>267.98</td>\n",
              "      <td>129.94</td>\n",
              "      <td>8814.37</td>\n",
              "    </tr>\n",
              "    <tr>\n",
              "      <th>PS2</th>\n",
              "      <td>0.00</td>\n",
              "      <td>0.00</td>\n",
              "      <td>0.00</td>\n",
              "      <td>0.0</td>\n",
              "      <td>0.00</td>\n",
              "      <td>0.00</td>\n",
              "      <td>0.00</td>\n",
              "      <td>0.0</td>\n",
              "      <td>0.00</td>\n",
              "      <td>0.00</td>\n",
              "      <td>...</td>\n",
              "      <td>53.90</td>\n",
              "      <td>26.40</td>\n",
              "      <td>5.64</td>\n",
              "      <td>0.45</td>\n",
              "      <td>0.00</td>\n",
              "      <td>0.00</td>\n",
              "      <td>0.00</td>\n",
              "      <td>0.00</td>\n",
              "      <td>0.00</td>\n",
              "      <td>1233.56</td>\n",
              "    </tr>\n",
              "    <tr>\n",
              "      <th>X360</th>\n",
              "      <td>0.00</td>\n",
              "      <td>0.00</td>\n",
              "      <td>0.00</td>\n",
              "      <td>0.0</td>\n",
              "      <td>0.00</td>\n",
              "      <td>0.00</td>\n",
              "      <td>0.00</td>\n",
              "      <td>0.0</td>\n",
              "      <td>0.00</td>\n",
              "      <td>0.00</td>\n",
              "      <td>...</td>\n",
              "      <td>135.26</td>\n",
              "      <td>120.29</td>\n",
              "      <td>170.03</td>\n",
              "      <td>143.84</td>\n",
              "      <td>99.74</td>\n",
              "      <td>88.58</td>\n",
              "      <td>34.74</td>\n",
              "      <td>11.96</td>\n",
              "      <td>1.52</td>\n",
              "      <td>961.24</td>\n",
              "    </tr>\n",
              "    <tr>\n",
              "      <th>PS3</th>\n",
              "      <td>0.00</td>\n",
              "      <td>0.00</td>\n",
              "      <td>0.00</td>\n",
              "      <td>0.0</td>\n",
              "      <td>0.00</td>\n",
              "      <td>0.00</td>\n",
              "      <td>0.00</td>\n",
              "      <td>0.0</td>\n",
              "      <td>0.00</td>\n",
              "      <td>0.00</td>\n",
              "      <td>...</td>\n",
              "      <td>118.52</td>\n",
              "      <td>130.93</td>\n",
              "      <td>142.17</td>\n",
              "      <td>156.78</td>\n",
              "      <td>107.36</td>\n",
              "      <td>113.25</td>\n",
              "      <td>47.76</td>\n",
              "      <td>16.82</td>\n",
              "      <td>3.60</td>\n",
              "      <td>931.34</td>\n",
              "    </tr>\n",
              "    <tr>\n",
              "      <th>Wii</th>\n",
              "      <td>0.00</td>\n",
              "      <td>0.00</td>\n",
              "      <td>0.00</td>\n",
              "      <td>0.0</td>\n",
              "      <td>0.00</td>\n",
              "      <td>0.00</td>\n",
              "      <td>0.00</td>\n",
              "      <td>0.0</td>\n",
              "      <td>0.00</td>\n",
              "      <td>0.00</td>\n",
              "      <td>...</td>\n",
              "      <td>171.32</td>\n",
              "      <td>206.97</td>\n",
              "      <td>127.95</td>\n",
              "      <td>59.65</td>\n",
              "      <td>21.71</td>\n",
              "      <td>8.59</td>\n",
              "      <td>3.75</td>\n",
              "      <td>1.14</td>\n",
              "      <td>0.18</td>\n",
              "      <td>891.18</td>\n",
              "    </tr>\n",
              "  </tbody>\n",
              "</table>\n",
              "<p>5 rows × 38 columns</p>\n",
              "</div>"
            ],
            "text/plain": [
              "year_of_release   1980   1981   1982  1983   1984   1985   1986  1987   1988  \\\n",
              "platform                                                                       \n",
              "All              11.38  35.68  28.88  16.8  50.35  53.95  37.08  21.7  47.21   \n",
              "PS2               0.00   0.00   0.00   0.0   0.00   0.00   0.00   0.0   0.00   \n",
              "X360              0.00   0.00   0.00   0.0   0.00   0.00   0.00   0.0   0.00   \n",
              "PS3               0.00   0.00   0.00   0.0   0.00   0.00   0.00   0.0   0.00   \n",
              "Wii               0.00   0.00   0.00   0.0   0.00   0.00   0.00   0.0   0.00   \n",
              "\n",
              "year_of_release   1989  ...    2008    2009    2010    2011    2012    2013  \\\n",
              "platform                ...                                                   \n",
              "All              73.45  ...  671.50  658.82  590.13  507.58  355.84  361.24   \n",
              "PS2               0.00  ...   53.90   26.40    5.64    0.45    0.00    0.00   \n",
              "X360              0.00  ...  135.26  120.29  170.03  143.84   99.74   88.58   \n",
              "PS3               0.00  ...  118.52  130.93  142.17  156.78  107.36  113.25   \n",
              "Wii               0.00  ...  171.32  206.97  127.95   59.65   21.71    8.59   \n",
              "\n",
              "year_of_release    2014    2015    2016      All  \n",
              "platform                                          \n",
              "All              331.53  267.98  129.94  8814.37  \n",
              "PS2                0.00    0.00    0.00  1233.56  \n",
              "X360              34.74   11.96    1.52   961.24  \n",
              "PS3               47.76   16.82    3.60   931.34  \n",
              "Wii                3.75    1.14    0.18   891.18  \n",
              "\n",
              "[5 rows x 38 columns]"
            ]
          },
          "execution_count": 36,
          "metadata": {},
          "output_type": "execute_result"
        }
      ],
      "source": [
        "sales_by_year = df_filled.loc[df_filled['year_of_release'] > 0].pivot_table(index='platform', columns=['year_of_release'], values='tot_sales', aggfunc='sum', margins=True)\n",
        "sales_by_year = sales_by_year.sort_values(by='All', ascending=False)\n",
        "\n",
        "for year in sales_by_year.columns:\n",
        "    sales_by_year.loc[sales_by_year[year].isna(), year] = 0\n",
        "\n",
        "sales_by_year.head()"
      ]
    },
    {
      "cell_type": "markdown",
      "metadata": {
        "id": "n70YA-40TY-_"
      },
      "source": [
        "Dari `pivot table` diatas menunjukan `platform` yang paling banyak membukukan penjualan ada `PS2`. Selanjutnya saya akan membuat distribusinya."
      ]
    },
    {
      "cell_type": "markdown",
      "metadata": {
        "id": "cngLoY3CTY_A"
      },
      "source": [
        "#### Platform dengan Penjualan Terbesar"
      ]
    },
    {
      "cell_type": "code",
      "execution_count": null,
      "metadata": {
        "scrolled": false,
        "id": "m6mpt1DITY_A",
        "outputId": "b5fa249e-2dfc-4759-dffa-53bef8045622"
      },
      "outputs": [
        {
          "data": {
            "image/png": "[encoded data removed]",
            "text/plain": [
              "<Figure size 864x432 with 1 Axes>"
            ]
          },
          "metadata": {
            "needs_background": "light"
          },
          "output_type": "display_data"
        }
      ],
      "source": [
        "sales_by_year_ps2 = pd.DataFrame(sales_by_year.loc['PS2'].copy())\n",
        "sales_by_year_ps2.reset_index(inplace=True)\n",
        "sales_by_year_ps2.columns = ['year', 'sales']\n",
        "sales_by_year_ps2 = sales_by_year_ps2.loc[(sales_by_year_ps2['sales'] > 0) & (sales_by_year_ps2['year'] != 'All') ].copy()\n",
        "sales_by_year_ps2\n",
        "\n",
        "fig, ax = plt.subplots(figsize=(12, 6))\n",
        "\n",
        "plots = sns.barplot(data=sales_by_year_ps2, x='year', y='sales', ax=ax)\n",
        "\n",
        "for bar in plots.patches:\n",
        "   \n",
        "    plots.annotate(format(bar.get_height(), '.2f'),\n",
        "                   (bar.get_x() + bar.get_width() / 2,\n",
        "                    bar.get_height()), ha='center', va='center',\n",
        "                   size=8, xytext=(0, 8),\n",
        "                   textcoords='offset points')\n",
        "\n",
        "plt.xticks(rotation=70)\n",
        "plt.title('PS2 Sales by Year', size=16)\n",
        "plt.xlabel('Year', size=14)\n",
        "plt.ylabel('Sales', size=14)\n",
        "plt.show()"
      ]
    },
    {
      "cell_type": "markdown",
      "metadata": {
        "id": "MCAGfNAJTY_A"
      },
      "source": [
        "Platform `PS2` mencapai puncak penjualannya pada tahun `2004` sejak dirilis pada tahun `2000`. Artinya butuh `4 tahun` sejak dirilis hingga mencapai puncak penjualannya. Setelah `2004` `PS2` mengalami penurunan hingga berakhir ditahun `2011`. Artinya `7 tahun` dari puncak penjualan hingga berakhir. Artinya produk `lifespan` dari `PS2` adalah `11 Tahun`.\n",
        "\n",
        "Yang menarik adalah `platform` `PS2` yang memiliki penjualan terbanyak adalah `platform` yang sudah tidak membukukan penjualan sejak tahun `2011`. Artinya ketika selama masa produktifnya, `PS2` membukukan sangat banyak penjualan dibandingkan `platform` lainnya. \n",
        "\n",
        "Tujuan dari analisa data yang kita lakukan adalah untuk mambangun acuan untuk tahun `2017`, maka untuk selanjutnya yang akan saya lakukan adalah melakukan filter pada `platform` yang masmuh memuliki penjualan ditahun `2016`. Karena jika sudah tidak membukukan penjualan maka hal tersebut sudah tidak `relevan` di tahun `2017`."
      ]
    },
    {
      "cell_type": "markdown",
      "metadata": {
        "id": "ReB6qxKrTY_B"
      },
      "source": [
        "#### Penjualan Platform yang Masih Aktif Hingga 2016"
      ]
    },
    {
      "cell_type": "code",
      "execution_count": null,
      "metadata": {
        "id": "YWgv-gGNTY_B",
        "outputId": "08bd9386-c00f-47f0-a7b9-cd132a5cf235"
      },
      "outputs": [
        {
          "data": {
            "text/html": [
              "<div>\n",
              "<style scoped>\n",
              "    .dataframe tbody tr th:only-of-type {\n",
              "        vertical-align: middle;\n",
              "    }\n",
              "\n",
              "    .dataframe tbody tr th {\n",
              "        vertical-align: top;\n",
              "    }\n",
              "\n",
              "    .dataframe thead th {\n",
              "        text-align: right;\n",
              "    }\n",
              "</style>\n",
              "<table border=\"1\" class=\"dataframe\">\n",
              "  <thead>\n",
              "    <tr style=\"text-align: right;\">\n",
              "      <th>year_of_release</th>\n",
              "      <th>1980</th>\n",
              "      <th>1981</th>\n",
              "      <th>1982</th>\n",
              "      <th>1983</th>\n",
              "      <th>1984</th>\n",
              "      <th>1985</th>\n",
              "      <th>1986</th>\n",
              "      <th>1987</th>\n",
              "      <th>1988</th>\n",
              "      <th>1989</th>\n",
              "      <th>...</th>\n",
              "      <th>2008</th>\n",
              "      <th>2009</th>\n",
              "      <th>2010</th>\n",
              "      <th>2011</th>\n",
              "      <th>2012</th>\n",
              "      <th>2013</th>\n",
              "      <th>2014</th>\n",
              "      <th>2015</th>\n",
              "      <th>2016</th>\n",
              "      <th>All</th>\n",
              "    </tr>\n",
              "    <tr>\n",
              "      <th>platform</th>\n",
              "      <th></th>\n",
              "      <th></th>\n",
              "      <th></th>\n",
              "      <th></th>\n",
              "      <th></th>\n",
              "      <th></th>\n",
              "      <th></th>\n",
              "      <th></th>\n",
              "      <th></th>\n",
              "      <th></th>\n",
              "      <th></th>\n",
              "      <th></th>\n",
              "      <th></th>\n",
              "      <th></th>\n",
              "      <th></th>\n",
              "      <th></th>\n",
              "      <th></th>\n",
              "      <th></th>\n",
              "      <th></th>\n",
              "      <th></th>\n",
              "      <th></th>\n",
              "    </tr>\n",
              "  </thead>\n",
              "  <tbody>\n",
              "    <tr>\n",
              "      <th>All</th>\n",
              "      <td>11.38</td>\n",
              "      <td>35.68</td>\n",
              "      <td>28.88</td>\n",
              "      <td>16.8</td>\n",
              "      <td>50.35</td>\n",
              "      <td>53.95</td>\n",
              "      <td>37.08</td>\n",
              "      <td>21.7</td>\n",
              "      <td>47.21</td>\n",
              "      <td>73.45</td>\n",
              "      <td>...</td>\n",
              "      <td>671.50</td>\n",
              "      <td>658.82</td>\n",
              "      <td>590.13</td>\n",
              "      <td>507.58</td>\n",
              "      <td>355.84</td>\n",
              "      <td>361.24</td>\n",
              "      <td>331.53</td>\n",
              "      <td>267.98</td>\n",
              "      <td>129.94</td>\n",
              "      <td>8814.37</td>\n",
              "    </tr>\n",
              "    <tr>\n",
              "      <th>X360</th>\n",
              "      <td>0.00</td>\n",
              "      <td>0.00</td>\n",
              "      <td>0.00</td>\n",
              "      <td>0.0</td>\n",
              "      <td>0.00</td>\n",
              "      <td>0.00</td>\n",
              "      <td>0.00</td>\n",
              "      <td>0.0</td>\n",
              "      <td>0.00</td>\n",
              "      <td>0.00</td>\n",
              "      <td>...</td>\n",
              "      <td>135.26</td>\n",
              "      <td>120.29</td>\n",
              "      <td>170.03</td>\n",
              "      <td>143.84</td>\n",
              "      <td>99.74</td>\n",
              "      <td>88.58</td>\n",
              "      <td>34.74</td>\n",
              "      <td>11.96</td>\n",
              "      <td>1.52</td>\n",
              "      <td>961.24</td>\n",
              "    </tr>\n",
              "    <tr>\n",
              "      <th>PS3</th>\n",
              "      <td>0.00</td>\n",
              "      <td>0.00</td>\n",
              "      <td>0.00</td>\n",
              "      <td>0.0</td>\n",
              "      <td>0.00</td>\n",
              "      <td>0.00</td>\n",
              "      <td>0.00</td>\n",
              "      <td>0.0</td>\n",
              "      <td>0.00</td>\n",
              "      <td>0.00</td>\n",
              "      <td>...</td>\n",
              "      <td>118.52</td>\n",
              "      <td>130.93</td>\n",
              "      <td>142.17</td>\n",
              "      <td>156.78</td>\n",
              "      <td>107.36</td>\n",
              "      <td>113.25</td>\n",
              "      <td>47.76</td>\n",
              "      <td>16.82</td>\n",
              "      <td>3.60</td>\n",
              "      <td>931.34</td>\n",
              "    </tr>\n",
              "    <tr>\n",
              "      <th>Wii</th>\n",
              "      <td>0.00</td>\n",
              "      <td>0.00</td>\n",
              "      <td>0.00</td>\n",
              "      <td>0.0</td>\n",
              "      <td>0.00</td>\n",
              "      <td>0.00</td>\n",
              "      <td>0.00</td>\n",
              "      <td>0.0</td>\n",
              "      <td>0.00</td>\n",
              "      <td>0.00</td>\n",
              "      <td>...</td>\n",
              "      <td>171.32</td>\n",
              "      <td>206.97</td>\n",
              "      <td>127.95</td>\n",
              "      <td>59.65</td>\n",
              "      <td>21.71</td>\n",
              "      <td>8.59</td>\n",
              "      <td>3.75</td>\n",
              "      <td>1.14</td>\n",
              "      <td>0.18</td>\n",
              "      <td>891.18</td>\n",
              "    </tr>\n",
              "    <tr>\n",
              "      <th>PS4</th>\n",
              "      <td>0.00</td>\n",
              "      <td>0.00</td>\n",
              "      <td>0.00</td>\n",
              "      <td>0.0</td>\n",
              "      <td>0.00</td>\n",
              "      <td>0.00</td>\n",
              "      <td>0.00</td>\n",
              "      <td>0.0</td>\n",
              "      <td>0.00</td>\n",
              "      <td>0.00</td>\n",
              "      <td>...</td>\n",
              "      <td>0.00</td>\n",
              "      <td>0.00</td>\n",
              "      <td>0.00</td>\n",
              "      <td>0.00</td>\n",
              "      <td>0.00</td>\n",
              "      <td>25.99</td>\n",
              "      <td>100.00</td>\n",
              "      <td>118.90</td>\n",
              "      <td>69.25</td>\n",
              "      <td>314.14</td>\n",
              "    </tr>\n",
              "    <tr>\n",
              "      <th>3DS</th>\n",
              "      <td>0.00</td>\n",
              "      <td>0.00</td>\n",
              "      <td>0.00</td>\n",
              "      <td>0.0</td>\n",
              "      <td>0.00</td>\n",
              "      <td>0.00</td>\n",
              "      <td>0.00</td>\n",
              "      <td>0.0</td>\n",
              "      <td>0.00</td>\n",
              "      <td>0.00</td>\n",
              "      <td>...</td>\n",
              "      <td>0.00</td>\n",
              "      <td>0.00</td>\n",
              "      <td>0.00</td>\n",
              "      <td>63.20</td>\n",
              "      <td>51.36</td>\n",
              "      <td>56.57</td>\n",
              "      <td>43.76</td>\n",
              "      <td>27.78</td>\n",
              "      <td>15.14</td>\n",
              "      <td>257.81</td>\n",
              "    </tr>\n",
              "    <tr>\n",
              "      <th>PC</th>\n",
              "      <td>0.00</td>\n",
              "      <td>0.00</td>\n",
              "      <td>0.00</td>\n",
              "      <td>0.0</td>\n",
              "      <td>0.00</td>\n",
              "      <td>0.04</td>\n",
              "      <td>0.00</td>\n",
              "      <td>0.0</td>\n",
              "      <td>0.03</td>\n",
              "      <td>0.00</td>\n",
              "      <td>...</td>\n",
              "      <td>12.42</td>\n",
              "      <td>16.91</td>\n",
              "      <td>24.28</td>\n",
              "      <td>35.03</td>\n",
              "      <td>23.22</td>\n",
              "      <td>12.38</td>\n",
              "      <td>13.28</td>\n",
              "      <td>8.52</td>\n",
              "      <td>5.25</td>\n",
              "      <td>255.76</td>\n",
              "    </tr>\n",
              "    <tr>\n",
              "      <th>XOne</th>\n",
              "      <td>0.00</td>\n",
              "      <td>0.00</td>\n",
              "      <td>0.00</td>\n",
              "      <td>0.0</td>\n",
              "      <td>0.00</td>\n",
              "      <td>0.00</td>\n",
              "      <td>0.00</td>\n",
              "      <td>0.0</td>\n",
              "      <td>0.00</td>\n",
              "      <td>0.00</td>\n",
              "      <td>...</td>\n",
              "      <td>0.00</td>\n",
              "      <td>0.00</td>\n",
              "      <td>0.00</td>\n",
              "      <td>0.00</td>\n",
              "      <td>0.00</td>\n",
              "      <td>18.96</td>\n",
              "      <td>54.07</td>\n",
              "      <td>60.14</td>\n",
              "      <td>26.15</td>\n",
              "      <td>159.32</td>\n",
              "    </tr>\n",
              "    <tr>\n",
              "      <th>WiiU</th>\n",
              "      <td>0.00</td>\n",
              "      <td>0.00</td>\n",
              "      <td>0.00</td>\n",
              "      <td>0.0</td>\n",
              "      <td>0.00</td>\n",
              "      <td>0.00</td>\n",
              "      <td>0.00</td>\n",
              "      <td>0.0</td>\n",
              "      <td>0.00</td>\n",
              "      <td>0.00</td>\n",
              "      <td>...</td>\n",
              "      <td>0.00</td>\n",
              "      <td>0.00</td>\n",
              "      <td>0.00</td>\n",
              "      <td>0.00</td>\n",
              "      <td>17.56</td>\n",
              "      <td>21.65</td>\n",
              "      <td>22.03</td>\n",
              "      <td>16.35</td>\n",
              "      <td>4.60</td>\n",
              "      <td>82.19</td>\n",
              "    </tr>\n",
              "    <tr>\n",
              "      <th>PSV</th>\n",
              "      <td>0.00</td>\n",
              "      <td>0.00</td>\n",
              "      <td>0.00</td>\n",
              "      <td>0.0</td>\n",
              "      <td>0.00</td>\n",
              "      <td>0.00</td>\n",
              "      <td>0.00</td>\n",
              "      <td>0.0</td>\n",
              "      <td>0.00</td>\n",
              "      <td>0.00</td>\n",
              "      <td>...</td>\n",
              "      <td>0.00</td>\n",
              "      <td>0.00</td>\n",
              "      <td>0.00</td>\n",
              "      <td>4.63</td>\n",
              "      <td>16.19</td>\n",
              "      <td>10.59</td>\n",
              "      <td>11.90</td>\n",
              "      <td>6.25</td>\n",
              "      <td>4.25</td>\n",
              "      <td>53.81</td>\n",
              "    </tr>\n",
              "  </tbody>\n",
              "</table>\n",
              "<p>10 rows × 38 columns</p>\n",
              "</div>"
            ],
            "text/plain": [
              "year_of_release   1980   1981   1982  1983   1984   1985   1986  1987   1988  \\\n",
              "platform                                                                       \n",
              "All              11.38  35.68  28.88  16.8  50.35  53.95  37.08  21.7  47.21   \n",
              "X360              0.00   0.00   0.00   0.0   0.00   0.00   0.00   0.0   0.00   \n",
              "PS3               0.00   0.00   0.00   0.0   0.00   0.00   0.00   0.0   0.00   \n",
              "Wii               0.00   0.00   0.00   0.0   0.00   0.00   0.00   0.0   0.00   \n",
              "PS4               0.00   0.00   0.00   0.0   0.00   0.00   0.00   0.0   0.00   \n",
              "3DS               0.00   0.00   0.00   0.0   0.00   0.00   0.00   0.0   0.00   \n",
              "PC                0.00   0.00   0.00   0.0   0.00   0.04   0.00   0.0   0.03   \n",
              "XOne              0.00   0.00   0.00   0.0   0.00   0.00   0.00   0.0   0.00   \n",
              "WiiU              0.00   0.00   0.00   0.0   0.00   0.00   0.00   0.0   0.00   \n",
              "PSV               0.00   0.00   0.00   0.0   0.00   0.00   0.00   0.0   0.00   \n",
              "\n",
              "year_of_release   1989  ...    2008    2009    2010    2011    2012    2013  \\\n",
              "platform                ...                                                   \n",
              "All              73.45  ...  671.50  658.82  590.13  507.58  355.84  361.24   \n",
              "X360              0.00  ...  135.26  120.29  170.03  143.84   99.74   88.58   \n",
              "PS3               0.00  ...  118.52  130.93  142.17  156.78  107.36  113.25   \n",
              "Wii               0.00  ...  171.32  206.97  127.95   59.65   21.71    8.59   \n",
              "PS4               0.00  ...    0.00    0.00    0.00    0.00    0.00   25.99   \n",
              "3DS               0.00  ...    0.00    0.00    0.00   63.20   51.36   56.57   \n",
              "PC                0.00  ...   12.42   16.91   24.28   35.03   23.22   12.38   \n",
              "XOne              0.00  ...    0.00    0.00    0.00    0.00    0.00   18.96   \n",
              "WiiU              0.00  ...    0.00    0.00    0.00    0.00   17.56   21.65   \n",
              "PSV               0.00  ...    0.00    0.00    0.00    4.63   16.19   10.59   \n",
              "\n",
              "year_of_release    2014    2015    2016      All  \n",
              "platform                                          \n",
              "All              331.53  267.98  129.94  8814.37  \n",
              "X360              34.74   11.96    1.52   961.24  \n",
              "PS3               47.76   16.82    3.60   931.34  \n",
              "Wii                3.75    1.14    0.18   891.18  \n",
              "PS4              100.00  118.90   69.25   314.14  \n",
              "3DS               43.76   27.78   15.14   257.81  \n",
              "PC                13.28    8.52    5.25   255.76  \n",
              "XOne              54.07   60.14   26.15   159.32  \n",
              "WiiU              22.03   16.35    4.60    82.19  \n",
              "PSV               11.90    6.25    4.25    53.81  \n",
              "\n",
              "[10 rows x 38 columns]"
            ]
          },
          "execution_count": 38,
          "metadata": {},
          "output_type": "execute_result"
        }
      ],
      "source": [
        "sales_by_year.loc[sales_by_year[2016] > 0].sort_values(by='All', ascending=False)"
      ]
    },
    {
      "cell_type": "markdown",
      "metadata": {
        "id": "p-B-XimgTY_C"
      },
      "source": [
        "Setelah difilter ternyata dari sekian banyak `platform` hanya ada `9 platform` yang masih aktif menjual produknya hingga tahun `2016`. Lima peringkat teratas adalah `X360`, `PS3`, `Wii`, `PS4`, an `3DS`."
      ]
    },
    {
      "cell_type": "code",
      "execution_count": null,
      "metadata": {
        "id": "C4upGt32TY_D",
        "outputId": "211977b3-a3c4-4e20-d797-ee8216b38c52"
      },
      "outputs": [
        {
          "data": {
            "image/png": "[encoded data removed]",
            "text/plain": [
              "<Figure size 864x432 with 1 Axes>"
            ]
          },
          "metadata": {
            "needs_background": "light"
          },
          "output_type": "display_data"
        }
      ],
      "source": [
        "sales_by_year_ps4 = pd.DataFrame(sales_by_year.loc['PS4'].copy())\n",
        "sales_by_year_ps4.reset_index(inplace=True)\n",
        "sales_by_year_ps4.columns = ['year', 'sales']\n",
        "sales_by_year_ps4 = sales_by_year_ps4.loc[(sales_by_year_ps4['sales'] > 0) & (sales_by_year_ps4['year'] != 'All') ].copy()\n",
        "sales_by_year_ps4\n",
        "\n",
        "fig, ax = plt.subplots(figsize=(12, 6))\n",
        "\n",
        "plots = sns.barplot(data=sales_by_year_ps4, x='year', y='sales', ax=ax, color='orange')\n",
        "\n",
        "for bar in plots.patches:\n",
        "   \n",
        "    plots.annotate(format(bar.get_height(), '.2f'),\n",
        "                   (bar.get_x() + bar.get_width() / 2,\n",
        "                    bar.get_height()), ha='center', va='center',\n",
        "                   size=8, xytext=(0, 8),\n",
        "                   textcoords='offset points')\n",
        "\n",
        "plt.xticks(rotation=70)\n",
        "plt.title('PS4 Sales by Year', size=16)\n",
        "plt.xlabel('Year', size=14)\n",
        "plt.ylabel('Sales', size=14)\n",
        "plt.show()\n"
      ]
    },
    {
      "cell_type": "markdown",
      "metadata": {
        "id": "gwej0KgJTY_I"
      },
      "source": [
        "Dari kelima `platform` tersebut `PS4` terlihat paling potensial untuk tahun 2017. Karena dari segi `lifespan` paling muda dan membukukan penjualan terbesar di tahun `2016`."
      ]
    },
    {
      "cell_type": "code",
      "execution_count": null,
      "metadata": {
        "id": "4VYWEunQTY_J",
        "outputId": "2aca7697-f840-4386-9a98-d4d9749acd5a"
      },
      "outputs": [
        {
          "data": {
            "image/png": "[encoded data removed]",
            "text/plain": [
              "<Figure size 421.75x360 with 1 Axes>"
            ]
          },
          "metadata": {
            "needs_background": "light"
          },
          "output_type": "display_data"
        }
      ],
      "source": [
        "sales_by_year_x360_PS3 = pd.DataFrame(sales_by_year.loc[['X360', 'PS3']].copy())\n",
        "sales_by_year_x360_PS3 = sales_by_year_x360_PS3.transpose()\n",
        "sales_by_year_x360_PS3.reset_index(inplace=True)\n",
        "sales_by_year_x360_PS3.columns = ['year', 'X360', 'PS3']\n",
        "sales_by_year_x360_PS3 = sales_by_year_x360_PS3.loc[(sales_by_year_x360_PS3['X360'] > 0) & (sales_by_year_x360_PS3['year'] != 'All') ].copy()\n",
        "sales_by_year_x360_PS3 = sales_by_year_x360_PS3.melt(id_vars='year', var_name='platform', value_name='sales')\n",
        "\n",
        "\n",
        "sns.catplot(data=sales_by_year_x360_PS3, x='year', y='sales', hue='platform', kind='point')\n",
        "\n",
        "plt.xticks(rotation=70)\n",
        "plt.title('X360 and PS3 Sales by Year', size=16)\n",
        "plt.xlabel('Year', size=14)\n",
        "plt.ylabel('Sales', size=14)\n",
        "plt.show()\n"
      ]
    },
    {
      "cell_type": "markdown",
      "metadata": {
        "id": "AZ21qTtTTY_K"
      },
      "source": [
        "`X360` dan `PS3` menempati urutan dua teratas. Namun menurut saya kurang potensial karena jika diilihat `lifespan`nya sudah memasuki fase penurunan. Diluar lima teratas, `platform XOne` juga cukup potensial ditahun `2017`, karena `platform` tersebut penerus dari `X360`. Dan pada tahun `2016` `platform XOne` berhasil menempati penjualan terbesar kedua di tahun `2016`. Selanjutnya saya akan melihat `rata-rata` dan `boxplot` dari penjualan global dari `platform` yang masih aktif. "
      ]
    },
    {
      "cell_type": "code",
      "execution_count": null,
      "metadata": {
        "id": "bWGDHRTmTY_K",
        "outputId": "3959ccef-11fc-4c34-b6f0-c3364eb05f75"
      },
      "outputs": [
        {
          "data": {
            "text/plain": [
              "['X360', 'PS3', 'Wii', 'PS4', '3DS', 'PC', 'XOne', 'WiiU', 'PSV']"
            ]
          },
          "execution_count": 41,
          "metadata": {},
          "output_type": "execute_result"
        }
      ],
      "source": [
        "active_platforms = sales_by_year.loc[sales_by_year[2016] > 0].index.tolist()\n",
        "active_platforms.remove('All')\n",
        "active_platforms"
      ]
    },
    {
      "cell_type": "code",
      "execution_count": null,
      "metadata": {
        "id": "1950D29oTY_K",
        "outputId": "123a05a6-bf66-4e1e-f30c-c7ada69a3d67"
      },
      "outputs": [
        {
          "data": {
            "text/plain": [
              "array(['Wii', 'X360', 'PS3', 'PS4', '3DS', 'PC', 'XOne', 'WiiU', 'PSV'],\n",
              "      dtype=object)"
            ]
          },
          "execution_count": 42,
          "metadata": {},
          "output_type": "execute_result"
        }
      ],
      "source": [
        "df_active_platforms = df_filled[df_filled['platform'].isin(active_platforms)] \n",
        "df_active_platforms['platform'].unique()"
      ]
    },
    {
      "cell_type": "markdown",
      "metadata": {
        "id": "xPMA_LZFTY_L"
      },
      "source": [
        "`Dataframe` dengan filter `platform` yang masih aktif hingga `2016` telah berhasil dilakukan. Sekarang saatnya melakukan analisa `rata-rata` dan `boxplot`nya."
      ]
    },
    {
      "cell_type": "markdown",
      "metadata": {
        "id": "o8nyaKywTY_L"
      },
      "source": [
        "#### Boxplot dan Rata-Rata Penjualan Platform yang Masih Aktif"
      ]
    },
    {
      "cell_type": "code",
      "execution_count": null,
      "metadata": {
        "id": "iV5N_epOTY_L",
        "outputId": "5c47cb0e-c481-4802-83f3-5366328bde72"
      },
      "outputs": [
        {
          "data": {
            "image/png": "[encoded data removed]",
            "text/plain": [
              "<Figure size 648x720 with 1 Axes>"
            ]
          },
          "metadata": {
            "needs_background": "light"
          },
          "output_type": "display_data"
        }
      ],
      "source": [
        "fig, ax = plt.subplots(figsize=(9, 10))\n",
        "\n",
        "sns.boxplot(data=df_active_platforms, y='tot_sales', x='platform', ax=ax)\n",
        "ax.set_title(\"Sales by Platform\")\n",
        "plt.xlabel(\"Platform\")\n",
        "plt.ylabel(\"Global Sales\")\n",
        "plt.show()"
      ]
    },
    {
      "cell_type": "markdown",
      "metadata": {
        "id": "5ghSQJB9TY_M"
      },
      "source": [
        "Ternyata ada nilai `outlier` yang sangat ekstrim pada `platform` `Wii`. Saya perlu memeriksa nilai tersebut terlebih dahulu."
      ]
    },
    {
      "cell_type": "code",
      "execution_count": null,
      "metadata": {
        "id": "hLkI4G5VTY_M",
        "outputId": "0cf95fef-492f-48ab-e67c-837729d71191"
      },
      "outputs": [
        {
          "data": {
            "text/html": [
              "<div>\n",
              "<style scoped>\n",
              "    .dataframe tbody tr th:only-of-type {\n",
              "        vertical-align: middle;\n",
              "    }\n",
              "\n",
              "    .dataframe tbody tr th {\n",
              "        vertical-align: top;\n",
              "    }\n",
              "\n",
              "    .dataframe thead th {\n",
              "        text-align: right;\n",
              "    }\n",
              "</style>\n",
              "<table border=\"1\" class=\"dataframe\">\n",
              "  <thead>\n",
              "    <tr style=\"text-align: right;\">\n",
              "      <th></th>\n",
              "      <th>name</th>\n",
              "      <th>platform</th>\n",
              "      <th>year_of_release</th>\n",
              "      <th>genre</th>\n",
              "      <th>na_sales</th>\n",
              "      <th>eu_sales</th>\n",
              "      <th>jp_sales</th>\n",
              "      <th>other_sales</th>\n",
              "      <th>tot_sales</th>\n",
              "      <th>critic_score</th>\n",
              "      <th>user_score</th>\n",
              "      <th>rating</th>\n",
              "    </tr>\n",
              "  </thead>\n",
              "  <tbody>\n",
              "    <tr>\n",
              "      <th>0</th>\n",
              "      <td>Wii Sports</td>\n",
              "      <td>Wii</td>\n",
              "      <td>2006</td>\n",
              "      <td>Sports</td>\n",
              "      <td>41.36</td>\n",
              "      <td>28.96</td>\n",
              "      <td>3.77</td>\n",
              "      <td>8.45</td>\n",
              "      <td>82.54</td>\n",
              "      <td>76.0</td>\n",
              "      <td>8.0</td>\n",
              "      <td>E</td>\n",
              "    </tr>\n",
              "    <tr>\n",
              "      <th>2</th>\n",
              "      <td>Mario Kart Wii</td>\n",
              "      <td>Wii</td>\n",
              "      <td>2008</td>\n",
              "      <td>Racing</td>\n",
              "      <td>15.68</td>\n",
              "      <td>12.76</td>\n",
              "      <td>3.79</td>\n",
              "      <td>3.29</td>\n",
              "      <td>35.52</td>\n",
              "      <td>82.0</td>\n",
              "      <td>8.3</td>\n",
              "      <td>E</td>\n",
              "    </tr>\n",
              "    <tr>\n",
              "      <th>3</th>\n",
              "      <td>Wii Sports Resort</td>\n",
              "      <td>Wii</td>\n",
              "      <td>2009</td>\n",
              "      <td>Sports</td>\n",
              "      <td>15.61</td>\n",
              "      <td>10.93</td>\n",
              "      <td>3.28</td>\n",
              "      <td>2.95</td>\n",
              "      <td>32.77</td>\n",
              "      <td>80.0</td>\n",
              "      <td>8.0</td>\n",
              "      <td>E</td>\n",
              "    </tr>\n",
              "    <tr>\n",
              "      <th>7</th>\n",
              "      <td>Wii Play</td>\n",
              "      <td>Wii</td>\n",
              "      <td>2006</td>\n",
              "      <td>Misc</td>\n",
              "      <td>13.96</td>\n",
              "      <td>9.18</td>\n",
              "      <td>2.93</td>\n",
              "      <td>2.84</td>\n",
              "      <td>28.91</td>\n",
              "      <td>58.0</td>\n",
              "      <td>6.6</td>\n",
              "      <td>E</td>\n",
              "    </tr>\n",
              "    <tr>\n",
              "      <th>8</th>\n",
              "      <td>New Super Mario Bros. Wii</td>\n",
              "      <td>Wii</td>\n",
              "      <td>2009</td>\n",
              "      <td>Platform</td>\n",
              "      <td>14.44</td>\n",
              "      <td>6.94</td>\n",
              "      <td>4.70</td>\n",
              "      <td>2.24</td>\n",
              "      <td>28.32</td>\n",
              "      <td>87.0</td>\n",
              "      <td>8.4</td>\n",
              "      <td>E</td>\n",
              "    </tr>\n",
              "  </tbody>\n",
              "</table>\n",
              "</div>"
            ],
            "text/plain": [
              "                        name platform  year_of_release     genre  na_sales  \\\n",
              "0                 Wii Sports      Wii             2006    Sports     41.36   \n",
              "2             Mario Kart Wii      Wii             2008    Racing     15.68   \n",
              "3          Wii Sports Resort      Wii             2009    Sports     15.61   \n",
              "7                   Wii Play      Wii             2006      Misc     13.96   \n",
              "8  New Super Mario Bros. Wii      Wii             2009  Platform     14.44   \n",
              "\n",
              "   eu_sales  jp_sales  other_sales  tot_sales  critic_score  user_score rating  \n",
              "0     28.96      3.77         8.45      82.54          76.0         8.0      E  \n",
              "2     12.76      3.79         3.29      35.52          82.0         8.3      E  \n",
              "3     10.93      3.28         2.95      32.77          80.0         8.0      E  \n",
              "7      9.18      2.93         2.84      28.91          58.0         6.6      E  \n",
              "8      6.94      4.70         2.24      28.32          87.0         8.4      E  "
            ]
          },
          "execution_count": 44,
          "metadata": {},
          "output_type": "execute_result"
        }
      ],
      "source": [
        "df_active_platforms.sort_values(by='tot_sales', ascending=False).head()"
      ]
    },
    {
      "cell_type": "markdown",
      "metadata": {
        "id": "Ma9942_JTY_M"
      },
      "source": [
        "Ada beberapa game dari `platform Wii` berhasil membukukan penjualan sangat tinggi. Agar membuat visualisasinya lebih baik saya akan melakukan `ylimit` yang lebih rendah agar visualisasi `boxplot`nya lebih jelas."
      ]
    },
    {
      "cell_type": "code",
      "execution_count": null,
      "metadata": {
        "id": "fVEZ_GgDTY_M",
        "outputId": "1b2b08d2-5021-4c57-ea52-8eb8bfc032e5"
      },
      "outputs": [
        {
          "data": {
            "image/png": "[encoded data removed]",
            "text/plain": [
              "<Figure size 648x720 with 1 Axes>"
            ]
          },
          "metadata": {
            "needs_background": "light"
          },
          "output_type": "display_data"
        }
      ],
      "source": [
        "fig, ax = plt.subplots(figsize=(9, 10))\n",
        "\n",
        "sns.boxplot(data=df_active_platforms, y='tot_sales', x='platform', ax=ax)\n",
        "ax.set_title(\"Sales by Platform\")\n",
        "plt.xlabel(\"Platform\")\n",
        "plt.ylabel(\"Global Sales\")\n",
        "plt.ylim(0,2)\n",
        "plt.show()"
      ]
    },
    {
      "cell_type": "markdown",
      "metadata": {
        "id": "ymfhL1q3TY_M"
      },
      "source": [
        "Meskipun `platform Wii` memiliki game dengan nilai penjualan terbesar, namun nilai `median`nya masih lebih rendah dibandingkan `X360` dan `PS3`. Mungkin hal tersebut yang membuat nilai total penjualannya lebih rendah dibandingkan kedua `platform` tersebut.  "
      ]
    },
    {
      "cell_type": "code",
      "execution_count": null,
      "metadata": {
        "id": "NvusKSNTTY_M"
      },
      "outputs": [],
      "source": [
        "active_platforms_mean = df_active_platforms.pivot_table(index='platform', values='tot_sales')\n",
        "active_platforms_mean.reset_index(inplace=True)\n",
        "active_platforms_mean = active_platforms_mean.sort_values(by='tot_sales', ascending=False)"
      ]
    },
    {
      "cell_type": "code",
      "execution_count": null,
      "metadata": {
        "id": "7bVFTPjvTY_N",
        "outputId": "715a7e08-1835-4b40-e1c8-267176be3e08"
      },
      "outputs": [
        {
          "data": {
            "image/png": "[encoded data removed]",
            "text/plain": [
              "<Figure size 864x432 with 1 Axes>"
            ]
          },
          "metadata": {
            "needs_background": "light"
          },
          "output_type": "display_data"
        }
      ],
      "source": [
        "fig, ax = plt.subplots(figsize=(12, 6))\n",
        "plots = sns.barplot(data=active_platforms_mean, x='platform', y='tot_sales', ax=ax)\n",
        "\n",
        "for bar in plots.patches:\n",
        "   \n",
        "    plots.annotate(format(bar.get_height(), '.2f'),\n",
        "                   (bar.get_x() + bar.get_width() / 2,\n",
        "                    bar.get_height()), ha='center', va='center',\n",
        "                   size=8, xytext=(0, 8),\n",
        "                   textcoords='offset points')\n",
        "\n",
        "plt.xticks(rotation=70)\n",
        "plt.title('Mean of Sales by Platform', size=16)\n",
        "plt.xlabel('Platform', size=14)\n",
        "plt.ylabel('Sales', size=14)\n",
        "plt.show()"
      ]
    },
    {
      "cell_type": "markdown",
      "metadata": {
        "id": "VTVD-M9zTY_N"
      },
      "source": [
        "`PS4` adalah `platform` yang memiliki rata-rata penjualan terbesar diantara `platform` yang masih aktif hingga `2016`. Hal ini semakin menguatkan `PS4` sebagai `platform` yang paling potensial untuk tahun `2017`."
      ]
    },
    {
      "cell_type": "markdown",
      "metadata": {
        "id": "xuCKjNbtTY_N"
      },
      "source": [
        "#### Korelasi antara Ulasan dengan Penjualan"
      ]
    },
    {
      "cell_type": "markdown",
      "metadata": {
        "id": "TefChmQmTY_N"
      },
      "source": [
        "Sekarang saya akan mencoba mencari tahu apakah ada korelasi antara ulasan kritikus atau pengguna memiliki korelasi dengan penjualan. `Platform` yang akan dilihat korelasinya adalah `PS4`."
      ]
    },
    {
      "cell_type": "code",
      "execution_count": null,
      "metadata": {
        "id": "chfdQX8uTY_N",
        "outputId": "c6a5950b-5ae9-46db-8611-9eb28b72d141"
      },
      "outputs": [
        {
          "data": {
            "text/plain": [
              "array(['PS4'], dtype=object)"
            ]
          },
          "execution_count": 48,
          "metadata": {},
          "output_type": "execute_result"
        }
      ],
      "source": [
        "df_active_platforms_ps4 = df_active_platforms.loc[(df_active_platforms['platform'] == 'PS4') & (df_active_platforms['user_score'] >= 0)].copy()\n",
        "df_active_platforms_ps4['platform'].unique()"
      ]
    },
    {
      "cell_type": "markdown",
      "metadata": {
        "id": "Fb1yWK4uTY_O"
      },
      "source": [
        "Saya telah membuat `dataframe` khusus dengan `platform` `PS4` untuk dilihat korelasinya. "
      ]
    },
    {
      "cell_type": "markdown",
      "metadata": {
        "id": "rukEYhOETY_O"
      },
      "source": [
        "##### critic_score"
      ]
    },
    {
      "cell_type": "code",
      "execution_count": null,
      "metadata": {
        "id": "pZWeGRpfTY_O",
        "outputId": "6e44369c-d26b-4d4d-cc18-6b19a14b4757"
      },
      "outputs": [
        {
          "data": {
            "image/png": "[encoded data removed]",
            "text/plain": [
              "<Figure size 720x432 with 1 Axes>"
            ]
          },
          "metadata": {
            "needs_background": "light"
          },
          "output_type": "display_data"
        }
      ],
      "source": [
        "df_active_platforms_ps4.plot(kind='scatter', \n",
        "                             x='critic_score', \n",
        "                             y='tot_sales', \n",
        "                             grid=True, \n",
        "                             figsize = (10,6))\n",
        "\n",
        "plt.title('Correlation Between Critic Score and Total Sales', size=16)\n",
        "plt.xlabel('Critic Score', size=14)\n",
        "plt.ylabel('Total Sales', size=14)\n",
        "plt.show()"
      ]
    },
    {
      "cell_type": "code",
      "execution_count": null,
      "metadata": {
        "id": "6jkfodprTY_O",
        "outputId": "46c2f2ff-9649-46fb-d654-6cdc7c3aafee"
      },
      "outputs": [
        {
          "data": {
            "text/plain": [
              "0.40589480145836687"
            ]
          },
          "execution_count": 50,
          "metadata": {},
          "output_type": "execute_result"
        }
      ],
      "source": [
        "df_active_platforms_ps4['critic_score'].corr(df_active_platforms_ps4['tot_sales'])"
      ]
    },
    {
      "cell_type": "markdown",
      "metadata": {
        "id": "fB4CK8YuTY_P"
      },
      "source": [
        "Dari `scatter plot` menunjukan `critic score` yang baik dari kritikus belum tentu akan mendapatkan penjualan yang tinggi. `Game` dengan Penjualan yang relatif tinggi memang cenderung mendapatkan nilai kritik `70` keatas. Tetapi dari `koefisien` korelasinya yang sebesar `0.4` menunjukan tidak ada korelasi yang kuat antara `critic score` dengan `total sales`. "
      ]
    },
    {
      "cell_type": "markdown",
      "metadata": {
        "id": "NGS-VxiYTY_P"
      },
      "source": [
        "##### user_score"
      ]
    },
    {
      "cell_type": "code",
      "execution_count": null,
      "metadata": {
        "id": "HYVKA0JpTY_P",
        "outputId": "c74cbdcb-0151-4051-ae16-bc45f7b24704"
      },
      "outputs": [
        {
          "data": {
            "image/png": "[encoded data removed]",
            "text/plain": [
              "<Figure size 720x432 with 1 Axes>"
            ]
          },
          "metadata": {
            "needs_background": "light"
          },
          "output_type": "display_data"
        }
      ],
      "source": [
        "df_active_platforms_ps4.plot(kind='scatter', \n",
        "                             x='user_score', \n",
        "                             y='tot_sales', \n",
        "                             grid=True, \n",
        "                             figsize = (10,6))\n",
        "\n",
        "plt.title('Correlation Between User Score and Total Sales', size=16)\n",
        "plt.xlabel('User Score', size=14)\n",
        "plt.ylabel('Total Sales', size=14)\n",
        "plt.show()"
      ]
    },
    {
      "cell_type": "code",
      "execution_count": null,
      "metadata": {
        "id": "-0xRGSWDTY_P",
        "outputId": "264bed94-b5ee-4eb4-bf0f-2966d8f8b1e3"
      },
      "outputs": [
        {
          "data": {
            "text/plain": [
              "-0.031957110204556424"
            ]
          },
          "execution_count": 52,
          "metadata": {},
          "output_type": "execute_result"
        }
      ],
      "source": [
        "df_active_platforms_ps4['user_score'].corr(df_active_platforms_ps4['tot_sales'])"
      ]
    },
    {
      "cell_type": "markdown",
      "metadata": {
        "id": "-DpUoSf1TY_Q"
      },
      "source": [
        "Dari `scatter plot` yang dihasilkan menunjukan tidak ada pola korelasi tertentu antara `user score` dengan `total sales`. Karena ada cukup banyak `game` dengan penjualan relatif tinggi meskipun `user score`nya dibawah `6`. Ditambah hasil koefisien korelasinya `-0.03` menebalkan bahwa artinya tidak ada korelasi antara `user score` dengan `total sales`."
      ]
    },
    {
      "cell_type": "markdown",
      "metadata": {
        "id": "qA7VerFWTY_Q"
      },
      "source": [
        "#### Penjualan Suatu Game pada Berbagai Platform"
      ]
    },
    {
      "cell_type": "code",
      "execution_count": null,
      "metadata": {
        "id": "eUSDyqe8TY_Q",
        "outputId": "197647a8-2442-4145-ae3a-3653cbbb70f6"
      },
      "outputs": [
        {
          "data": {
            "text/html": [
              "<div>\n",
              "<style scoped>\n",
              "    .dataframe tbody tr th:only-of-type {\n",
              "        vertical-align: middle;\n",
              "    }\n",
              "\n",
              "    .dataframe tbody tr th {\n",
              "        vertical-align: top;\n",
              "    }\n",
              "\n",
              "    .dataframe thead th {\n",
              "        text-align: right;\n",
              "    }\n",
              "</style>\n",
              "<table border=\"1\" class=\"dataframe\">\n",
              "  <thead>\n",
              "    <tr style=\"text-align: right;\">\n",
              "      <th>platform</th>\n",
              "      <th>3DS</th>\n",
              "      <th>PC</th>\n",
              "      <th>PS3</th>\n",
              "      <th>PS4</th>\n",
              "      <th>PSV</th>\n",
              "      <th>Wii</th>\n",
              "      <th>WiiU</th>\n",
              "      <th>X360</th>\n",
              "      <th>XOne</th>\n",
              "      <th>All</th>\n",
              "    </tr>\n",
              "    <tr>\n",
              "      <th>name</th>\n",
              "      <th></th>\n",
              "      <th></th>\n",
              "      <th></th>\n",
              "      <th></th>\n",
              "      <th></th>\n",
              "      <th></th>\n",
              "      <th></th>\n",
              "      <th></th>\n",
              "      <th></th>\n",
              "      <th></th>\n",
              "    </tr>\n",
              "  </thead>\n",
              "  <tbody>\n",
              "    <tr>\n",
              "      <th>All</th>\n",
              "      <td>259.0</td>\n",
              "      <td>259.52</td>\n",
              "      <td>939.65</td>\n",
              "      <td>314.14</td>\n",
              "      <td>54.07</td>\n",
              "      <td>907.51</td>\n",
              "      <td>82.19</td>\n",
              "      <td>971.42</td>\n",
              "      <td>159.32</td>\n",
              "      <td>3946.82</td>\n",
              "    </tr>\n",
              "    <tr>\n",
              "      <th>Wii Sports</th>\n",
              "      <td>0.0</td>\n",
              "      <td>0.00</td>\n",
              "      <td>0.00</td>\n",
              "      <td>0.00</td>\n",
              "      <td>0.00</td>\n",
              "      <td>82.54</td>\n",
              "      <td>0.00</td>\n",
              "      <td>0.00</td>\n",
              "      <td>0.00</td>\n",
              "      <td>82.54</td>\n",
              "    </tr>\n",
              "    <tr>\n",
              "      <th>Grand Theft Auto V</th>\n",
              "      <td>0.0</td>\n",
              "      <td>1.17</td>\n",
              "      <td>21.05</td>\n",
              "      <td>12.62</td>\n",
              "      <td>0.00</td>\n",
              "      <td>0.00</td>\n",
              "      <td>0.00</td>\n",
              "      <td>16.27</td>\n",
              "      <td>5.47</td>\n",
              "      <td>56.58</td>\n",
              "    </tr>\n",
              "    <tr>\n",
              "      <th>Mario Kart Wii</th>\n",
              "      <td>0.0</td>\n",
              "      <td>0.00</td>\n",
              "      <td>0.00</td>\n",
              "      <td>0.00</td>\n",
              "      <td>0.00</td>\n",
              "      <td>35.52</td>\n",
              "      <td>0.00</td>\n",
              "      <td>0.00</td>\n",
              "      <td>0.00</td>\n",
              "      <td>35.52</td>\n",
              "    </tr>\n",
              "    <tr>\n",
              "      <th>Wii Sports Resort</th>\n",
              "      <td>0.0</td>\n",
              "      <td>0.00</td>\n",
              "      <td>0.00</td>\n",
              "      <td>0.00</td>\n",
              "      <td>0.00</td>\n",
              "      <td>32.77</td>\n",
              "      <td>0.00</td>\n",
              "      <td>0.00</td>\n",
              "      <td>0.00</td>\n",
              "      <td>32.77</td>\n",
              "    </tr>\n",
              "    <tr>\n",
              "      <th>Call of Duty: Modern Warfare 3</th>\n",
              "      <td>0.0</td>\n",
              "      <td>1.71</td>\n",
              "      <td>13.33</td>\n",
              "      <td>0.00</td>\n",
              "      <td>0.00</td>\n",
              "      <td>0.83</td>\n",
              "      <td>0.00</td>\n",
              "      <td>14.73</td>\n",
              "      <td>0.00</td>\n",
              "      <td>30.60</td>\n",
              "    </tr>\n",
              "    <tr>\n",
              "      <th>Call of Duty: Black Ops</th>\n",
              "      <td>0.0</td>\n",
              "      <td>1.62</td>\n",
              "      <td>12.63</td>\n",
              "      <td>0.00</td>\n",
              "      <td>0.00</td>\n",
              "      <td>1.37</td>\n",
              "      <td>0.00</td>\n",
              "      <td>14.62</td>\n",
              "      <td>0.00</td>\n",
              "      <td>30.24</td>\n",
              "    </tr>\n",
              "    <tr>\n",
              "      <th>Call of Duty: Black Ops II</th>\n",
              "      <td>0.0</td>\n",
              "      <td>1.52</td>\n",
              "      <td>13.79</td>\n",
              "      <td>0.00</td>\n",
              "      <td>0.00</td>\n",
              "      <td>0.00</td>\n",
              "      <td>0.41</td>\n",
              "      <td>13.68</td>\n",
              "      <td>0.00</td>\n",
              "      <td>29.40</td>\n",
              "    </tr>\n",
              "    <tr>\n",
              "      <th>Wii Play</th>\n",
              "      <td>0.0</td>\n",
              "      <td>0.00</td>\n",
              "      <td>0.00</td>\n",
              "      <td>0.00</td>\n",
              "      <td>0.00</td>\n",
              "      <td>28.91</td>\n",
              "      <td>0.00</td>\n",
              "      <td>0.00</td>\n",
              "      <td>0.00</td>\n",
              "      <td>28.91</td>\n",
              "    </tr>\n",
              "    <tr>\n",
              "      <th>New Super Mario Bros. Wii</th>\n",
              "      <td>0.0</td>\n",
              "      <td>0.00</td>\n",
              "      <td>0.00</td>\n",
              "      <td>0.00</td>\n",
              "      <td>0.00</td>\n",
              "      <td>28.32</td>\n",
              "      <td>0.00</td>\n",
              "      <td>0.00</td>\n",
              "      <td>0.00</td>\n",
              "      <td>28.32</td>\n",
              "    </tr>\n",
              "    <tr>\n",
              "      <th>Call of Duty: Ghosts</th>\n",
              "      <td>0.0</td>\n",
              "      <td>0.69</td>\n",
              "      <td>9.36</td>\n",
              "      <td>3.83</td>\n",
              "      <td>0.00</td>\n",
              "      <td>0.00</td>\n",
              "      <td>0.35</td>\n",
              "      <td>10.24</td>\n",
              "      <td>2.92</td>\n",
              "      <td>27.39</td>\n",
              "    </tr>\n",
              "    <tr>\n",
              "      <th>Call of Duty: Black Ops 3</th>\n",
              "      <td>0.0</td>\n",
              "      <td>0.26</td>\n",
              "      <td>1.69</td>\n",
              "      <td>14.63</td>\n",
              "      <td>0.00</td>\n",
              "      <td>0.00</td>\n",
              "      <td>0.00</td>\n",
              "      <td>1.70</td>\n",
              "      <td>7.39</td>\n",
              "      <td>25.67</td>\n",
              "    </tr>\n",
              "    <tr>\n",
              "      <th>Call of Duty: Modern Warfare 2</th>\n",
              "      <td>0.0</td>\n",
              "      <td>0.89</td>\n",
              "      <td>10.61</td>\n",
              "      <td>0.00</td>\n",
              "      <td>0.00</td>\n",
              "      <td>0.00</td>\n",
              "      <td>0.00</td>\n",
              "      <td>13.47</td>\n",
              "      <td>0.00</td>\n",
              "      <td>24.97</td>\n",
              "    </tr>\n",
              "    <tr>\n",
              "      <th>Minecraft</th>\n",
              "      <td>0.0</td>\n",
              "      <td>0.00</td>\n",
              "      <td>5.27</td>\n",
              "      <td>4.32</td>\n",
              "      <td>1.96</td>\n",
              "      <td>0.00</td>\n",
              "      <td>0.67</td>\n",
              "      <td>9.18</td>\n",
              "      <td>2.76</td>\n",
              "      <td>24.16</td>\n",
              "    </tr>\n",
              "    <tr>\n",
              "      <th>Wii Fit</th>\n",
              "      <td>0.0</td>\n",
              "      <td>0.00</td>\n",
              "      <td>0.00</td>\n",
              "      <td>0.00</td>\n",
              "      <td>0.00</td>\n",
              "      <td>22.70</td>\n",
              "      <td>0.00</td>\n",
              "      <td>0.00</td>\n",
              "      <td>0.00</td>\n",
              "      <td>22.70</td>\n",
              "    </tr>\n",
              "    <tr>\n",
              "      <th>Grand Theft Auto IV</th>\n",
              "      <td>0.0</td>\n",
              "      <td>0.87</td>\n",
              "      <td>10.50</td>\n",
              "      <td>0.00</td>\n",
              "      <td>0.00</td>\n",
              "      <td>0.00</td>\n",
              "      <td>0.00</td>\n",
              "      <td>11.00</td>\n",
              "      <td>0.00</td>\n",
              "      <td>22.37</td>\n",
              "    </tr>\n",
              "  </tbody>\n",
              "</table>\n",
              "</div>"
            ],
            "text/plain": [
              "platform                          3DS      PC     PS3     PS4    PSV     Wii  \\\n",
              "name                                                                           \n",
              "All                             259.0  259.52  939.65  314.14  54.07  907.51   \n",
              "Wii Sports                        0.0    0.00    0.00    0.00   0.00   82.54   \n",
              "Grand Theft Auto V                0.0    1.17   21.05   12.62   0.00    0.00   \n",
              "Mario Kart Wii                    0.0    0.00    0.00    0.00   0.00   35.52   \n",
              "Wii Sports Resort                 0.0    0.00    0.00    0.00   0.00   32.77   \n",
              "Call of Duty: Modern Warfare 3    0.0    1.71   13.33    0.00   0.00    0.83   \n",
              "Call of Duty: Black Ops           0.0    1.62   12.63    0.00   0.00    1.37   \n",
              "Call of Duty: Black Ops II        0.0    1.52   13.79    0.00   0.00    0.00   \n",
              "Wii Play                          0.0    0.00    0.00    0.00   0.00   28.91   \n",
              "New Super Mario Bros. Wii         0.0    0.00    0.00    0.00   0.00   28.32   \n",
              "Call of Duty: Ghosts              0.0    0.69    9.36    3.83   0.00    0.00   \n",
              "Call of Duty: Black Ops 3         0.0    0.26    1.69   14.63   0.00    0.00   \n",
              "Call of Duty: Modern Warfare 2    0.0    0.89   10.61    0.00   0.00    0.00   \n",
              "Minecraft                         0.0    0.00    5.27    4.32   1.96    0.00   \n",
              "Wii Fit                           0.0    0.00    0.00    0.00   0.00   22.70   \n",
              "Grand Theft Auto IV               0.0    0.87   10.50    0.00   0.00    0.00   \n",
              "\n",
              "platform                         WiiU    X360    XOne      All  \n",
              "name                                                            \n",
              "All                             82.19  971.42  159.32  3946.82  \n",
              "Wii Sports                       0.00    0.00    0.00    82.54  \n",
              "Grand Theft Auto V               0.00   16.27    5.47    56.58  \n",
              "Mario Kart Wii                   0.00    0.00    0.00    35.52  \n",
              "Wii Sports Resort                0.00    0.00    0.00    32.77  \n",
              "Call of Duty: Modern Warfare 3   0.00   14.73    0.00    30.60  \n",
              "Call of Duty: Black Ops          0.00   14.62    0.00    30.24  \n",
              "Call of Duty: Black Ops II       0.41   13.68    0.00    29.40  \n",
              "Wii Play                         0.00    0.00    0.00    28.91  \n",
              "New Super Mario Bros. Wii        0.00    0.00    0.00    28.32  \n",
              "Call of Duty: Ghosts             0.35   10.24    2.92    27.39  \n",
              "Call of Duty: Black Ops 3        0.00    1.70    7.39    25.67  \n",
              "Call of Duty: Modern Warfare 2   0.00   13.47    0.00    24.97  \n",
              "Minecraft                        0.67    9.18    2.76    24.16  \n",
              "Wii Fit                          0.00    0.00    0.00    22.70  \n",
              "Grand Theft Auto IV              0.00   11.00    0.00    22.37  "
            ]
          },
          "execution_count": 53,
          "metadata": {},
          "output_type": "execute_result"
        }
      ],
      "source": [
        "game_sales_by_platform = df_active_platforms.pivot_table(index='name', columns=['platform'], values='tot_sales', aggfunc='sum', margins=True)\n",
        "game_sales_by_platform = game_sales_by_platform.sort_values(by='All', ascending=False)\n",
        "\n",
        "for platform in game_sales_by_platform.columns:\n",
        "    game_sales_by_platform.loc[game_sales_by_platform[platform].isna(), platform] = 0\n",
        "\n",
        "game_sales_by_platform.head(16)"
      ]
    },
    {
      "cell_type": "markdown",
      "metadata": {
        "id": "Q4dAuoH0TY_R"
      },
      "source": [
        "Pada tabel diatas saya mengambil `15 game` terlaris dari `platform` yang masih aktif penjualannya hingga `2016`. Data ini untuk menganalisa bagaimana penjualan suatu `game` di berbagai `platform`. "
      ]
    },
    {
      "cell_type": "code",
      "execution_count": null,
      "metadata": {
        "scrolled": true,
        "id": "2K1cWglnTY_R",
        "outputId": "90c9b48a-98c2-441d-9a6b-86771071bec8"
      },
      "outputs": [
        {
          "data": {
            "text/html": [
              "<div>\n",
              "<style scoped>\n",
              "    .dataframe tbody tr th:only-of-type {\n",
              "        vertical-align: middle;\n",
              "    }\n",
              "\n",
              "    .dataframe tbody tr th {\n",
              "        vertical-align: top;\n",
              "    }\n",
              "\n",
              "    .dataframe thead th {\n",
              "        text-align: right;\n",
              "    }\n",
              "</style>\n",
              "<table border=\"1\" class=\"dataframe\">\n",
              "  <thead>\n",
              "    <tr style=\"text-align: right;\">\n",
              "      <th>platform</th>\n",
              "      <th>3DS</th>\n",
              "      <th>PC</th>\n",
              "      <th>PS3</th>\n",
              "      <th>PS4</th>\n",
              "      <th>PSV</th>\n",
              "      <th>Wii</th>\n",
              "      <th>WiiU</th>\n",
              "      <th>X360</th>\n",
              "      <th>XOne</th>\n",
              "      <th>All</th>\n",
              "    </tr>\n",
              "    <tr>\n",
              "      <th>name</th>\n",
              "      <th></th>\n",
              "      <th></th>\n",
              "      <th></th>\n",
              "      <th></th>\n",
              "      <th></th>\n",
              "      <th></th>\n",
              "      <th></th>\n",
              "      <th></th>\n",
              "      <th></th>\n",
              "      <th></th>\n",
              "    </tr>\n",
              "  </thead>\n",
              "  <tbody>\n",
              "    <tr>\n",
              "      <th>All</th>\n",
              "      <td>259.0</td>\n",
              "      <td>259.52</td>\n",
              "      <td>939.65</td>\n",
              "      <td>314.14</td>\n",
              "      <td>54.07</td>\n",
              "      <td>907.51</td>\n",
              "      <td>82.19</td>\n",
              "      <td>971.42</td>\n",
              "      <td>159.32</td>\n",
              "      <td>3946.82</td>\n",
              "    </tr>\n",
              "    <tr>\n",
              "      <th>Wii Sports</th>\n",
              "      <td>0.0</td>\n",
              "      <td>0.00</td>\n",
              "      <td>0.00</td>\n",
              "      <td>0.00</td>\n",
              "      <td>0.00</td>\n",
              "      <td>82.54</td>\n",
              "      <td>0.00</td>\n",
              "      <td>0.00</td>\n",
              "      <td>0.00</td>\n",
              "      <td>82.54</td>\n",
              "    </tr>\n",
              "    <tr>\n",
              "      <th>Mario Kart Wii</th>\n",
              "      <td>0.0</td>\n",
              "      <td>0.00</td>\n",
              "      <td>0.00</td>\n",
              "      <td>0.00</td>\n",
              "      <td>0.00</td>\n",
              "      <td>35.52</td>\n",
              "      <td>0.00</td>\n",
              "      <td>0.00</td>\n",
              "      <td>0.00</td>\n",
              "      <td>35.52</td>\n",
              "    </tr>\n",
              "    <tr>\n",
              "      <th>Wii Sports Resort</th>\n",
              "      <td>0.0</td>\n",
              "      <td>0.00</td>\n",
              "      <td>0.00</td>\n",
              "      <td>0.00</td>\n",
              "      <td>0.00</td>\n",
              "      <td>32.77</td>\n",
              "      <td>0.00</td>\n",
              "      <td>0.00</td>\n",
              "      <td>0.00</td>\n",
              "      <td>32.77</td>\n",
              "    </tr>\n",
              "    <tr>\n",
              "      <th>Call of Duty: Modern Warfare 3</th>\n",
              "      <td>0.0</td>\n",
              "      <td>1.71</td>\n",
              "      <td>13.33</td>\n",
              "      <td>0.00</td>\n",
              "      <td>0.00</td>\n",
              "      <td>0.83</td>\n",
              "      <td>0.00</td>\n",
              "      <td>14.73</td>\n",
              "      <td>0.00</td>\n",
              "      <td>30.60</td>\n",
              "    </tr>\n",
              "    <tr>\n",
              "      <th>Call of Duty: Black Ops</th>\n",
              "      <td>0.0</td>\n",
              "      <td>1.62</td>\n",
              "      <td>12.63</td>\n",
              "      <td>0.00</td>\n",
              "      <td>0.00</td>\n",
              "      <td>1.37</td>\n",
              "      <td>0.00</td>\n",
              "      <td>14.62</td>\n",
              "      <td>0.00</td>\n",
              "      <td>30.24</td>\n",
              "    </tr>\n",
              "  </tbody>\n",
              "</table>\n",
              "</div>"
            ],
            "text/plain": [
              "platform                          3DS      PC     PS3     PS4    PSV     Wii  \\\n",
              "name                                                                           \n",
              "All                             259.0  259.52  939.65  314.14  54.07  907.51   \n",
              "Wii Sports                        0.0    0.00    0.00    0.00   0.00   82.54   \n",
              "Mario Kart Wii                    0.0    0.00    0.00    0.00   0.00   35.52   \n",
              "Wii Sports Resort                 0.0    0.00    0.00    0.00   0.00   32.77   \n",
              "Call of Duty: Modern Warfare 3    0.0    1.71   13.33    0.00   0.00    0.83   \n",
              "Call of Duty: Black Ops           0.0    1.62   12.63    0.00   0.00    1.37   \n",
              "\n",
              "platform                         WiiU    X360    XOne      All  \n",
              "name                                                            \n",
              "All                             82.19  971.42  159.32  3946.82  \n",
              "Wii Sports                       0.00    0.00    0.00    82.54  \n",
              "Mario Kart Wii                   0.00    0.00    0.00    35.52  \n",
              "Wii Sports Resort                0.00    0.00    0.00    32.77  \n",
              "Call of Duty: Modern Warfare 3   0.00   14.73    0.00    30.60  \n",
              "Call of Duty: Black Ops          0.00   14.62    0.00    30.24  "
            ]
          },
          "execution_count": 54,
          "metadata": {},
          "output_type": "execute_result"
        }
      ],
      "source": [
        "game_sales_by_platform.loc[game_sales_by_platform['Wii'] > 0].sort_values(by='All', ascending=False).head(6)"
      ]
    },
    {
      "cell_type": "markdown",
      "metadata": {
        "id": "wWlfvBhTTY_S"
      },
      "source": [
        "Ada beberapa `game` yang eksklusif pada `platform Wii`. Game-game tersebut adalah `Wii Sports`, `Mario Kart Wii` dan `Wii Sports Resort`. Artinya dari `5 game` terlaris di platform `Wii` hanya `2 game` yang multi platform. Nilai penjualan game yang `multi platform` tersebut juga masih jauh dibawah dari game yang ekslusif di platform `Wii`.\n",
        "\n",
        "Karena game terlaris hanya ekslusif pada `platform Wii` maka saya akan mengambil contoh pada game kedua terlaris `Grand Theft Auto V` yang memang memiliki penjualan `multiplatform`. "
      ]
    },
    {
      "cell_type": "code",
      "execution_count": null,
      "metadata": {
        "id": "30UDkM3eTY_S",
        "outputId": "57187f1d-4001-4e35-84f9-c8c47cdc3a25"
      },
      "outputs": [
        {
          "data": {
            "image/png": "[encoded data removed]",
            "text/plain": [
              "<Figure size 864x432 with 1 Axes>"
            ]
          },
          "metadata": {
            "needs_background": "light"
          },
          "output_type": "display_data"
        }
      ],
      "source": [
        "game_sales_by_platform_gta_v = game_sales_by_platform.loc['Grand Theft Auto V'].copy()\n",
        "game_sales_by_platform_gta_v = game_sales_by_platform_gta_v.reset_index()\n",
        "game_sales_by_platform_gta_v.columns = ['platform', 'gta_v_sales']\n",
        "\n",
        "game_sales_by_platform_gta_v = game_sales_by_platform_gta_v.loc[(game_sales_by_platform_gta_v['gta_v_sales'] > 0) & (game_sales_by_platform_gta_v['platform'] != 'All')]\n",
        "game_sales_by_platform_gta_v\n",
        "\n",
        "fig, ax = plt.subplots(figsize=(12, 6))\n",
        "\n",
        "plots = sns.barplot(data=game_sales_by_platform_gta_v, x='platform', y='gta_v_sales', ax=ax)\n",
        "\n",
        "for bar in plots.patches:\n",
        "   \n",
        "    plots.annotate(format(bar.get_height(), '.2f'),\n",
        "                   (bar.get_x() + bar.get_width() / 2,\n",
        "                    bar.get_height()), ha='center', va='center',\n",
        "                   size=8, xytext=(0, 8),\n",
        "                   textcoords='offset points')\n",
        "\n",
        "plt.xticks(rotation=70)\n",
        "plt.title('Grand Theft Auto V Sales by Platform', size=16)\n",
        "plt.xlabel('Platform', size=14)\n",
        "plt.ylabel('Sales', size=14)\n",
        "plt.show()"
      ]
    },
    {
      "cell_type": "markdown",
      "metadata": {
        "id": "owsVh0q0TY_S"
      },
      "source": [
        "Penjualannya pada `platform PS3` paling tinggi. Disusul oleh `X360` dan `PS4`. Kenapa penjualan game ini lebih laris pada platform `PS3` dibandingkan `PS4`. Padahal `PS4` adalah `platform` dengan penjualan tertinggi pada tahun `2016`. Saya menduga karena game tersebut dirilis pada tahun `2013`. Yaitu diawal munculnya `PS4` Sehingga belum banyak customer yang memiliki `PS4`. Selanjutnya. Saya akan melihat tahun berapakah game `Grand Theft Auto V` dirilis."
      ]
    },
    {
      "cell_type": "code",
      "execution_count": null,
      "metadata": {
        "id": "vuDxunejTY_T",
        "outputId": "7efd5062-1f96-48ad-b4e9-27fc06a8556a"
      },
      "outputs": [
        {
          "data": {
            "text/html": [
              "<div>\n",
              "<style scoped>\n",
              "    .dataframe tbody tr th:only-of-type {\n",
              "        vertical-align: middle;\n",
              "    }\n",
              "\n",
              "    .dataframe tbody tr th {\n",
              "        vertical-align: top;\n",
              "    }\n",
              "\n",
              "    .dataframe thead th {\n",
              "        text-align: right;\n",
              "    }\n",
              "</style>\n",
              "<table border=\"1\" class=\"dataframe\">\n",
              "  <thead>\n",
              "    <tr style=\"text-align: right;\">\n",
              "      <th></th>\n",
              "      <th>name</th>\n",
              "      <th>platform</th>\n",
              "      <th>year_of_release</th>\n",
              "      <th>genre</th>\n",
              "      <th>na_sales</th>\n",
              "      <th>eu_sales</th>\n",
              "      <th>jp_sales</th>\n",
              "      <th>other_sales</th>\n",
              "      <th>tot_sales</th>\n",
              "      <th>critic_score</th>\n",
              "      <th>user_score</th>\n",
              "      <th>rating</th>\n",
              "    </tr>\n",
              "  </thead>\n",
              "  <tbody>\n",
              "    <tr>\n",
              "      <th>16</th>\n",
              "      <td>Grand Theft Auto V</td>\n",
              "      <td>PS3</td>\n",
              "      <td>2013</td>\n",
              "      <td>Action</td>\n",
              "      <td>7.02</td>\n",
              "      <td>9.09</td>\n",
              "      <td>0.98</td>\n",
              "      <td>3.96</td>\n",
              "      <td>21.05</td>\n",
              "      <td>97.0</td>\n",
              "      <td>8.2</td>\n",
              "      <td>M</td>\n",
              "    </tr>\n",
              "    <tr>\n",
              "      <th>23</th>\n",
              "      <td>Grand Theft Auto V</td>\n",
              "      <td>X360</td>\n",
              "      <td>2013</td>\n",
              "      <td>Action</td>\n",
              "      <td>9.66</td>\n",
              "      <td>5.14</td>\n",
              "      <td>0.06</td>\n",
              "      <td>1.41</td>\n",
              "      <td>16.27</td>\n",
              "      <td>97.0</td>\n",
              "      <td>8.1</td>\n",
              "      <td>M</td>\n",
              "    </tr>\n",
              "    <tr>\n",
              "      <th>42</th>\n",
              "      <td>Grand Theft Auto V</td>\n",
              "      <td>PS4</td>\n",
              "      <td>2014</td>\n",
              "      <td>Action</td>\n",
              "      <td>3.96</td>\n",
              "      <td>6.31</td>\n",
              "      <td>0.38</td>\n",
              "      <td>1.97</td>\n",
              "      <td>12.62</td>\n",
              "      <td>97.0</td>\n",
              "      <td>8.3</td>\n",
              "      <td>M</td>\n",
              "    </tr>\n",
              "    <tr>\n",
              "      <th>165</th>\n",
              "      <td>Grand Theft Auto V</td>\n",
              "      <td>XOne</td>\n",
              "      <td>2014</td>\n",
              "      <td>Action</td>\n",
              "      <td>2.81</td>\n",
              "      <td>2.19</td>\n",
              "      <td>0.00</td>\n",
              "      <td>0.47</td>\n",
              "      <td>5.47</td>\n",
              "      <td>97.0</td>\n",
              "      <td>7.9</td>\n",
              "      <td>M</td>\n",
              "    </tr>\n",
              "    <tr>\n",
              "      <th>1730</th>\n",
              "      <td>Grand Theft Auto V</td>\n",
              "      <td>PC</td>\n",
              "      <td>2015</td>\n",
              "      <td>Action</td>\n",
              "      <td>0.39</td>\n",
              "      <td>0.69</td>\n",
              "      <td>0.00</td>\n",
              "      <td>0.09</td>\n",
              "      <td>1.17</td>\n",
              "      <td>96.0</td>\n",
              "      <td>7.9</td>\n",
              "      <td>M</td>\n",
              "    </tr>\n",
              "  </tbody>\n",
              "</table>\n",
              "</div>"
            ],
            "text/plain": [
              "                    name platform  year_of_release   genre  na_sales  \\\n",
              "16    Grand Theft Auto V      PS3             2013  Action      7.02   \n",
              "23    Grand Theft Auto V     X360             2013  Action      9.66   \n",
              "42    Grand Theft Auto V      PS4             2014  Action      3.96   \n",
              "165   Grand Theft Auto V     XOne             2014  Action      2.81   \n",
              "1730  Grand Theft Auto V       PC             2015  Action      0.39   \n",
              "\n",
              "      eu_sales  jp_sales  other_sales  tot_sales  critic_score  user_score  \\\n",
              "16        9.09      0.98         3.96      21.05          97.0         8.2   \n",
              "23        5.14      0.06         1.41      16.27          97.0         8.1   \n",
              "42        6.31      0.38         1.97      12.62          97.0         8.3   \n",
              "165       2.19      0.00         0.47       5.47          97.0         7.9   \n",
              "1730      0.69      0.00         0.09       1.17          96.0         7.9   \n",
              "\n",
              "     rating  \n",
              "16        M  \n",
              "23        M  \n",
              "42        M  \n",
              "165       M  \n",
              "1730      M  "
            ]
          },
          "execution_count": 56,
          "metadata": {},
          "output_type": "execute_result"
        }
      ],
      "source": [
        "df_active_platforms.loc[df_active_platforms['name'] == 'Grand Theft Auto V' ]"
      ]
    },
    {
      "cell_type": "markdown",
      "metadata": {
        "id": "ve-HokJvTY_T"
      },
      "source": [
        "Dugaan saya tepat. Game tersebut dirilis pada tahun `2013` untuk platform `PS3` dan `X360`. Selanjutnya baru menyusul untuk platform `PS4`, `XOne`, dan `PC`. Artinya tahun rilis suatu game turut mempengaruhi penjualan suatu game di suatu `platform`. "
      ]
    },
    {
      "cell_type": "markdown",
      "metadata": {
        "id": "UEuky7gvTY_T"
      },
      "source": [
        "### Penjualan Berdasarkan Genre"
      ]
    },
    {
      "cell_type": "markdown",
      "metadata": {
        "id": "E_WIOdoKTY_T"
      },
      "source": [
        "#### Number of Game by Genre"
      ]
    },
    {
      "cell_type": "code",
      "execution_count": null,
      "metadata": {
        "id": "Z5h81SyyTY_T",
        "outputId": "0930538b-974a-4eef-bba3-0d33872f74b8"
      },
      "outputs": [
        {
          "data": {
            "image/png": "[encoded data removed]",
            "text/plain": [
              "<Figure size 864x432 with 1 Axes>"
            ]
          },
          "metadata": {
            "needs_background": "light"
          },
          "output_type": "display_data"
        }
      ],
      "source": [
        "genre_count_by_game = df_active_platforms.pivot_table(index='genre', values='name', aggfunc='count')\n",
        "genre_count_by_game.reset_index(inplace=True)\n",
        "genre_count_by_game.columns = ['genre', 'game_count']\n",
        "genre_count_by_game = genre_count_by_game.sort_values(by='game_count', ascending=False)\n",
        "genre_count_by_game\n",
        "\n",
        "fig, ax = plt.subplots(figsize=(12, 6))\n",
        "\n",
        "plots = sns.barplot(data=genre_count_by_game, x='genre', y='game_count', ax=ax)\n",
        "\n",
        "for bar in plots.patches:\n",
        "   \n",
        "    plots.annotate(format(bar.get_height(), '.2f'),\n",
        "                   (bar.get_x() + bar.get_width() / 2,\n",
        "                    bar.get_height()), ha='center', va='center',\n",
        "                   size=8, xytext=(0, 8),\n",
        "                   textcoords='offset points')\n",
        "\n",
        "plt.xticks(rotation=45)\n",
        "plt.title('Number of Games by Genre', size=16)\n",
        "plt.xlabel('Number of Games', size=14)\n",
        "plt.ylabel('Genre', size=14)\n",
        "plt.show()"
      ]
    },
    {
      "cell_type": "markdown",
      "metadata": {
        "id": "g3oINxCMTY_U"
      },
      "source": [
        "Jumlah `game` dengan `genre` `Action` jauh lebih tinggi, hampir dua kali lipat dari `genre game` kedua terbanyak `Sports`. Selanjutnya saya akan melihat dari segi pendapatannya. Apakah `game` dengan `genre` terbanyak memiliki penjualan terbanyak."
      ]
    },
    {
      "cell_type": "markdown",
      "metadata": {
        "id": "6TA4x8tATY_U"
      },
      "source": [
        "#### Sales by Genre"
      ]
    },
    {
      "cell_type": "code",
      "execution_count": null,
      "metadata": {
        "id": "3wRzaK5FTY_U",
        "outputId": "11be843e-b2db-4e3f-ba31-60484f514943"
      },
      "outputs": [
        {
          "data": {
            "image/png": "[encoded data removed]",
            "text/plain": [
              "<Figure size 864x432 with 1 Axes>"
            ]
          },
          "metadata": {
            "needs_background": "light"
          },
          "output_type": "display_data"
        }
      ],
      "source": [
        "sales_by_genre = df_active_platforms.pivot_table(index='genre', values='tot_sales', aggfunc='sum')\n",
        "sales_by_genre.reset_index(inplace=True)\n",
        "sales_by_genre.columns = ['genre', 'sales']\n",
        "sales_by_genre = sales_by_genre.sort_values(by='sales', ascending=False)\n",
        "sales_by_genre\n",
        "\n",
        "fig, ax = plt.subplots(figsize=(12, 6))\n",
        "\n",
        "plots = sns.barplot(data=sales_by_genre, x='genre', y='sales', ax=ax)\n",
        "\n",
        "for bar in plots.patches:\n",
        "   \n",
        "    plots.annotate(format(bar.get_height(), '.2f'),\n",
        "                   (bar.get_x() + bar.get_width() / 2,\n",
        "                    bar.get_height()), ha='center', va='center',\n",
        "                   size=8, xytext=(0, 8),\n",
        "                   textcoords='offset points')\n",
        "\n",
        "plt.xticks(rotation=45)\n",
        "plt.title('Sales of Games by Genre', size=16)\n",
        "plt.xlabel('Sales of Games', size=14)\n",
        "plt.ylabel('Genre', size=14)\n",
        "plt.show()"
      ]
    },
    {
      "cell_type": "markdown",
      "metadata": {
        "id": "ZRba3UP0TY_X"
      },
      "source": [
        "Sesuai dengan jumlahnya, penjualan tertinggi adalah `game` dengan `genre` `Action` dengan nilai penjualan `$915 juta`. Yang menarik adalah `genre` `Action`, `Shooter`, `Sports`, `Misc`, dan `Role Playing` menempati lima peringkat teratas pada kedua chart diatas. Artinya kelima `genre` tersebut adalah genre yang relatif lebih digemari oleh `gamers`. \n",
        "\n",
        "Diantara kelima `genre` tersebut `shooter` menjadi `genre` yang jumlah gamenya relatif lebih sedikit, namun dari segi penjualan menempati urutan kedua terbanyak. "
      ]
    },
    {
      "cell_type": "markdown",
      "metadata": {
        "id": "V_P9mQEZTY_Y"
      },
      "source": [
        "## Profil Penjualan pada Masing-Masing Wilayah"
      ]
    },
    {
      "cell_type": "markdown",
      "metadata": {
        "id": "8cO0GPwZTY_Z"
      },
      "source": [
        "### Platform"
      ]
    },
    {
      "cell_type": "markdown",
      "metadata": {
        "id": "ZMHcqjauTY_Z"
      },
      "source": [
        "#### North America Sales by Platform"
      ]
    },
    {
      "cell_type": "code",
      "execution_count": null,
      "metadata": {
        "id": "rePMApiOTY_a",
        "outputId": "de4778a7-c9e4-4201-8a01-a7fb6861c24b"
      },
      "outputs": [
        {
          "data": {
            "image/png": "[encoded data removed]",
            "text/plain": [
              "<Figure size 864x432 with 1 Axes>"
            ]
          },
          "metadata": {
            "needs_background": "light"
          },
          "output_type": "display_data"
        }
      ],
      "source": [
        "na_sales_by_platform = df_active_platforms.pivot_table(index='platform', values='na_sales', aggfunc='sum')\n",
        "na_sales_by_platform.reset_index(inplace=True)\n",
        "na_sales_by_platform.columns = ['platform', 'na_sales']\n",
        "na_sales_by_platform = na_sales_by_platform.sort_values(by='na_sales', ascending=False)\n",
        "na_sales_by_platform\n",
        "\n",
        "fig, ax = plt.subplots(figsize=(12, 6))\n",
        "\n",
        "plots = sns.barplot(data=na_sales_by_platform.head(5), x='platform', y='na_sales', ax=ax)\n",
        "\n",
        "for bar in plots.patches:\n",
        "   \n",
        "    plots.annotate(format(bar.get_height(), '.2f'),\n",
        "                   (bar.get_x() + bar.get_width() / 2,\n",
        "                    bar.get_height()), ha='center', va='center',\n",
        "                   size=8, xytext=(0, 8),\n",
        "                   textcoords='offset points')\n",
        "\n",
        "plt.xticks(rotation=45)\n",
        "plt.title('North America Sales by Platform', size=16)\n",
        "plt.xlabel('Platform', size=14)\n",
        "plt.ylabel('Sales of Games in North America', size=14)\n",
        "plt.show()"
      ]
    },
    {
      "cell_type": "markdown",
      "metadata": {
        "id": "5M03y_9OTY_a"
      },
      "source": [
        "Penjualan `games` dengan `platform X360` paling tinggi di area `North America`. Disusul oleh `Wii` dan `PS3`."
      ]
    },
    {
      "cell_type": "markdown",
      "metadata": {
        "id": "LkGANPMUTY_b"
      },
      "source": [
        "#### Europe Sales by Platform"
      ]
    },
    {
      "cell_type": "code",
      "execution_count": null,
      "metadata": {
        "id": "AqFGjVTjTY_c",
        "outputId": "7216422d-16cf-44f1-cfbb-e984c4b76630"
      },
      "outputs": [
        {
          "data": {
            "image/png": "[encoded data removed]",
            "text/plain": [
              "<Figure size 864x432 with 1 Axes>"
            ]
          },
          "metadata": {
            "needs_background": "light"
          },
          "output_type": "display_data"
        }
      ],
      "source": [
        "na_sales_by_platform = df_active_platforms.pivot_table(index='platform', values='eu_sales', aggfunc='sum')\n",
        "na_sales_by_platform.reset_index(inplace=True)\n",
        "na_sales_by_platform.columns = ['platform', 'eu_sales']\n",
        "na_sales_by_platform = na_sales_by_platform.sort_values(by='eu_sales', ascending=False)\n",
        "na_sales_by_platform\n",
        "\n",
        "fig, ax = plt.subplots(figsize=(12, 6))\n",
        "\n",
        "plots = sns.barplot(data=na_sales_by_platform.head(5), x='platform', y='eu_sales', ax=ax)\n",
        "\n",
        "for bar in plots.patches:\n",
        "   \n",
        "    plots.annotate(format(bar.get_height(), '.2f'),\n",
        "                   (bar.get_x() + bar.get_width() / 2,\n",
        "                    bar.get_height()), ha='center', va='center',\n",
        "                   size=8, xytext=(0, 8),\n",
        "                   textcoords='offset points')\n",
        "\n",
        "plt.xticks(rotation=45)\n",
        "plt.title('Europe Sales by Platform', size=16)\n",
        "plt.xlabel('Platform', size=14)\n",
        "plt.ylabel('Sales of Games in North Europe', size=14)\n",
        "plt.show()"
      ]
    },
    {
      "cell_type": "markdown",
      "metadata": {
        "id": "9pfk7dOBTY_c"
      },
      "source": [
        "Berbeda dengan di `North America` di `Europe` `PS3` memimpin penjualan tertinggi. Disusul oleh `platform` `X360` dan `Wii`. Namun nilai penjualan tertinggi di `North America` masih lebih tinggi, hampir 2x lipatnya dibandingkan di `Europe`. Selain itu hal menarik lainnya pejualan di `platform` `PC` dan `PS4` di `Europe` lebih tinggi dibandingkan di `North America`. "
      ]
    },
    {
      "cell_type": "markdown",
      "metadata": {
        "id": "KOqB8wBlTY_d"
      },
      "source": [
        "#### Japan Sales by Platform"
      ]
    },
    {
      "cell_type": "code",
      "execution_count": null,
      "metadata": {
        "id": "1X2mNWqkTY_d",
        "outputId": "dff96a1f-d47c-45ce-d423-902c15a651ed"
      },
      "outputs": [
        {
          "data": {
            "image/png": "[encoded data removed]",
            "text/plain": [
              "<Figure size 864x432 with 1 Axes>"
            ]
          },
          "metadata": {
            "needs_background": "light"
          },
          "output_type": "display_data"
        }
      ],
      "source": [
        "jp_sales_by_platform = df_active_platforms.pivot_table(index='platform', values='jp_sales', aggfunc='sum')\n",
        "jp_sales_by_platform.reset_index(inplace=True)\n",
        "jp_sales_by_platform.columns = ['platform', 'jp_sales']\n",
        "jp_sales_by_platform = jp_sales_by_platform.sort_values(by='jp_sales', ascending=False)\n",
        "jp_sales_by_platform\n",
        "\n",
        "fig, ax = plt.subplots(figsize=(12, 6))\n",
        "\n",
        "plots = sns.barplot(data=jp_sales_by_platform.head(5), x='platform', y='jp_sales', ax=ax)\n",
        "\n",
        "for bar in plots.patches:\n",
        "   \n",
        "    plots.annotate(format(bar.get_height(), '.2f'),\n",
        "                   (bar.get_x() + bar.get_width() / 2,\n",
        "                    bar.get_height()), ha='center', va='center',\n",
        "                   size=8, xytext=(0, 8),\n",
        "                   textcoords='offset points')\n",
        "\n",
        "plt.xticks(rotation=45)\n",
        "plt.title('Japan Sales by Platform', size=16)\n",
        "plt.xlabel('Platform', size=14)\n",
        "plt.ylabel('Sales of Games in Japan', size=14)\n",
        "plt.show()"
      ]
    },
    {
      "cell_type": "markdown",
      "metadata": {
        "id": "eME4I13rTY_d"
      },
      "source": [
        "`Japan` lebih unik. Sangat berbeda dengan di `North America` dan `Europe`. Lima besar `platform` di `North America` dan `Europe` masih sama, hanya urutannya yang berbeda. Sedangkan di `Japan` berbeda. Platform `3DS` memimpin di penjualan tertinggi, disusul oleh `PS3` dan `Wii`. Platform `3DS` tidak pernah muncul di wilayah lain memimipin di wilayan `Japan`, sedangkan platform `PC` dan `X360` yang muncul di lima besar pada wilayar `North America` dan `Europe` tidak muncul sama sekali di wilayah `Japan`. \n",
        "\n",
        "Selain itu `platform` `PS3`, `Wii`, dan `PS4` selalu muncul didalam lima besar `platform` terlaris di berbagai wilayah. Artinya ketiga `platform` tersebut disukai oleh gamers dari berbagai belahan dunia."
      ]
    },
    {
      "cell_type": "markdown",
      "metadata": {
        "id": "L2QoxTS4TY_e"
      },
      "source": [
        "### Genre"
      ]
    },
    {
      "cell_type": "markdown",
      "metadata": {
        "id": "hYs9t80jTY_e"
      },
      "source": [
        "#### North America Sales by Genre"
      ]
    },
    {
      "cell_type": "code",
      "execution_count": null,
      "metadata": {
        "id": "GjxUcZgCTY_e",
        "outputId": "bafc0adb-a781-4956-ee99-a5dad7146dab"
      },
      "outputs": [
        {
          "data": {
            "image/png": "[encoded data removed]",
            "text/plain": [
              "<Figure size 864x432 with 1 Axes>"
            ]
          },
          "metadata": {
            "needs_background": "light"
          },
          "output_type": "display_data"
        }
      ],
      "source": [
        "na_sales_by_genre = df_active_platforms.pivot_table(index='genre', values='na_sales', aggfunc='sum')\n",
        "na_sales_by_genre.reset_index(inplace=True)\n",
        "na_sales_by_genre.columns = ['genre', 'na_sales']\n",
        "na_sales_by_genre = na_sales_by_genre.sort_values(by='na_sales', ascending=False)\n",
        "na_sales_by_genre\n",
        "\n",
        "fig, ax = plt.subplots(figsize=(12, 6))\n",
        "\n",
        "plots = sns.barplot(data=na_sales_by_genre.head(5), x='genre', y='na_sales', ax=ax)\n",
        "\n",
        "for bar in plots.patches:\n",
        "   \n",
        "    plots.annotate(format(bar.get_height(), '.2f'),\n",
        "                   (bar.get_x() + bar.get_width() / 2,\n",
        "                    bar.get_height()), ha='center', va='center',\n",
        "                   size=8, xytext=(0, 8),\n",
        "                   textcoords='offset points')\n",
        "\n",
        "plt.xticks(rotation=45)\n",
        "plt.title('North America Sales by Genre', size=16)\n",
        "plt.xlabel('Genre', size=14)\n",
        "plt.ylabel('Sales of Games in North America', size=14)\n",
        "plt.show()"
      ]
    },
    {
      "cell_type": "markdown",
      "metadata": {
        "id": "nujIj3GuTY_f"
      },
      "source": [
        "Tren penjualan berdasarkan `genre` pada wilayah `North America` sama dengan tren global. Hal Tersebut mungkin dikarenakan nilai penjualan di `North America` yang besar sehingga mempengaruhi tren penjualan global. "
      ]
    },
    {
      "cell_type": "markdown",
      "metadata": {
        "id": "fkZj6VTNTY_f"
      },
      "source": [
        "#### Europe Sales by Genre"
      ]
    },
    {
      "cell_type": "code",
      "execution_count": null,
      "metadata": {
        "scrolled": false,
        "id": "yZptpPBtTY_f",
        "outputId": "adfed61a-471a-4912-e164-4fbd7e4bb71b"
      },
      "outputs": [
        {
          "data": {
            "image/png": "[encoded data removed]",
            "text/plain": [
              "<Figure size 864x432 with 1 Axes>"
            ]
          },
          "metadata": {
            "needs_background": "light"
          },
          "output_type": "display_data"
        }
      ],
      "source": [
        "eu_sales_by_genre = df_active_platforms.pivot_table(index='genre', values='eu_sales', aggfunc='sum')\n",
        "eu_sales_by_genre.reset_index(inplace=True)\n",
        "eu_sales_by_genre.columns = ['genre', 'eu_sales']\n",
        "eu_sales_by_genre = eu_sales_by_genre.sort_values(by='eu_sales', ascending=False)\n",
        "eu_sales_by_genre\n",
        "\n",
        "fig, ax = plt.subplots(figsize=(12, 6))\n",
        "\n",
        "plots = sns.barplot(data=eu_sales_by_genre.head(5), x='genre', y='eu_sales', ax=ax)\n",
        "\n",
        "for bar in plots.patches:\n",
        "   \n",
        "    plots.annotate(format(bar.get_height(), '.2f'),\n",
        "                   (bar.get_x() + bar.get_width() / 2,\n",
        "                    bar.get_height()), ha='center', va='center',\n",
        "                   size=8, xytext=(0, 8),\n",
        "                   textcoords='offset points')\n",
        "\n",
        "plt.xticks(rotation=45)\n",
        "plt.title('Europe Sales by Genre', size=16)\n",
        "plt.xlabel('Genre', size=14)\n",
        "plt.ylabel('Sales of Games in Europe', size=14)\n",
        "plt.show()"
      ]
    },
    {
      "cell_type": "markdown",
      "metadata": {
        "id": "CucmLtrxTY_g"
      },
      "source": [
        "Tren penjualan di wilayah `Europe` sedikit berbeda dengan tren penjualan `global` dan `North America`. Pada wilayah `Europe` `genre` terlaris kelima merupakan `racing`. Sedangkan pada penjualan global dan `North America` diisi oleh `genre` `Role Playing`."
      ]
    },
    {
      "cell_type": "markdown",
      "metadata": {
        "id": "kQtj9XmMTY_g"
      },
      "source": [
        "#### Japan Sales by Genre"
      ]
    },
    {
      "cell_type": "code",
      "execution_count": null,
      "metadata": {
        "id": "Hc-Yq3s5TY_h",
        "outputId": "6d236e49-b61a-414f-db7f-f37f018f32b7"
      },
      "outputs": [
        {
          "data": {
            "image/png": "[encoded data removed]",
            "text/plain": [
              "<Figure size 864x432 with 1 Axes>"
            ]
          },
          "metadata": {
            "needs_background": "light"
          },
          "output_type": "display_data"
        }
      ],
      "source": [
        "jp_sales_by_genre = df_active_platforms.pivot_table(index='genre', values='jp_sales', aggfunc='sum')\n",
        "jp_sales_by_genre.reset_index(inplace=True)\n",
        "jp_sales_by_genre.columns = ['genre', 'jp_sales']\n",
        "jp_sales_by_genre = jp_sales_by_genre.sort_values(by='jp_sales', ascending=False)\n",
        "jp_sales_by_genre\n",
        "\n",
        "fig, ax = plt.subplots(figsize=(12, 6))\n",
        "\n",
        "plots = sns.barplot(data=jp_sales_by_genre.head(5), x='genre', y='jp_sales', ax=ax)\n",
        "\n",
        "for bar in plots.patches:\n",
        "   \n",
        "    plots.annotate(format(bar.get_height(), '.2f'),\n",
        "                   (bar.get_x() + bar.get_width() / 2,\n",
        "                    bar.get_height()), ha='center', va='center',\n",
        "                   size=8, xytext=(0, 8),\n",
        "                   textcoords='offset points')\n",
        "\n",
        "plt.xticks(rotation=45)\n",
        "plt.title('Japan Sales by Genre', size=16)\n",
        "plt.xlabel('Genre', size=14)\n",
        "plt.ylabel('Sales of Games in Japan', size=14)\n",
        "plt.show()"
      ]
    },
    {
      "cell_type": "markdown",
      "metadata": {
        "id": "Z_7DE_wdTY_h"
      },
      "source": [
        "Seperti pada saat melihat penjualan berdasarkan `platform`, penjualan di wilayah `Japan` berdasarkan `genre` memiliki tren yang berbeda dibandingkan dengan tren global, `North America`, dan `Europe`. Penjualan tertinggi di `Japan`  adalah `genre` `Role Playing`, disusul oleh `Action` dan `Sports`. `Genre` `Platform` masuk kedalam lima besar `genre` terlaris hanya terjadi di wilayah `Japan`. Artinya tren penjualan di `Japan` lebih unik dibandingkan tren di wilayah lainnya. \n",
        "\n",
        "Selain itu, `Genre` `sports`, `action`, dan `misc` konsisten masuk lima besar di ketiga wilayah tersebut. Artinya ketiga `genre` disukai oleh gamers dari berbagai wilayah. "
      ]
    },
    {
      "cell_type": "markdown",
      "metadata": {
        "id": "NNId48wxTY_i"
      },
      "source": [
        "### Rating"
      ]
    },
    {
      "cell_type": "markdown",
      "metadata": {
        "id": "SLnquyRwTY_i"
      },
      "source": [
        "Saya membutuhkan data penjualan global berdasarkan `rating` sebagai pembanding di bagian wilayah lainnya. Karena belum dilakukan sebelumnya, saya akan membuat `chart` globalnya terlebih dahulu."
      ]
    },
    {
      "cell_type": "code",
      "execution_count": null,
      "metadata": {
        "id": "sCWQGqChTY_i",
        "outputId": "6a8185b3-a94b-48f2-b587-58de48d38d6f"
      },
      "outputs": [
        {
          "data": {
            "image/png": "[encoded data removed]",
            "text/plain": [
              "<Figure size 864x432 with 1 Axes>"
            ]
          },
          "metadata": {
            "needs_background": "light"
          },
          "output_type": "display_data"
        }
      ],
      "source": [
        "sales_by_rating = df_active_platforms.pivot_table(index='rating', values='tot_sales', aggfunc='sum')\n",
        "sales_by_rating.reset_index(inplace=True)\n",
        "sales_by_rating.columns = ['rating', 'sales']\n",
        "sales_by_rating = sales_by_rating.sort_values(by='sales', ascending=False)\n",
        "sales_by_rating\n",
        "\n",
        "fig, ax = plt.subplots(figsize=(12, 6))\n",
        "\n",
        "plots = sns.barplot(data=sales_by_rating, x='rating', y='sales', ax=ax)\n",
        "\n",
        "for bar in plots.patches:\n",
        "   \n",
        "    plots.annotate(format(bar.get_height(), '.2f'),\n",
        "                   (bar.get_x() + bar.get_width() / 2,\n",
        "                    bar.get_height()), ha='center', va='center',\n",
        "                   size=8, xytext=(0, 8),\n",
        "                   textcoords='offset points')\n",
        "\n",
        "plt.xticks(rotation=45)\n",
        "plt.title('Global Sales by Rating', size=16)\n",
        "plt.xlabel('Rating', size=14)\n",
        "plt.ylabel('Global Sales', size=14)\n",
        "plt.show()"
      ]
    },
    {
      "cell_type": "markdown",
      "metadata": {
        "id": "MczVKC9VTY_j"
      },
      "source": [
        "#### North America Sales by Rating"
      ]
    },
    {
      "cell_type": "code",
      "execution_count": null,
      "metadata": {
        "id": "52ejt9BFTY_j",
        "outputId": "c14f7b37-0923-44e4-d6d9-d3bc71cef88c"
      },
      "outputs": [
        {
          "data": {
            "image/png": "[encoded data removed]",
            "text/plain": [
              "<Figure size 864x432 with 1 Axes>"
            ]
          },
          "metadata": {
            "needs_background": "light"
          },
          "output_type": "display_data"
        }
      ],
      "source": [
        "na_sales_by_rating = df_active_platforms.pivot_table(index='rating', values='na_sales', aggfunc='sum')\n",
        "na_sales_by_rating.reset_index(inplace=True)\n",
        "na_sales_by_rating.columns = ['rating', 'na_sales']\n",
        "na_sales_by_rating = na_sales_by_rating.sort_values(by='na_sales', ascending=False)\n",
        "na_sales_by_rating\n",
        "\n",
        "fig, ax = plt.subplots(figsize=(12, 6))\n",
        "\n",
        "plots = sns.barplot(data=na_sales_by_rating.head(5), x='rating', y='na_sales', ax=ax)\n",
        "\n",
        "for bar in plots.patches:\n",
        "   \n",
        "    plots.annotate(format(bar.get_height(), '.2f'),\n",
        "                   (bar.get_x() + bar.get_width() / 2,\n",
        "                    bar.get_height()), ha='center', va='center',\n",
        "                   size=8, xytext=(0, 8),\n",
        "                   textcoords='offset points')\n",
        "\n",
        "plt.xticks(rotation=45)\n",
        "plt.title('North America Sales by Rating', size=16)\n",
        "plt.xlabel('Rating', size=14)\n",
        "plt.ylabel('Sales of Games in North America', size=14)\n",
        "plt.show()"
      ]
    },
    {
      "cell_type": "markdown",
      "metadata": {
        "id": "2KJQfuuTTY_j"
      },
      "source": [
        "Tren penjualan berdasarkan `rating` di wilayah `North America` serupa dengan tren global. Kemungkinan karena nilai penjualan di wilayah `North America` yang besar trennya serupa dengan penjualan global. "
      ]
    },
    {
      "cell_type": "markdown",
      "metadata": {
        "id": "10N7yi7BTY_k"
      },
      "source": [
        "#### Europe Sales by Rating"
      ]
    },
    {
      "cell_type": "code",
      "execution_count": null,
      "metadata": {
        "id": "Sy8EJiZFTY_k",
        "outputId": "b386c952-85c1-4e4f-b76f-248e2bdcbb27"
      },
      "outputs": [
        {
          "data": {
            "image/png": "[encoded data removed]",
            "text/plain": [
              "<Figure size 864x432 with 1 Axes>"
            ]
          },
          "metadata": {
            "needs_background": "light"
          },
          "output_type": "display_data"
        }
      ],
      "source": [
        "eu_sales_by_rating = df_active_platforms.pivot_table(index='rating', values='eu_sales', aggfunc='sum')\n",
        "eu_sales_by_rating.reset_index(inplace=True)\n",
        "eu_sales_by_rating.columns = ['rating', 'eu_sales']\n",
        "eu_sales_by_rating = eu_sales_by_rating.sort_values(by='eu_sales', ascending=False)\n",
        "eu_sales_by_rating\n",
        "\n",
        "fig, ax = plt.subplots(figsize=(12, 6))\n",
        "\n",
        "plots = sns.barplot(data=eu_sales_by_rating.head(5), x='rating', y='eu_sales', ax=ax)\n",
        "\n",
        "for bar in plots.patches:\n",
        "   \n",
        "    plots.annotate(format(bar.get_height(), '.2f'),\n",
        "                   (bar.get_x() + bar.get_width() / 2,\n",
        "                    bar.get_height()), ha='center', va='center',\n",
        "                   size=8, xytext=(0, 8),\n",
        "                   textcoords='offset points')\n",
        "\n",
        "plt.xticks(rotation=45)\n",
        "plt.title('Europe Sales by Rating', size=16)\n",
        "plt.xlabel('Rating', size=14)\n",
        "plt.ylabel('Sales of Games in Europe', size=14)\n",
        "plt.show()"
      ]
    },
    {
      "cell_type": "markdown",
      "metadata": {
        "id": "vVl1zlRoTY_k"
      },
      "source": [
        "Tren penjualan bedasarkan `rating` paling tinggi dipimpin oleh `genre` `M`, lu disusul `E`, `T`, `E10+`, dan `K-A`. Hal tersebut serupa dengan tren penjualan global dan wilayah `North America`."
      ]
    },
    {
      "cell_type": "markdown",
      "metadata": {
        "id": "shC_ZiqWTY_l"
      },
      "source": [
        "#### Japan Sales by Rating"
      ]
    },
    {
      "cell_type": "code",
      "execution_count": null,
      "metadata": {
        "id": "5IZuxth7TY_q",
        "outputId": "16874d20-59fb-4a2f-fc0d-1f0fe8d0f66d"
      },
      "outputs": [
        {
          "data": {
            "image/png": "[encoded data removed]",
            "text/plain": [
              "<Figure size 864x432 with 1 Axes>"
            ]
          },
          "metadata": {
            "needs_background": "light"
          },
          "output_type": "display_data"
        }
      ],
      "source": [
        "jp_sales_by_rating = df_active_platforms.pivot_table(index='rating', values='jp_sales', aggfunc='sum')\n",
        "jp_sales_by_rating.reset_index(inplace=True)\n",
        "jp_sales_by_rating.columns = ['rating', 'jp_sales']\n",
        "jp_sales_by_rating = jp_sales_by_rating.sort_values(by='jp_sales', ascending=False)\n",
        "jp_sales_by_rating\n",
        "\n",
        "fig, ax = plt.subplots(figsize=(12, 6))\n",
        "\n",
        "plots = sns.barplot(data=jp_sales_by_rating.head(5), x='rating', y='jp_sales', ax=ax)\n",
        "\n",
        "for bar in plots.patches:\n",
        "   \n",
        "    plots.annotate(format(bar.get_height(), '.2f'),\n",
        "                   (bar.get_x() + bar.get_width() / 2,\n",
        "                    bar.get_height()), ha='center', va='center',\n",
        "                   size=8, xytext=(0, 8),\n",
        "                   textcoords='offset points')\n",
        "\n",
        "plt.xticks(rotation=45)\n",
        "plt.title('Japan Sales by Rating', size=16)\n",
        "plt.xlabel('Rating', size=14)\n",
        "plt.ylabel('Sales of Games in Japan', size=14)\n",
        "plt.show()"
      ]
    },
    {
      "cell_type": "markdown",
      "metadata": {
        "id": "AOp6XAkGTY_q"
      },
      "source": [
        "Tren penjualan berdasarkan `rating` di wilayah `Jepang` sedikit berbeda. `Rating` paling laris game dengan `rating` `E`, disusul oleh `T`, `M`, `E10+`, dan `EC`. Artinya gamers di wilayah `Japan` lebih menggemari game dengan `Rating` `E`. Sedangkan game dengan `rating` `M` yang paling digermari di berbagai wilayah, tidak sebegitu digemarinya di wilayah `Japan`. "
      ]
    },
    {
      "cell_type": "markdown",
      "metadata": {
        "id": "8O_o18hQTY_r"
      },
      "source": [
        "## Uji Hipotesis"
      ]
    },
    {
      "cell_type": "markdown",
      "metadata": {
        "id": "aQhj6eHmTY_r"
      },
      "source": [
        "### Rating Pengguna Xbox One Dibandingkan dengan Rating Pengguna PC  "
      ]
    },
    {
      "cell_type": "markdown",
      "metadata": {
        "id": "PK6T9ckwTY_r"
      },
      "source": [
        "Sekarang saatnya menguji hipotesis. Saya ingin mengetahui apakah ada perbedaan rata-rata `rating pengguna` `Xbox One` dengan rata-rata `rating pengguna` `PC`. Pertama saya akan merumuskan hipotesisnya.\n",
        "\n",
        "- Hipotesis Nol: Rata-Rata Rating Pengguna Xbox One Sama Dibandingkan dengan Rata-Rata Rating Pengguna PC.\n",
        "- Hipotesis Alternatif: Rata-Rata Rating Pengguna Xbox One Tidak Sama Dibandingkan dengan Rata-Rata Rating Pengguna PC.\n",
        "\n",
        "Nilai `alpha` yang digunakan adalah `5%`. Nilai tersebut yang ditentukan karena batas signifikansi `5%` umum digunakan dalam penelitian ilmu sosial, sehingga batas nilai tersebut menurut saya cukup.  "
      ]
    },
    {
      "cell_type": "code",
      "execution_count": null,
      "metadata": {
        "id": "HbKBkN2QTY_s"
      },
      "outputs": [],
      "source": [
        "df_active_platforms_xone = df_active_platforms.loc[(df_active_platforms['platform'] == 'XOne') & (df_active_platforms['user_score'] >= 0)].copy()\n",
        "df_active_platforms_pc = df_active_platforms.loc[(df_active_platforms['platform'] == 'PC') & (df_active_platforms['user_score'] >= 0)].copy()\n",
        "\n",
        "def h_testing_ind(samp1, samp2, alpha, tail) :\n",
        "    result = ttest_ind(samp1, samp2)\n",
        "    pval = result.pvalue\n",
        "    \n",
        "    if tail == 1 :\n",
        "        if (samp1.mean() > samp2.mean()) and (alpha > pval):\n",
        "            print('P-Value adalah: '+ str(pval/2))\n",
        "            print ('Kita menolak hipotesis nol')\n",
        "            return\n",
        "        else :\n",
        "            print('P-Value adalah: '+ str(pval/2))\n",
        "            print ('Kita tidak dapat menolak hipotesis nol')\n",
        "            return\n",
        "    elif tail == 2:\n",
        "        if alpha > pval :\n",
        "            print('P-Value adalah: '+ str(pval))\n",
        "            print ('Kita menolak hipotesis nol')\n",
        "            return\n",
        "        else :\n",
        "            print('P-Value adalah: '+ str(pval))\n",
        "            print ('Kita tidak dapat menolak hipotesis nol')\n",
        "            return\n",
        "    else :\n",
        "        print('Error, parameter tail hanya antara 1 atau 2')\n",
        "        return"
      ]
    },
    {
      "cell_type": "code",
      "execution_count": null,
      "metadata": {
        "id": "B8Mono71TY_t",
        "outputId": "9eac1a83-39f3-4e82-ce06-2f1c8957633e"
      },
      "outputs": [
        {
          "name": "stdout",
          "output_type": "stream",
          "text": [
            "P-Value adalah: 1.3896435533548819e-05\n",
            "Kita menolak hipotesis nol\n"
          ]
        }
      ],
      "source": [
        "h_testing_ind(df_active_platforms_xone['user_score'], df_active_platforms_pc['user_score'], 0.05, 2)"
      ]
    },
    {
      "cell_type": "markdown",
      "metadata": {
        "id": "UGAqu4evTY_t"
      },
      "source": [
        "`P-Value`nya jauh lebih kecil dari nilai `alpha`, artinya `rata-rata rating pengguna` pada `gamers` `Xbox One` tidak sama dengan `rata-rata rating pengguna` pada `gamers` `PC`. Saya akan melihat bagaimana rata-ratanya."
      ]
    },
    {
      "cell_type": "code",
      "execution_count": null,
      "metadata": {
        "id": "cnRc7jPoTY_t",
        "outputId": "b4496fc7-5656-4b50-f570-edbfbcaa0241"
      },
      "outputs": [
        {
          "name": "stdout",
          "output_type": "stream",
          "text": [
            "Rata-rata rating gamers Xbox One: 6.521428571428572\n",
            "Rata-rata rating gamers PC: 7.062467532467533\n"
          ]
        }
      ],
      "source": [
        "xone_user_rating_mean = df_active_platforms_xone['user_score'].mean()\n",
        "pc_user_rating_mean = df_active_platforms_pc['user_score'].mean()\n",
        "\n",
        "print('Rata-rata rating gamers Xbox One: '+ str(xone_user_rating_mean))\n",
        "print('Rata-rata rating gamers PC: '+ str(pc_user_rating_mean))"
      ]
    },
    {
      "cell_type": "markdown",
      "metadata": {
        "id": "Cg3eOrVBTY_t"
      },
      "source": [
        "Ternyata `rata-rata` `rating pengguna` `PC` lebih tinggi dibandingkan dengan `Xbox One`. Artinya gamers lebih menikmati pengalaman bermain di `PC` dibandingkan bermain di `Xbox One`."
      ]
    },
    {
      "cell_type": "markdown",
      "metadata": {
        "id": "fzcTOeIETY_t"
      },
      "source": [
        "### Rating Pengguna Genre Action Dibandingkan dengan Rating Pengguna Genre  Sports"
      ]
    },
    {
      "cell_type": "markdown",
      "metadata": {
        "id": "OcTDob9aTY_u"
      },
      "source": [
        "`Genre` `Action` dan `Sports` selalu masuk dalam peringkat lima besar nilai penjualan terbesar baik secara global maupun wilayah. Karena itu saya akan menguji secara statistik apakah ada perbedaan rating Pengguna dari kedua genre tersebut. Sebelum memulai pengujian statistik, saya akan membuat hipotesisnya.\n",
        "\n",
        "- Hipotesis Nol: Rata-Rata Rating Pengguna dari Game dengan Genre Action Sama Dibandingkan dengan Rata-Rata Rating Pengguna dari Game dengan Genre Sports.\n",
        "- Hipotesis Alternatif: Rata-Rata Rating Pengguna dari Game dengan Genre Action Tidak Sama Dibandingkan dengan Rata-Rata Rating Pengguna dari Game dengan Genre Sports."
      ]
    },
    {
      "cell_type": "code",
      "execution_count": null,
      "metadata": {
        "id": "6XX6ue3WTY_u",
        "outputId": "0631f063-b1ad-4fb1-e052-6d2e0d3c92df"
      },
      "outputs": [
        {
          "name": "stdout",
          "output_type": "stream",
          "text": [
            "P-Value adalah: 5.36536965784183e-18\n",
            "Kita menolak hipotesis nol\n"
          ]
        }
      ],
      "source": [
        "df_active_platforms_action = df_active_platforms.loc[(df_active_platforms['genre'] == 'Action') & (df_active_platforms['user_score'] >= 0)].copy()\n",
        "df_active_platforms_sports = df_active_platforms.loc[(df_active_platforms['genre'] == 'Sports') & (df_active_platforms['user_score'] >= 0)].copy()\n",
        "\n",
        "h_testing_ind(df_active_platforms_action['user_score'], df_active_platforms_sports['user_score'], 0.05, 2)"
      ]
    },
    {
      "cell_type": "markdown",
      "metadata": {
        "id": "mO91ejbbTY_u"
      },
      "source": [
        "Nilai `P-Value` nya jauh lebih kecil dari nilai `alpha`nya. Artinya ada perbedaan rata-rata rating pengguna game dengan `genre` `action` dengan game dengan `genre` `sports`. Selanjutnya saya ingin melihat rata-ratanya. "
      ]
    },
    {
      "cell_type": "code",
      "execution_count": null,
      "metadata": {
        "id": "IxrGT5EfTY_u",
        "outputId": "ed66933b-31fe-435e-a4e6-cbda9a7c2867"
      },
      "outputs": [
        {
          "name": "stdout",
          "output_type": "stream",
          "text": [
            "Rata-rata rating pengguna game dengan genre action: 6.883706356311549\n",
            "Rata-rata rating pengguna game dengan genre sports: 6.2188888888888885\n"
          ]
        }
      ],
      "source": [
        "action_user_rating_mean = df_active_platforms_action['user_score'].mean()\n",
        "sports_user_rating_mean = df_active_platforms_sports['user_score'].mean()\n",
        "\n",
        "print('Rata-rata rating pengguna game dengan genre action: '+ str(action_user_rating_mean))\n",
        "print('Rata-rata rating pengguna game dengan genre sports: '+ str(sports_user_rating_mean))"
      ]
    },
    {
      "cell_type": "markdown",
      "metadata": {
        "id": "nNmkM449TY_u"
      },
      "source": [
        "Ternyata rata-rata rating pengguna game dengan `genre` `action` lebih tinggi dibandingkan dengan `genre` `sports`. Hal tersebut menegaskan kenapa game dengan genre `action` lebih laris di pasaran berbagai belahan dunia. Karena artinya lebih banyak gamers yang menyukai bermain game dengan `genre` `action` dibandingkan `genre` `sports`.  "
      ]
    },
    {
      "cell_type": "markdown",
      "metadata": {
        "id": "tpV8n2PYTY_v"
      },
      "source": [
        "## Kesimpulan"
      ]
    },
    {
      "cell_type": "markdown",
      "metadata": {
        "id": "46QqPi-3TY_v"
      },
      "source": [
        "Berdasarkan dari berbagai eksplorasi dan analisa data yang telah dilakukan, saya menemukan beberapa poin. Poin pertama adalah `platform` memiliki peranan dalam penjualan suatu `game`. Dari 9 `platform` yang masih membukukan penjualan di tahun `2016`, `X360`, `PS3`, dan `Wii` masih memimpin nilai penjualan. Namun kami menyarankan lebih baik berfokus ke `platform` digenerasi selanjutnya, yaitu `XOne`, `PS4`, dan `WiiU`. Karena berdasarkan data penjualan dari `platform` terlaris hingga 2016, `PS2`. Setiap `platform` memiliki fasenya dan `X360`, `PS3`, dan `Wii` telah memasuki fase penurunan. Selain itu `platform` `XBox` dan `Playstation` cenderung memiliki game yang dapat dimainkan di kedua `platform` tersebut. Sedangkan pada `Wii` cenderung memiliki game yang ekslusif hanya bisa dimainkan pada `platform` `Wii`.\n",
        "\n",
        "Poin kedua, dari segi wilayah `North America` memiliki nilai penjualan tertinggi dan tren penjualannya sangat mirip dengan tren penjualan global. Tren penjualan yang dimaksud adalah dari aspek `platform` dan `Genre`. Kemiripan tren di `North America` dengan global mungkin dikarenakan karena penjualan dari wilayan `North America` memiliki proporsi yang besar dalam nilai penjualan global. `Europe` cenderung mirip dengan `North America`, sedangkan `Japan` cenderung lebih unik dan berbeda. Karena itu, ketika ingin memasuki pasar game wilayah `Japan`, perlu pendekatan yang berbeda.\n",
        "\n",
        "Poin ketiga adalah pada uji hipotesis menunjukan rata-rata rating pengguna platform `PC` dan genre `Action` berbeda dan lebih tinggi dibandingkan platform `Xbox One` dan genre `Sports`. Dari segi penjualan  platform `PC` dan genre `Action` juga lebih tinggi dibandingkan platform `Xbox One` dan genre `Sports`. Hasil uji hipotesis menunjukan sepertinya rating pengguna berpengaruh terhadap nilai penjualan. Namun dari uji korelasi pada platform `PS4` menunjukan tidak ada korelasi antara rating pengguna dengan nilai penjualan. Artinya tidak dalam setiap kondisi rating pengguna dapat berpengaruh terhadap penjualan.  "
      ]
    }
  ],
  "metadata": {
    "kernelspec": {
      "display_name": "Python 3 (ipykernel)",
      "language": "python",
      "name": "python3"
    },
    "language_info": {
      "codemirror_mode": {
        "name": "ipython",
        "version": 3
      },
      "file_extension": ".py",
      "mimetype": "text/x-python",
      "name": "python",
      "nbconvert_exporter": "python",
      "pygments_lexer": "ipython3",
      "version": "3.9.5"
    },
    "toc": {
      "base_numbering": 1,
      "nav_menu": {
        "height": "507px",
        "width": "755px"
      },
      "number_sections": true,
      "sideBar": true,
      "skip_h1_title": true,
      "title_cell": "Table of Contents",
      "title_sidebar": "Contents",
      "toc_cell": false,
      "toc_position": {},
      "toc_section_display": true,
      "toc_window_display": false
    },
    "colab": {
      "provenance": [],
      "include_colab_link": true
    }
  },
  "nbformat": 4,
  "nbformat_minor": 0
}